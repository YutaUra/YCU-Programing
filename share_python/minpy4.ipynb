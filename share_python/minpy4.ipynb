{
 "cells": [
  {
   "cell_type": "markdown",
   "metadata": {},
   "source": [
    "# <文字列型のメソッド>"
   ]
  },
  {
   "cell_type": "markdown",
   "metadata": {},
   "source": [
    "## ①replace():文字列の一部を別の文字列に置き換える"
   ]
  },
  {
   "cell_type": "code",
   "execution_count": 9,
   "metadata": {},
   "outputs": [
    {
     "name": "stdout",
     "output_type": "stream",
     "text": [
      "横浜市立大学\n"
     ]
    },
    {
     "data": {
      "text/plain": [
       "'横浜国立大学'"
      ]
     },
     "execution_count": 9,
     "metadata": {},
     "output_type": "execute_result"
    }
   ],
   "source": [
    "univ = \"横浜市立大学\"\n",
    "print(univ)\n",
    "\n",
    "# 市を国に置き換える\n",
    "univ.replace(\"市\",\"国\")"
   ]
  },
  {
   "cell_type": "markdown",
   "metadata": {},
   "source": [
    "#### しかし、メソッド呼び出しに用いた文字列オブジェクトは変更されない。何故なら文字列はイミュータブル(変更不可)だから。"
   ]
  },
  {
   "cell_type": "code",
   "execution_count": 10,
   "metadata": {},
   "outputs": [
    {
     "name": "stdout",
     "output_type": "stream",
     "text": [
      "横浜市立大学\n"
     ]
    }
   ],
   "source": [
    "print(univ)"
   ]
  },
  {
   "cell_type": "markdown",
   "metadata": {},
   "source": [
    "#### replace()メソッドは置換だけでなく文字の削除にも使用できる"
   ]
  },
  {
   "cell_type": "code",
   "execution_count": 21,
   "metadata": {},
   "outputs": [
    {
     "name": "stdout",
     "output_type": "stream",
     "text": [
      "1,000,000\n",
      "1000000\n"
     ]
    }
   ],
   "source": [
    "my_savings = \"1,000,000\"\n",
    "print(my_savings)\n",
    "\n",
    "# 2番目の引数に空の文字列を渡しカンマを削除する\n",
    "num = int(my_savings.replace(\",\",\"\"))\n",
    "print(num)"
   ]
  },
  {
   "cell_type": "markdown",
   "metadata": {},
   "source": [
    "## ②split():文字列を特定の文字を目安にして分割する"
   ]
  },
  {
   "cell_type": "code",
   "execution_count": 22,
   "metadata": {},
   "outputs": [
    {
     "data": {
      "text/plain": [
       "['My', 'name', 'is', 'Yoshiyuki']"
      ]
     },
     "execution_count": 22,
     "metadata": {},
     "output_type": "execute_result"
    }
   ],
   "source": [
    "self_introduction = \"My name is Yoshiyuki\"\n",
    "\n",
    "# 空白ごとに分割するため半角スペース1つ分(\" \")の空白を引数に与える\n",
    "self_introduction.split(\" \")"
   ]
  },
  {
   "cell_type": "markdown",
   "metadata": {},
   "source": [
    "#### n番目まで区切り、あとは区切らないようにすることもできる。2番目の引数に値を指定してやれば良い"
   ]
  },
  {
   "cell_type": "code",
   "execution_count": 24,
   "metadata": {},
   "outputs": [
    {
     "data": {
      "text/plain": [
       "['orange', 'apple', 'lemon,banana,strawberry']"
      ]
     },
     "execution_count": 24,
     "metadata": {},
     "output_type": "execute_result"
    }
   ],
   "source": [
    "fruits = \"orange,apple,lemon,banana,strawberry\"\n",
    "\n",
    "# 2番目まで区切りあとは区切らない\n",
    "fruits.split(\",\",2)"
   ]
  },
  {
   "cell_type": "markdown",
   "metadata": {},
   "source": [
    "## ③join():文字列を要素とするリストを引数にとって、リストの文字列を連携した文字列を得ることができる"
   ]
  },
  {
   "cell_type": "code",
   "execution_count": 26,
   "metadata": {},
   "outputs": [
    {
     "data": {
      "text/plain": [
       "'桐生店長,紫村mg,漆原mg,吉田mg,日塔mg'"
      ]
     },
     "execution_count": 26,
     "metadata": {},
     "output_type": "execute_result"
    }
   ],
   "source": [
    "wfk = \"桐生店長　紫村mg　漆原mg　吉田mg　日塔mg\"\n",
    "wfk2 = wfk.split()   # デフォルトでは空白を元に分割してくれる\n",
    "\n",
    "# 空白をカンマで区切り直す\n",
    "wfk3 = \",\".join(wfk2)\n",
    "wfk3"
   ]
  },
  {
   "cell_type": "markdown",
   "metadata": {},
   "source": [
    "#### しかし例えば余分な空白があるときにreplace()を用いて削除するとその部分も置換されてしまう"
   ]
  },
  {
   "cell_type": "code",
   "execution_count": 30,
   "metadata": {},
   "outputs": [
    {
     "data": {
      "text/plain": [
       "',Inage,Tsudanuma,Funabashi,Ichikawa,'"
      ]
     },
     "execution_count": 30,
     "metadata": {},
     "output_type": "execute_result"
    }
   ],
   "source": [
    "soubu_line = \" Inage Tsudanuma Funabashi Ichikawa \"\n",
    "soubu_line.replace(\" \",\",\")\n",
    "\n",
    "# Inageの前の空白とIchiIchikawaの後ろの空白もカンマに置換されてしまった"
   ]
  },
  {
   "cell_type": "markdown",
   "metadata": {},
   "source": [
    "#### このような時split()とjoin()を駆使するときれいに置換できる"
   ]
  },
  {
   "cell_type": "code",
   "execution_count": 36,
   "metadata": {},
   "outputs": [
    {
     "data": {
      "text/plain": [
       "'Yokohama,KeikyuKawasaki,KeikyuKamata,Shinagawa'"
      ]
     },
     "execution_count": 36,
     "metadata": {},
     "output_type": "execute_result"
    }
   ],
   "source": [
    "keikyu_line = \" Yokohama  KeikyuKawasaki KeikyuKamata Shinagawa \"\n",
    "keikyu_line2 = keikyu_line.split()\n",
    "keikyu_line3 = \",\".join(keikyu_line2)\n",
    "keikyu_line3"
   ]
  },
  {
   "cell_type": "markdown",
   "metadata": {},
   "source": [
    "## ④index():文字列を検索する。第一引数に探したい文字、第二引数に開始インデックス、第三引数に終了するインデックスを指定する"
   ]
  },
  {
   "cell_type": "code",
   "execution_count": 34,
   "metadata": {},
   "outputs": [
    {
     "data": {
      "text/plain": [
       "3"
      ]
     },
     "execution_count": 34,
     "metadata": {},
     "output_type": "execute_result"
    }
   ],
   "source": [
    "irohauta = \"いろはにほへと\"\n",
    "irohauta.index(\"に\",0,6)"
   ]
  },
  {
   "cell_type": "markdown",
   "metadata": {},
   "source": [
    "# <エスケープシーケンス>\n",
    "### エスケープシーケンスとは、改行やタブを埋め込みたいときやクォーテーションを入れたいときに用いるもの"
   ]
  },
  {
   "cell_type": "markdown",
   "metadata": {},
   "source": [
    "## ①￥n:改行←(￥は本当は半角)"
   ]
  },
  {
   "cell_type": "code",
   "execution_count": 14,
   "metadata": {},
   "outputs": [
    {
     "name": "stdout",
     "output_type": "stream",
     "text": [
      "松島や\n",
      "ああ松島や\n",
      "松島や\n"
     ]
    }
   ],
   "source": [
    "print(\"松島や\\nああ松島や\\n松島や\")"
   ]
  },
  {
   "cell_type": "markdown",
   "metadata": {},
   "source": [
    "#### ちなみにこれと同じことはクォーテーション3つで囲ってもできる"
   ]
  },
  {
   "cell_type": "code",
   "execution_count": 15,
   "metadata": {},
   "outputs": [
    {
     "name": "stdout",
     "output_type": "stream",
     "text": [
      "松島や\n",
      "ああ松島や\n",
      "松島や \n"
     ]
    }
   ],
   "source": [
    "print(\"\"\"松島や\n",
    "ああ松島や\n",
    "松島や \"\"\")"
   ]
  },
  {
   "cell_type": "markdown",
   "metadata": {},
   "source": [
    "## ②￥':シングルクォーテーション"
   ]
  },
  {
   "cell_type": "code",
   "execution_count": 16,
   "metadata": {},
   "outputs": [
    {
     "name": "stdout",
     "output_type": "stream",
     "text": [
      "This game is my father's.\n"
     ]
    }
   ],
   "source": [
    "print(\"This game is my father\\'s.\")"
   ]
  },
  {
   "cell_type": "markdown",
   "metadata": {},
   "source": [
    "#### jupyterで書いてるからそもそもシングルクォーテーション3つというのがエラーになり打ち込むことすらできないのだが、インタプリンタで書けばしっかりとエラーになる"
   ]
  },
  {
   "cell_type": "markdown",
   "metadata": {},
   "source": [
    "## ③￥￥:ダブルスラッシュ"
   ]
  },
  {
   "cell_type": "markdown",
   "metadata": {},
   "source": [
    "#### これもある意味jupyter使っている限りは不要。インタプリンタで書くときのみ考慮すれば良い。ダブルクォーテーションも同じ"
   ]
  },
  {
   "cell_type": "markdown",
   "metadata": {},
   "source": [
    "# <文字列型のフォーマット>\n",
    "### format()メソッドは波括弧{}で囲んだ文字列を使ってテンプレートの中に文字列を差し込む位置を指定する。"
   ]
  },
  {
   "cell_type": "markdown",
   "metadata": {},
   "source": [
    "## 1.フォーマットに要素を埋め込む"
   ]
  },
  {
   "cell_type": "code",
   "execution_count": 1,
   "metadata": {},
   "outputs": [
    {
     "data": {
      "text/plain": [
       "'I love Python!'"
      ]
     },
     "execution_count": 1,
     "metadata": {},
     "output_type": "execute_result"
    }
   ],
   "source": [
    "\"{} love Python!\".format(\"I\")"
   ]
  },
  {
   "cell_type": "markdown",
   "metadata": {},
   "source": [
    "## 2.引数の順番を指定して埋め込む"
   ]
  },
  {
   "cell_type": "code",
   "execution_count": 2,
   "metadata": {},
   "outputs": [
    {
     "data": {
      "text/plain": [
       "'Lunch was chicken carry,dinner was beef carry.I prefer beef to chicken. '"
      ]
     },
     "execution_count": 2,
     "metadata": {},
     "output_type": "execute_result"
    }
   ],
   "source": [
    "\"Lunch was {0} carry,dinner was {1} carry.I prefer {1} to {0}. \".format(\"chicken\",\"beef\")"
   ]
  },
  {
   "cell_type": "markdown",
   "metadata": {},
   "source": [
    "## 3．キーで差し込み位置を指定する"
   ]
  },
  {
   "cell_type": "code",
   "execution_count": 3,
   "metadata": {},
   "outputs": [
    {
     "data": {
      "text/plain": [
       "'blue,yellow,red'"
      ]
     },
     "execution_count": 3,
     "metadata": {},
     "output_type": "execute_result"
    }
   ],
   "source": [
    "\"{color1},{color2},{color3}\".format(color3 = \"red\",color2 = \"yellow\",color1 = \"blue\")"
   ]
  },
  {
   "cell_type": "markdown",
   "metadata": {},
   "source": [
    "## 4．ディクショナリで指定する"
   ]
  },
  {
   "cell_type": "code",
   "execution_count": 4,
   "metadata": {},
   "outputs": [
    {
     "data": {
      "text/plain": [
       "'His favorite sport is soccer.'"
      ]
     },
     "execution_count": 4,
     "metadata": {},
     "output_type": "execute_result"
    }
   ],
   "source": [
    "a = {\"whose\":\"His\",\"sport\":\"soccer\"}\n",
    "\"{0[whose]} favorite sport is {0[sport]}.\" .format(a)"
   ]
  },
  {
   "cell_type": "code",
   "execution_count": 5,
   "metadata": {},
   "outputs": [
    {
     "data": {
      "text/plain": [
       "'Her favorite sport is tennis.'"
      ]
     },
     "execution_count": 5,
     "metadata": {},
     "output_type": "execute_result"
    }
   ],
   "source": [
    "a = {\"whose\":\"His\",\"sport\":\"soccer\"}\n",
    "b = {\"whose2\":\"Her\",\"sport2\":\"tennis\"}\n",
    "\"{0[whose2]} favorite sport is {0[sport2]}.\" .format(b)"
   ]
  },
  {
   "cell_type": "markdown",
   "metadata": {},
   "source": [
    "#### ↑正直この0というのは使い方がよくわからなかった(P179)"
   ]
  },
  {
   "cell_type": "markdown",
   "metadata": {},
   "source": [
    "## ※ f文字列\n",
    "#### format()と同じような機能を持っている"
   ]
  },
  {
   "cell_type": "code",
   "execution_count": 6,
   "metadata": {},
   "outputs": [
    {
     "data": {
      "text/plain": [
       "'君のこころは輝いてるかい？'"
      ]
     },
     "execution_count": 6,
     "metadata": {},
     "output_type": "execute_result"
    }
   ],
   "source": [
    "name = \"君\"\n",
    "f\"{name}のこころは輝いてるかい？\""
   ]
  },
  {
   "cell_type": "markdown",
   "metadata": {},
   "source": [
    "# <リスト型のメソッド>"
   ]
  },
  {
   "cell_type": "markdown",
   "metadata": {},
   "source": [
    "## ①sort():要素の並び順を入れ替えるソートを行う。デフォルトでは小さい順に並べかえる"
   ]
  },
  {
   "cell_type": "code",
   "execution_count": 8,
   "metadata": {},
   "outputs": [
    {
     "data": {
      "text/plain": [
       "[155, 159, 163, 168, 172, 183]"
      ]
     },
     "execution_count": 8,
     "metadata": {},
     "output_type": "execute_result"
    }
   ],
   "source": [
    "ds_student = [163,172,155,168,183,159]\n",
    "ds_student.sort()\n",
    "ds_student"
   ]
  },
  {
   "cell_type": "markdown",
   "metadata": {},
   "source": [
    "### reverseというキーワード引数を指定してTrueを渡すと大きい順に並びかえる(\"小さい順\"の逆(reverse)ですね)"
   ]
  },
  {
   "cell_type": "code",
   "execution_count": 11,
   "metadata": {},
   "outputs": [
    {
     "data": {
      "text/plain": [
       "[183, 172, 168, 163, 159, 155]"
      ]
     },
     "execution_count": 11,
     "metadata": {},
     "output_type": "execute_result"
    }
   ],
   "source": [
    "ds_student.sort(reverse = True)\n",
    "ds_student"
   ]
  },
  {
   "cell_type": "markdown",
   "metadata": {},
   "source": [
    "## ②reverse():並び順を逆にする(sort()の際の引数のreverseとは異なることに注意)"
   ]
  },
  {
   "cell_type": "code",
   "execution_count": 14,
   "metadata": {},
   "outputs": [
    {
     "data": {
      "text/plain": [
       "[159, 183, 168, 155, 172, 163]"
      ]
     },
     "execution_count": 14,
     "metadata": {},
     "output_type": "execute_result"
    }
   ],
   "source": [
    "ds_student = [163,172,155,168,183,159]\n",
    "ds_student.reverse()\n",
    "ds_student"
   ]
  },
  {
   "cell_type": "markdown",
   "metadata": {},
   "source": [
    "## ③remove():要素を取り除く"
   ]
  },
  {
   "cell_type": "code",
   "execution_count": 15,
   "metadata": {},
   "outputs": [
    {
     "data": {
      "text/plain": [
       "[163, 155, 168, 183, 159]"
      ]
     },
     "execution_count": 15,
     "metadata": {},
     "output_type": "execute_result"
    }
   ],
   "source": [
    "ds_student = [163,172,155,168,183,159]\n",
    "ds_student.remove(172)\n",
    "ds_student"
   ]
  },
  {
   "cell_type": "markdown",
   "metadata": {},
   "source": [
    "## ④append():末尾に要素を追加する"
   ]
  },
  {
   "cell_type": "code",
   "execution_count": 18,
   "metadata": {},
   "outputs": [
    {
     "data": {
      "text/plain": [
       "[163, 172, 155, 168, 183, 159, 174]"
      ]
     },
     "execution_count": 18,
     "metadata": {},
     "output_type": "execute_result"
    }
   ],
   "source": [
    "ds_student = [163,172,155,168,183,159]\n",
    "ds_student.append(174)\n",
    "ds_student"
   ]
  },
  {
   "cell_type": "markdown",
   "metadata": {},
   "source": [
    "### しかしappend()では要素を1つしか追加できない。2つ以上の値を引数に入れるとエラーになる"
   ]
  },
  {
   "cell_type": "code",
   "execution_count": 19,
   "metadata": {},
   "outputs": [
    {
     "ename": "TypeError",
     "evalue": "append() takes exactly one argument (2 given)",
     "output_type": "error",
     "traceback": [
      "\u001b[1;31m---------------------------------------------------------------------------\u001b[0m",
      "\u001b[1;31mTypeError\u001b[0m                                 Traceback (most recent call last)",
      "\u001b[1;32m<ipython-input-19-cc73c38b6bb7>\u001b[0m in \u001b[0;36m<module>\u001b[1;34m\u001b[0m\n\u001b[0;32m      1\u001b[0m \u001b[0mds_student\u001b[0m \u001b[1;33m=\u001b[0m \u001b[1;33m[\u001b[0m\u001b[1;36m163\u001b[0m\u001b[1;33m,\u001b[0m\u001b[1;36m172\u001b[0m\u001b[1;33m,\u001b[0m\u001b[1;36m155\u001b[0m\u001b[1;33m,\u001b[0m\u001b[1;36m168\u001b[0m\u001b[1;33m,\u001b[0m\u001b[1;36m183\u001b[0m\u001b[1;33m,\u001b[0m\u001b[1;36m159\u001b[0m\u001b[1;33m]\u001b[0m\u001b[1;33m\u001b[0m\u001b[1;33m\u001b[0m\u001b[0m\n\u001b[1;32m----> 2\u001b[1;33m \u001b[0mds_student\u001b[0m\u001b[1;33m.\u001b[0m\u001b[0mappend\u001b[0m\u001b[1;33m(\u001b[0m\u001b[1;36m174\u001b[0m\u001b[1;33m,\u001b[0m\u001b[1;36m180\u001b[0m\u001b[1;33m)\u001b[0m\u001b[1;33m\u001b[0m\u001b[1;33m\u001b[0m\u001b[0m\n\u001b[0m\u001b[0;32m      3\u001b[0m \u001b[0mds_student\u001b[0m\u001b[1;33m\u001b[0m\u001b[1;33m\u001b[0m\u001b[0m\n",
      "\u001b[1;31mTypeError\u001b[0m: append() takes exactly one argument (2 given)"
     ]
    }
   ],
   "source": [
    "ds_student = [163,172,155,168,183,159]\n",
    "ds_student.append(174,180)\n",
    "ds_student"
   ]
  },
  {
   "cell_type": "markdown",
   "metadata": {},
   "source": [
    "## ⑤extend():末尾に連結するシーケンスの要素を追加する "
   ]
  },
  {
   "cell_type": "code",
   "execution_count": 21,
   "metadata": {},
   "outputs": [
    {
     "data": {
      "text/plain": [
       "[163, 172, 155, 168, 183, 159, 174, 180]"
      ]
     },
     "execution_count": 21,
     "metadata": {},
     "output_type": "execute_result"
    }
   ],
   "source": [
    "ds_student = [163,172,155,168,183,159]\n",
    "ds_student.extend([174,180])\n",
    "ds_student"
   ]
  },
  {
   "cell_type": "markdown",
   "metadata": {},
   "source": [
    "### extend()はリストとリストを結合できるため結果として複数の要素を末尾に追加できる。しかしシーケンスは1つでないといけないため、複数の要素を引数に指定するとエラーになる"
   ]
  },
  {
   "cell_type": "code",
   "execution_count": 22,
   "metadata": {},
   "outputs": [
    {
     "ename": "TypeError",
     "evalue": "extend() takes exactly one argument (2 given)",
     "output_type": "error",
     "traceback": [
      "\u001b[1;31m---------------------------------------------------------------------------\u001b[0m",
      "\u001b[1;31mTypeError\u001b[0m                                 Traceback (most recent call last)",
      "\u001b[1;32m<ipython-input-22-1661304dff91>\u001b[0m in \u001b[0;36m<module>\u001b[1;34m\u001b[0m\n\u001b[0;32m      1\u001b[0m \u001b[0mds_student\u001b[0m \u001b[1;33m=\u001b[0m \u001b[1;33m[\u001b[0m\u001b[1;36m163\u001b[0m\u001b[1;33m,\u001b[0m\u001b[1;36m172\u001b[0m\u001b[1;33m,\u001b[0m\u001b[1;36m155\u001b[0m\u001b[1;33m,\u001b[0m\u001b[1;36m168\u001b[0m\u001b[1;33m,\u001b[0m\u001b[1;36m183\u001b[0m\u001b[1;33m,\u001b[0m\u001b[1;36m159\u001b[0m\u001b[1;33m]\u001b[0m\u001b[1;33m\u001b[0m\u001b[1;33m\u001b[0m\u001b[0m\n\u001b[1;32m----> 2\u001b[1;33m \u001b[0mds_student\u001b[0m\u001b[1;33m.\u001b[0m\u001b[0mextend\u001b[0m\u001b[1;33m(\u001b[0m\u001b[1;36m174\u001b[0m\u001b[1;33m,\u001b[0m\u001b[1;36m180\u001b[0m\u001b[1;33m)\u001b[0m\u001b[1;33m\u001b[0m\u001b[1;33m\u001b[0m\u001b[0m\n\u001b[0m\u001b[0;32m      3\u001b[0m \u001b[0mds_student\u001b[0m\u001b[1;33m\u001b[0m\u001b[1;33m\u001b[0m\u001b[0m\n",
      "\u001b[1;31mTypeError\u001b[0m: extend() takes exactly one argument (2 given)"
     ]
    }
   ],
   "source": [
    "ds_student = [163,172,155,168,183,159]\n",
    "ds_student.extend(174,180)\n",
    "ds_student"
   ]
  },
  {
   "cell_type": "code",
   "execution_count": 23,
   "metadata": {},
   "outputs": [
    {
     "ename": "TypeError",
     "evalue": "extend() takes exactly one argument (2 given)",
     "output_type": "error",
     "traceback": [
      "\u001b[1;31m---------------------------------------------------------------------------\u001b[0m",
      "\u001b[1;31mTypeError\u001b[0m                                 Traceback (most recent call last)",
      "\u001b[1;32m<ipython-input-23-c650f2f6d33e>\u001b[0m in \u001b[0;36m<module>\u001b[1;34m\u001b[0m\n\u001b[0;32m      1\u001b[0m \u001b[0mds_student\u001b[0m \u001b[1;33m=\u001b[0m \u001b[1;33m[\u001b[0m\u001b[1;36m163\u001b[0m\u001b[1;33m,\u001b[0m\u001b[1;36m172\u001b[0m\u001b[1;33m,\u001b[0m\u001b[1;36m155\u001b[0m\u001b[1;33m,\u001b[0m\u001b[1;36m168\u001b[0m\u001b[1;33m,\u001b[0m\u001b[1;36m183\u001b[0m\u001b[1;33m,\u001b[0m\u001b[1;36m159\u001b[0m\u001b[1;33m]\u001b[0m\u001b[1;33m\u001b[0m\u001b[1;33m\u001b[0m\u001b[0m\n\u001b[1;32m----> 2\u001b[1;33m \u001b[0mds_student\u001b[0m\u001b[1;33m.\u001b[0m\u001b[0mextend\u001b[0m\u001b[1;33m(\u001b[0m\u001b[1;33m[\u001b[0m\u001b[1;36m174\u001b[0m\u001b[1;33m,\u001b[0m\u001b[1;36m180\u001b[0m\u001b[1;33m]\u001b[0m\u001b[1;33m,\u001b[0m\u001b[1;33m[\u001b[0m\u001b[1;36m160\u001b[0m\u001b[1;33m,\u001b[0m\u001b[1;36m176\u001b[0m\u001b[1;33m]\u001b[0m\u001b[1;33m)\u001b[0m\u001b[1;33m\u001b[0m\u001b[1;33m\u001b[0m\u001b[0m\n\u001b[0m\u001b[0;32m      3\u001b[0m \u001b[0mds_student\u001b[0m\u001b[1;33m\u001b[0m\u001b[1;33m\u001b[0m\u001b[0m\n",
      "\u001b[1;31mTypeError\u001b[0m: extend() takes exactly one argument (2 given)"
     ]
    }
   ],
   "source": [
    "ds_student = [163,172,155,168,183,159]\n",
    "ds_student.extend([174,180],[160,176])\n",
    "ds_student"
   ]
  },
  {
   "cell_type": "code",
   "execution_count": 25,
   "metadata": {},
   "outputs": [
    {
     "data": {
      "text/plain": [
       "[163, 172, 155, 168, 183, 159, 174, 180]"
      ]
     },
     "execution_count": 25,
     "metadata": {},
     "output_type": "execute_result"
    }
   ],
   "source": [
    "ds_student = [163,172,155,168,183,159]\n",
    "ds_student.extend((174,180))\n",
    "ds_student"
   ]
  },
  {
   "cell_type": "markdown",
   "metadata": {},
   "source": [
    "### extend()はシーケンスを引数に取るのでタプルにすることもできる"
   ]
  },
  {
   "cell_type": "markdown",
   "metadata": {},
   "source": [
    "## ⑥pop():削除した要素を返す。引数に削除したい要素のインデックスの数値を指定する。デフォルトではそのリストの末尾の要素を削除する"
   ]
  },
  {
   "cell_type": "code",
   "execution_count": 35,
   "metadata": {},
   "outputs": [
    {
     "data": {
      "text/plain": [
       "[163, 172, 155, 168, 183]"
      ]
     },
     "execution_count": 35,
     "metadata": {},
     "output_type": "execute_result"
    }
   ],
   "source": [
    "ds_student = [163,172,155,168,183,159]\n",
    "ds_student.pop()\n",
    "ds_student"
   ]
  },
  {
   "cell_type": "code",
   "execution_count": 36,
   "metadata": {},
   "outputs": [
    {
     "data": {
      "text/plain": [
       "[163, 172, 168, 183, 159]"
      ]
     },
     "execution_count": 36,
     "metadata": {},
     "output_type": "execute_result"
    }
   ],
   "source": [
    "ds_student = [163,172,155,168,183,159]\n",
    "ds_student.pop(2)\n",
    "ds_student"
   ]
  },
  {
   "cell_type": "markdown",
   "metadata": {},
   "source": [
    "# set型、ディクショナリのメソッドは省略。そんなに重要じゃなさそう…(p189,p190,p194,p195)"
   ]
  },
  {
   "cell_type": "markdown",
   "metadata": {},
   "source": [
    "# bool型:True(1)とFalse(0)の2値しかとらない"
   ]
  },
  {
   "cell_type": "code",
   "execution_count": 1,
   "metadata": {},
   "outputs": [
    {
     "name": "stdout",
     "output_type": "stream",
     "text": [
      "False\n"
     ]
    }
   ],
   "source": [
    "a = 10\n",
    "b = 12\n",
    "print(a > b)"
   ]
  },
  {
   "cell_type": "markdown",
   "metadata": {},
   "source": [
    "### 比較演算子は数値計算の演算子より優先度が低い"
   ]
  },
  {
   "cell_type": "code",
   "execution_count": 2,
   "metadata": {},
   "outputs": [
    {
     "name": "stdout",
     "output_type": "stream",
     "text": [
      "True\n"
     ]
    }
   ],
   "source": [
    "print(a > b-3) "
   ]
  },
  {
   "cell_type": "markdown",
   "metadata": {},
   "source": [
    "### boolは計算に使うこともできる(1,0とそれぞれ等値だから)"
   ]
  },
  {
   "cell_type": "code",
   "execution_count": 7,
   "metadata": {},
   "outputs": [
    {
     "name": "stdout",
     "output_type": "stream",
     "text": [
      "11\n",
      "0\n"
     ]
    }
   ],
   "source": [
    "print(a + True)\n",
    "print(a * False)"
   ]
  },
  {
   "cell_type": "code",
   "execution_count": 10,
   "metadata": {},
   "outputs": [
    {
     "name": "stdout",
     "output_type": "stream",
     "text": [
      "1 3 5 7 9 "
     ]
    }
   ],
   "source": [
    "for i in range(1,10,2):\n",
    "    print(i,end = \" \")"
   ]
  },
  {
   "cell_type": "markdown",
   "metadata": {},
   "source": [
    "## ・zip()関数を用いると2つのシーケンスからどちらかのシーケンスの要素がなくなるまで繰り返し要素を取り出すことができる(p200)"
   ]
  },
  {
   "cell_type": "code",
   "execution_count": 22,
   "metadata": {},
   "outputs": [
    {
     "name": "stdout",
     "output_type": "stream",
     "text": [
      "1 a\n",
      "2 b\n",
      "3 c\n",
      "4 d\n"
     ]
    }
   ],
   "source": [
    "num = [1,2,3,4,5]\n",
    "alp = [\"a\",\"b\",\"c\",\"d\"]\n",
    "for n,al in zip (num,alp):\n",
    "    print(n,al)\n",
    "    \n",
    "# numは要素数が5つ、alpは要素数が4つなのでnumの最後の要素5は取り出されずにループが終了する    "
   ]
  }
 ],
 "metadata": {
  "kernelspec": {
   "display_name": "Python 3",
   "language": "python",
   "name": "python3"
  },
  "language_info": {
   "codemirror_mode": {
    "name": "ipython",
    "version": 3
   },
   "file_extension": ".py",
   "mimetype": "text/x-python",
   "name": "python",
   "nbconvert_exporter": "python",
   "pygments_lexer": "ipython3",
   "version": "3.7.3"
  }
 },
 "nbformat": 4,
 "nbformat_minor": 2
}
