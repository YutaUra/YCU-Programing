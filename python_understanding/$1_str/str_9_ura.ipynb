{
  "nbformat": 4,
  "nbformat_minor": 0,
  "metadata": {
    "colab": {
      "name": "str_9_ura.ipynb",
      "provenance": [],
      "collapsed_sections": [],
      "include_colab_link": true
    },
    "kernelspec": {
      "name": "python3",
      "display_name": "Python 3"
    }
  },
  "cells": [
    {
      "cell_type": "markdown",
      "metadata": {
        "id": "view-in-github",
        "colab_type": "text"
      },
      "source": [
        "<a href=\"https://colab.research.google.com/github/YutaUra/YCU-Programing/blob/master/python_understanding/%241_str/str_9_ura.ipynb\" target=\"_parent\"><img src=\"https://colab.research.google.com/assets/colab-badge.svg\" alt=\"Open In Colab\"/></a>"
      ]
    },
    {
      "cell_type": "markdown",
      "metadata": {
        "id": "6N7bcr8SoLgx",
        "colab_type": "text"
      },
      "source": [
        "# 文字列メソッド⑨\n",
        "目次\n",
        "1. swapcase()\n",
        "1. title()\n",
        "1. translate(teble)\n",
        "1. upper()\n",
        "1. zfill(width)\n",
        "1. 書式化のお話"
      ]
    },
    {
      "cell_type": "markdown",
      "metadata": {
        "id": "voIDxC29obXF",
        "colab_type": "text"
      },
      "source": [
        "## swapcase()\n",
        ">大文字が小文字に、小文字が大文字に変換された、文字列のコピーを返します。\\\n",
        ">なお、`s.swapcase().swapcase() == s` が真であるとは限りません。\n",
        "[公式](https://docs.python.org/ja/3/library/stdtypes.html#str.swapcase)"
      ]
    },
    {
      "cell_type": "code",
      "metadata": {
        "id": "agUbS1aVn4Xz",
        "colab_type": "code",
        "colab": {
          "base_uri": "https://localhost:8080/",
          "height": 125
        },
        "outputId": "d4c0b2b4-c49e-4169-a0e2-265ca96657dd"
      },
      "source": [
        "def swapcase_check(s):\n",
        "    print(f'\"{s}\" swap:{s.swapcase()}, swap*2:{s.swapcase().swapcase()}, same? {s==s.swapcase().swapcase()} ')\n",
        "\n",
        "check_str = ['AbcDef', 'aiueo', 'AIUEO', '浦yuuta', 'ｙｕｕｔａ']\n",
        "[swapcase_check(s) for s in check_str]"
      ],
      "execution_count": 7,
      "outputs": [
        {
          "output_type": "stream",
          "text": [
            "\"AbcDef\" swap:aBCdEF, swap*2:AbcDef, same? True \n",
            "\"aiueo\" swap:AIUEO, swap*2:aiueo, same? True \n",
            "\"AIUEO\" swap:aiueo, swap*2:AIUEO, same? True \n",
            "\"浦yuuta\" swap:浦YUUTA, swap*2:浦yuuta, same? True \n",
            "\"ｙｕｕｔａ\" swap:ＹＵＵＴＡ, swap*2:ｙｕｕｔａ, same? True \n"
          ],
          "name": "stdout"
        },
        {
          "output_type": "execute_result",
          "data": {
            "text/plain": [
              "[None, None, None, None, None]"
            ]
          },
          "metadata": {
            "tags": []
          },
          "execution_count": 7
        }
      ]
    },
    {
      "cell_type": "markdown",
      "metadata": {
        "id": "1qvKAnSHoKNN",
        "colab_type": "text"
      },
      "source": [
        "同じになるとは限らないとは？？\\\n",
        "調べてみました。\\\n",
        "μ(マイクロ, [U + 00B5](http://www.fileformat.info/info/unicode/char/00b5/index.htm))、μ(ミュー, [U + 03BC](http://www.fileformat.info/info/unicode/char/03BC/index.htm))は同じ大文字(M, [U+039C](https://www.fileformat.info/info/unicode/char/039c/index.htm))を持ちます。なので\n"
      ]
    },
    {
      "cell_type": "code",
      "metadata": {
        "id": "i2Uj5kFgr_WM",
        "colab_type": "code",
        "colab": {
          "base_uri": "https://localhost:8080/",
          "height": 89
        },
        "outputId": "0040e2e5-3576-46e1-a5ff-a18946f6c436"
      },
      "source": [
        "print('マイクロ')\n",
        "swapcase_check(u'\\xb5')\n",
        "print('ミュー')\n",
        "swapcase_check(u'\\u03bc')"
      ],
      "execution_count": 10,
      "outputs": [
        {
          "output_type": "stream",
          "text": [
            "マイクロ\n",
            "\"µ\" swap:Μ, swap*2:μ, same? False \n",
            "ミュー\n",
            "\"μ\" swap:Μ, swap*2:μ, same? True \n"
          ],
          "name": "stdout"
        }
      ]
    },
    {
      "cell_type": "markdown",
      "metadata": {
        "id": "CWjq7aXFsoCB",
        "colab_type": "text"
      },
      "source": [
        "ちなみに三輪さんが前回、前々回で調べてくれたßも同様です"
      ]
    },
    {
      "cell_type": "code",
      "metadata": {
        "id": "PithV8pVsNqv",
        "colab_type": "code",
        "colab": {
          "base_uri": "https://localhost:8080/",
          "height": 35
        },
        "outputId": "d1abaa86-ad9f-4248-9b87-a9cf4833c6f1"
      },
      "source": [
        "swapcase_check('ß')"
      ],
      "execution_count": 12,
      "outputs": [
        {
          "output_type": "stream",
          "text": [
            "\"ß\" swap:SS, swap*2:ss, same? False \n"
          ],
          "name": "stdout"
        }
      ]
    },
    {
      "cell_type": "markdown",
      "metadata": {
        "id": "sSFnIceis0J9",
        "colab_type": "text"
      },
      "source": [
        "## title()\n",
        ">文字列を、単語ごとに大文字から始まり、残りの文字のうち大小文字の区別があるものは全て小文字にする、タイトルケースにして返します。\\\n",
        ">例えば:\\\n",
        ">```>>> 'Hello world'.title()```\\\n",
        ">```'Hello World'```\\\n",
        ">このアルゴリズムは、連続した文字の集まりという、言語から独立した単純な単語の定義を使います。\\\n",
        ">この定義は多くの状況ではうまく機能しますが、短縮形や所有格のアポストロフィが単語の境界になってしまい、望みの結果を得られない場合があります:\\\n",
        ">```>>> \"they're bill's friends from the UK\".title()```\\\n",
        ">```\"They'Re Bill'S Friends From The Uk\"```\\\n",
        ">正規表現を使うことでアポストロフィに対応できます:\\\n",
        ">```>>> import re```\\\n",
        ">```>>> def titlecase(s):```\\\n",
        ">```...     return re.sub(r\"[A-Za-z]+('[A-Za-z]+)?\",```\\\n",
        ">```...                   lambda mo: mo.group(0)[0].upper() +```\\\n",
        ">```...                              mo.group(0)[1:].lower(),```\\\n",
        ">```...                   s)```\\\n",
        ">```...```\\\n",
        ">```>>> titlecase(\"they're bill's friends.\")```\\\n",
        ">```\"They're Bill's Friends.\"```\\\n",
        "[公式](https://docs.python.org/ja/3/library/stdtypes.html#str.title)\n",
        "\n",
        "*タイトルケース(各単語の先頭が大文字)に変換する*"
      ]
    },
    {
      "cell_type": "code",
      "metadata": {
        "id": "C7_vg4MbsmMD",
        "colab_type": "code",
        "colab": {
          "base_uri": "https://localhost:8080/",
          "height": 125
        },
        "outputId": "441e24e7-06fc-4b78-e71c-8d8b14a1c136"
      },
      "source": [
        "def title_check(s):\n",
        "    print(f'\"{s}\": {s.title()}')\n",
        "\n",
        "check_str = ['hello world!', 'a i u e o', 'ｕｒａ　ｙｕｕｔａ', '123 aiu 456abc', '浦優太']\n",
        "[title_check(s) for s in check_str]"
      ],
      "execution_count": 13,
      "outputs": [
        {
          "output_type": "stream",
          "text": [
            "\"hello world!\": Hello World!\n",
            "\"a i u e o\": A I U E O\n",
            "\"ｕｒａ　ｙｕｕｔａ\": Ｕｒａ　Ｙｕｕｔａ\n",
            "\"123 aiu 456abc\": 123 Aiu 456Abc\n",
            "\"浦優太\": 浦優太\n"
          ],
          "name": "stdout"
        },
        {
          "output_type": "execute_result",
          "data": {
            "text/plain": [
              "[None, None, None, None, None]"
            ]
          },
          "metadata": {
            "tags": []
          },
          "execution_count": 13
        }
      ]
    },
    {
      "cell_type": "markdown",
      "metadata": {
        "id": "X6xh2-m2vOfz",
        "colab_type": "text"
      },
      "source": [
        "全角英字も対応してますね"
      ]
    },
    {
      "cell_type": "markdown",
      "metadata": {
        "id": "Q6vAtBbGwEmQ",
        "colab_type": "text"
      },
      "source": [
        "## translate(table)\n",
        ">与えられた変換テーブルに基づいて文字列を構成する各文字をマッピングし、マッピング後の文字列のコピーを返します。\\\n",
        ">変換テーブルは、__getitem__() によるインデックス指定を実装するオブジェクトである必要があります。\\\n",
        ">一般的には、 mapping または sequence です。Unicode 序数 (整数) でインデックス指定する場合、変換テーブルのオブジェクトは次のいずれも行うことができます。\\\n",
        ">Unicode 序数または文字列を返して文字を 1 文字以上の別の文字にマッピングすること、None を返して返り値の文字列から指定した文字を削除すること、例外 LookupError を送出して文字をその文字自身にマッピングすること。\\\n",
        ">\\\n",
        ">文字から文字への異なる形式のマッピングから変換マップを作成するために、 [str.maketrans()](https://docs.python.org/ja/3/library/stdtypes.html#str.maketrans) が使えます。\\\n",
        ">\\\n",
        ">文字のマッピングを好みに合わせてより柔軟に変更する方法については、[codecs](https://docs.python.org/ja/3/library/codecs.html#module-codecs) モジュールも参照してください。\\\n",
        "[公式](https://docs.python.org/ja/3/library/stdtypes.html#str.upper)\n",
        "\n",
        "[maketrans str_6_ura 参照](https://github.com/YutaUra/YCU-Programing/blob/master/Python_understanding/%241_str/str_6_ura.ipynb)"
      ]
    },
    {
      "cell_type": "markdown",
      "metadata": {
        "id": "xuHCrJYuwvjG",
        "colab_type": "text"
      },
      "source": [
        "## upper()\n",
        ">全ての大小文字の区別のある文字 4 が大文字に変換された、文字列のコピーを返します。\\\n",
        ">なお s.upper().isupper() は、 s が大小文字の区別のある文字を含まなかったり、結果の文字の Unicode カテゴリが \"Lu\" ではなく例えば \"Lt\" (Letter, titlecase) などであったら、 False になりえます。\\\n",
        ">\\\n",
        ">使われる大文字化のアルゴリズムは Unicode Standard のセクション 3.13 に記述されています。\\\n",
        "[公式](https://docs.python.org/ja/3/library/stdtypes.html#str.upper)"
      ]
    },
    {
      "cell_type": "code",
      "metadata": {
        "id": "27Zt27G-vK4A",
        "colab_type": "code",
        "colab": {
          "base_uri": "https://localhost:8080/",
          "height": 71
        },
        "outputId": "3242f6ad-5332-435c-8a07-8fafba68c6da"
      },
      "source": [
        "def upper_check(s):\n",
        "    print(f'\"{s}\" upper:{s.upper()}, upper.isupper: {s.upper().isupper()}')\n",
        "\n",
        "check_str = ['auieo', 'あいうえお']\n",
        "[upper_check(s) for s in check_str]"
      ],
      "execution_count": 15,
      "outputs": [
        {
          "output_type": "stream",
          "text": [
            "\"auieo\" upper:AUIEO, upper.isupper: True\n",
            "\"あいうえお\" upper:あいうえお, upper.isupper: False\n"
          ],
          "name": "stdout"
        },
        {
          "output_type": "execute_result",
          "data": {
            "text/plain": [
              "[None, None]"
            ]
          },
          "metadata": {
            "tags": []
          },
          "execution_count": 15
        }
      ]
    },
    {
      "cell_type": "markdown",
      "metadata": {
        "id": "HvVitQtlxnmf",
        "colab_type": "text"
      },
      "source": [
        "## zfill(width)\n",
        ">長さが width になるよう ASCII '0' で左詰めした文字列のコピーを返します。\\\n",
        ">先頭が符号接頭辞 ('+'/'-') だった場合、 '0' は符号の前ではなく 後 に挿入されます。\\\n",
        ">width が len(s) 以下の場合元の文字列を返します。\\\n",
        ">\\\n",
        ">例えば:\\\n",
        ">\\\n",
        ">```>>>```\\\n",
        ">```>>> \"42\".zfill(5)```\\\n",
        ">```'00042'```\\\n",
        ">```>>> \"-42\".zfill(5)```\\\n",
        ">```'-0042'```\\\n",
        "[公式](https://docs.python.org/ja/3/library/stdtypes.html#str.zfill)\\\n",
        "\n",
        "[rjust (str_7_miwa)](https://github.com/YutaUra/YCU-Programing/blob/master/Python_understanding/%241_str/str_7_miwa.ipynb)に似ていて、先頭が+-のときの挙動が違う"
      ]
    },
    {
      "cell_type": "code",
      "metadata": {
        "id": "iVAyRh1ZxdHN",
        "colab_type": "code",
        "colab": {
          "base_uri": "https://localhost:8080/",
          "height": 485
        },
        "outputId": "cb83c72c-326d-4dd3-cb24-f333130bd1a5"
      },
      "source": [
        "def zfill_check(s, width, char='0'):\n",
        "    print(s)\n",
        "    print(f'zfill\\t: {s.zfill(width)}')\n",
        "    print(f'rjust\\t: {s.rjust(width, char)}')\n",
        "\n",
        "check_str = ['123', 'aiu', '+999', '-urayuuta']\n",
        "[zfill_check(s, 10) for s in check_str]\n",
        "print('rjustの空白埋め')\n",
        "[zfill_check(s, 10, ' ') for s in check_str]"
      ],
      "execution_count": 18,
      "outputs": [
        {
          "output_type": "stream",
          "text": [
            "123\n",
            "zfill\t: 0000000123\n",
            "rjust\t: 0000000123\n",
            "aiu\n",
            "zfill\t: 0000000aiu\n",
            "rjust\t: 0000000aiu\n",
            "+999\n",
            "zfill\t: +000000999\n",
            "rjust\t: 000000+999\n",
            "-urayuuta\n",
            "zfill\t: -0urayuuta\n",
            "rjust\t: 0-urayuuta\n",
            "rjustの空白埋め\n",
            "123\n",
            "zfill\t: 0000000123\n",
            "rjust\t:        123\n",
            "aiu\n",
            "zfill\t: 0000000aiu\n",
            "rjust\t:        aiu\n",
            "+999\n",
            "zfill\t: +000000999\n",
            "rjust\t:       +999\n",
            "-urayuuta\n",
            "zfill\t: -0urayuuta\n",
            "rjust\t:  -urayuuta\n"
          ],
          "name": "stdout"
        },
        {
          "output_type": "execute_result",
          "data": {
            "text/plain": [
              "[None, None, None, None]"
            ]
          },
          "metadata": {
            "tags": []
          },
          "execution_count": 18
        }
      ]
    },
    {
      "cell_type": "markdown",
      "metadata": {
        "id": "y3kyWYv61aMU",
        "colab_type": "text"
      },
      "source": [
        "## 書式化について\n",
        ">文字列オブジェクトには固有の操作: % 演算子 (モジュロ) があります。\\\n",
        ">この演算子は文字列 書式化 または 補間 演算子とも呼ばれます。\\\n",
        ">format % values (format は文字列) とすると、format 中の % 変換指定は values 中のゼロ個またはそれ以上の要素で置換されます。\\\n",
        ">この動作は C 言語における sprintf() に似ています。\\\n",
        ">\\\n",
        ">format が単一の引数しか要求しない場合、 values はタプルでない単一のオブジェクトでもかまいません。\\\n",
        "> 5 それ以外の場合、 values はフォーマット文字列中で指定された項目と正確に同じ数の要素からなるタプルか、単一のマップオブジェクトでなければなりません。\\\n",
        ">\\\n",
        ">% 演算子の右側の引数が辞書の場合 (またはその他のマップ型の場合), 文字列中のフォーマットには、辞書に挿入されているキーを丸括弧で囲い、文字 '%' の直後にくるようにしたものが含まれていなければ なりません 。\\\n",
        ">マップキーはフォーマット化したい値をマップから選び出します。例えば:\\\n",
        ">```>>> print('%(language)s has %(number)03d quote types.' %```\\\n",
        ">```...       {'language': \"Python\", \"number\": 2})```\\\n",
        ">```Python has 002 quote types.```\n",
        ">\n",
        ">変換|意味|例\n",
        ">---:|---:|---:\n",
        ">'d'|符号付き 10 進整数|123\n",
        ">'f'|10 進浮動小数点数|123.456\n",
        ">'s'|文字列 (Python オブジェクトを str() で変換します)|'123'"
      ]
    },
    {
      "cell_type": "code",
      "metadata": {
        "id": "NGBtf7sWztv-",
        "colab_type": "code",
        "colab": {}
      },
      "source": [
        "language = 'python'\n",
        "name = 'ura'\n",
        "age = 20\n"
      ],
      "execution_count": 0,
      "outputs": []
    },
    {
      "cell_type": "code",
      "metadata": {
        "id": "V7ATVOFB3tPT",
        "colab_type": "code",
        "colab": {
          "base_uri": "https://localhost:8080/",
          "height": 107
        },
        "outputId": "ab0efd41-c425-449b-b503-d472798a4de3"
      },
      "source": [
        "print('%(モジュロ)でのフォーマット')\n",
        "print(\"'lang: %s, name: %s, age: %d' % (language, name, age)\")\n",
        "print('lang: %s, name: %s, age: %d' % (language, name, age))\n",
        "print(\"'lang: %s, name: %s, age: %03d' % (language, name, age)\")\n",
        "print('lang: %s, name: %s, age: %03d' % (language, name, age))"
      ],
      "execution_count": 31,
      "outputs": [
        {
          "output_type": "stream",
          "text": [
            "%(モジュロ)でのフォーマット\n",
            "'lang: %s, name: %s, age: %d' % (language, name, age)\n",
            "lang: python, name: ura, age: 20\n",
            "'lang: %s, name: %s, age: %03d' % (language, name, age)\n",
            "lang: python, name: ura, age: 020\n"
          ],
          "name": "stdout"
        }
      ]
    },
    {
      "cell_type": "code",
      "metadata": {
        "id": "MtC4t8h93wKd",
        "colab_type": "code",
        "colab": {
          "base_uri": "https://localhost:8080/",
          "height": 143
        },
        "outputId": "3ee131bc-df36-48ac-a9a8-382bba8c44c1"
      },
      "source": [
        "print('str.format()でのフォーマット')\n",
        "print(\"'lang: {}, name: {}, age: {}'.format(language, name, age)\")\n",
        "print('lang: {}, name: {}, age: {}'.format(language, name, age))\n",
        "print(\"'lang: {0}, name: {1}, age: {2:03d}'.format(language, name, age)\")\n",
        "print('lang: {0}, name: {1}, age: {2:03d}'.format(language, name, age))\n",
        "print(\"'lang: {lang}, name: {name}, age: {age}'.format(lang=language, name=name, age=age)\")\n",
        "print('lang: {lang}, name: {name}, age: {age}'.format(lang=language, name=name, age=age))"
      ],
      "execution_count": 34,
      "outputs": [
        {
          "output_type": "stream",
          "text": [
            "str.format()でのフォーマット\n",
            "'lang: {}, name: {}, age: {}'.format(language, name, age)\n",
            "lang: python, name: ura, age: 20\n",
            "'lang: {0}, name: {1}, age: {2:03d}'.format(language, name, age)\n",
            "lang: python, name: ura, age: 020\n",
            "'lang: {lang}, name: {name}, age: {age}'.format(lang=language, name=name, age=age)\n",
            "lang: python, name: ura, age: 20\n"
          ],
          "name": "stdout"
        }
      ]
    },
    {
      "cell_type": "code",
      "metadata": {
        "id": "DntylOXB6ESu",
        "colab_type": "code",
        "colab": {
          "base_uri": "https://localhost:8080/",
          "height": 143
        },
        "outputId": "e8764025-1931-4368-9f84-bf882b231f22"
      },
      "source": [
        "print(\"f''でのフォーマット\")\n",
        "print(\"f'lang: {language}, name: {name}, age: {age:03d}'\")\n",
        "print(f'lang: {language}, name: {name}, age: {age:03d}')\n",
        "print('\\npython3.8以降では')\n",
        "print(\"f'{language=}, {name=}, {age=}'\")\n",
        "print(f'language={language}, name={name}, age={age}')"
      ],
      "execution_count": 35,
      "outputs": [
        {
          "output_type": "stream",
          "text": [
            "f''でのフォーマット\n",
            "f'lang: {language}, name: {name}, age: {age:03d}'\n",
            "lang: python, name: ura, age: 020\n",
            "\n",
            "python3.8以降では\n",
            "f'{language=}, {name=}, {age=}'\n",
            "language=python, name=ura, age=20\n"
          ],
          "name": "stdout"
        }
      ]
    },
    {
      "cell_type": "markdown",
      "metadata": {
        "id": "aNo2-DVu6qew",
        "colab_type": "text"
      },
      "source": [
        "公式的にはモジュロはあんまり推奨されていないらしい。ただ、いまだ多くのモジュールで見かけるので、知っていて損はない。\n",
        "\n",
        "個人的には、```f''```での書き方が楽だが、変数をそのまま入れる場合、何を表すかが分かりにくくなる時があるので、そういう時は、format関数を使うといいかも"
      ]
    },
    {
      "cell_type": "code",
      "metadata": {
        "id": "oQzub1_Z6oBp",
        "colab_type": "code",
        "colab": {
          "base_uri": "https://localhost:8080/",
          "height": 143
        },
        "outputId": "0826c24b-fe7c-4e7d-9bca-26b7c7a7f940"
      },
      "source": [
        "# つまりこういう感じ\n",
        "# 価値の低い命名はそもそも避けるべきだが、どうしてもという場合もあるだろう.\n",
        "\n",
        "s = 'ura'\n",
        "num = 20\n",
        "\n",
        "print(\"f''の場合\")\n",
        "print(\"f'あなたは{s}, 年は{num}'\")\n",
        "print(f'あなたは{s}, 年は{num}')\n",
        "print('\\nformatの場合')\n",
        "print(\"'あなたは{name}, 年は{age}'.format(name=s, age=num)\")\n",
        "print('あなたは{name}, 年は{age}'.format(name=s, age=num))"
      ],
      "execution_count": 27,
      "outputs": [
        {
          "output_type": "stream",
          "text": [
            "f''の場合\n",
            "f'あなたは{s}, 年は{num}'\n",
            "あなたはura, 年は20\n",
            "\n",
            "formatの場合\n",
            "'あなたは{name}, 年は{age}'.format(name=s, age=num)\n",
            "あなたはura, 年は20\n"
          ],
          "name": "stdout"
        }
      ]
    },
    {
      "cell_type": "markdown",
      "metadata": {
        "id": "1zyqCy9A8IO5",
        "colab_type": "text"
      },
      "source": [
        "多少冗長になったとしても、この場合はformatを使うべきだろう。後からコードを見たときに、このプリント(又は文字列)が何を表しているのか分からなければ無意味だ"
      ]
    }
  ]
}