{
 "cells": [
  {
   "cell_type": "markdown",
   "metadata": {},
   "source": [
    "## シーケンス"
   ]
  },
  {
   "cell_type": "markdown",
   "metadata": {},
   "source": [
    "## 1  s.index  \n",
    "s 中で x が最初に出現するインデックス (インデックス i 以降からインデックス j までの範囲) \n",
    "index は x が s 中に見つからないとき ValueError を送出します。追加の引数 i と j は、すべての実装がサポートしているわけではありません。追加の引数を渡すのは、おおよそ s[i:j].index(x) を使うのと等価ですが、データをコピーしなくて済むし、返されるのはスライスの最初ではなくシーケンスの最初からの相対インデクスです。(公式)"
   ]
  },
  {
   "cell_type": "code",
   "execution_count": 1,
   "metadata": {},
   "outputs": [
    {
     "name": "stdout",
     "output_type": "stream",
     "text": [
      "3\n",
      "9\n",
      "4\n",
      "2\n"
     ]
    }
   ],
   "source": [
    "a=[i for i in range(0,10)]\n",
    "b=(1,2,3,1,2,3,1,2,3)\n",
    "print(a.index(3)) #最初は0からカウント\n",
    "print(a.index(9,1,10))#範囲指定\n",
    "#print(a.index(11))対象にない要素を引数→エラー\n",
    "#print(a.index(0,1,2))検索範囲に引数がない→エラー\n",
    "print(b.index(2,3)) #同じ要素が複数→先頭のものを数える\n",
    "#print(().index()) 空シーケンスには使えない\n",
    "print(\"abcde\".index(\"c\",1))#str型にも使える"
   ]
  },
  {
   "cell_type": "markdown",
   "metadata": {},
   "source": [
    "## 2 s.count(x)   \n",
    "s 中に x が出現する回数  \n",
    "0回→0を返す"
   ]
  },
  {
   "cell_type": "code",
   "execution_count": 2,
   "metadata": {},
   "outputs": [
    {
     "name": "stdout",
     "output_type": "stream",
     "text": [
      "1\n",
      "3\n",
      "1\n",
      "0\n",
      "3\n"
     ]
    }
   ],
   "source": [
    "a=[i for i in range(0,10)] #0～9 \n",
    "b=(1,2,3,1,2,3,1,2,3)\n",
    "c=['a','b','c']\n",
    "print(a.count(0))\n",
    "print(b.count(1))\n",
    "print(c.count('a'))\n",
    "print(a.count(11))#0回→0(エラー回避)\n",
    "print(\"aaa\".count(\"a\"))# str にも使える\n",
    "#print(111.count(1)) intには使えない"
   ]
  },
  {
   "cell_type": "markdown",
   "metadata": {},
   "source": [
    "→index関数の前にcount関数を使うと便利"
   ]
  },
  {
   "cell_type": "markdown",
   "metadata": {},
   "source": [
    "ある要素のもののindexをすべて所得したい  \n",
    "(index関数、count関数を使ってみた)"
   ]
  },
  {
   "cell_type": "code",
   "execution_count": 11,
   "metadata": {},
   "outputs": [],
   "source": [
    "def allindex(s,x): #s:リスト, x:探索対象\n",
    "    a=[]\n",
    "    types=[list,tuple,dict]\n",
    "    s_1=list(s)\n",
    "    if type(s_1) not in types:\n",
    "        return('Choose correct s')\n",
    "    while s_1.count(x)>0:\n",
    "        num=sum(a)+s_1.index(x)+len(a) #番号補正\n",
    "        a.append(num)\n",
    "        s_1=s_1[(num+1):]\n",
    "    else:\n",
    "        return(a)"
   ]
  },
  {
   "cell_type": "code",
   "execution_count": 12,
   "metadata": {},
   "outputs": [
    {
     "name": "stdout",
     "output_type": "stream",
     "text": [
      "[0, 3, 6]\n"
     ]
    }
   ],
   "source": [
    "#上と同値\n",
    "lis=[1,2,3,1,2,3,1,2,3]\n",
    "x=1\n",
    "a=[i for i ,b in enumerate(lis) if b==x]\n",
    "print(a)"
   ]
  },
  {
   "cell_type": "code",
   "execution_count": 13,
   "metadata": {},
   "outputs": [
    {
     "data": {
      "text/plain": [
       "[0, 3, 6]"
      ]
     },
     "execution_count": 13,
     "metadata": {},
     "output_type": "execute_result"
    }
   ],
   "source": [
    "lis=[1,2,3,1,2,3,1,2,3]\n",
    "allindex(lis,1)"
   ]
  },
  {
   "cell_type": "markdown",
   "metadata": {},
   "source": [
    "## immutable(変更不可)  \n",
    "https://docs.python.org/ja/3/reference/datamodel.html\n",
    "オブジェクトによっては 値 を変更することが可能です。値を変更できるオブジェクトのことを mutable と呼びます。生成後に値を変更できないオブジェクトのことを immutable と呼びます。  \n",
    "例：int,float,str,tuple  \n",
    "以下はtupleについて述べる"
   ]
  },
  {
   "cell_type": "markdown",
   "metadata": {},
   "source": [
    "出来ないこと\n",
    "１．一度作ったタプルの値は変更不可"
   ]
  },
  {
   "cell_type": "code",
   "execution_count": 3,
   "metadata": {},
   "outputs": [],
   "source": [
    "tu_1=('a','b','c')\n",
    "#tu_1[1]=1 #変更→エラー"
   ]
  },
  {
   "cell_type": "markdown",
   "metadata": {},
   "source": [
    "2.タプル内の要素の削除・挿入"
   ]
  },
  {
   "cell_type": "code",
   "execution_count": 4,
   "metadata": {},
   "outputs": [],
   "source": [
    "#tu_1.append('d') エラー　（挿入）\n",
    "#tu_1.remove('a') 　　　　(削除)"
   ]
  },
  {
   "cell_type": "markdown",
   "metadata": {},
   "source": [
    "上記と同一の操作をしたい場合→リストに変形して行う  \n",
    "https://note.nkmk.me/python-tuple-operation/"
   ]
  },
  {
   "cell_type": "code",
   "execution_count": 11,
   "metadata": {},
   "outputs": [
    {
     "name": "stdout",
     "output_type": "stream",
     "text": [
      "('a', 'b', 'c', 'd')\n",
      "('b', 'c')\n"
     ]
    }
   ],
   "source": [
    "tu_2=('d',)\n",
    "print(tu_1+tu_2)#追加\n",
    "li_1=list(tu_1)\n",
    "li_1.remove('a')\n",
    "print(tuple(li_1))#削除"
   ]
  },
  {
   "cell_type": "markdown",
   "metadata": {},
   "source": [
    "## 用途\n",
    "要素を変更不可→重要な物の保管\n",
    "例：パスワード・dict型のkey  \n",
    "dict型のkey→hashableを指定\n",
    "hashable→オブジェクトのハッシュ値が変化しない\n",
    "https://qiita.com/yoichi22/items/ebf6ab3c6de26ddcc09a"
   ]
  },
  {
   "cell_type": "markdown",
   "metadata": {},
   "source": [
    "参考：hash(object)  \n",
    "オブジェクトのハッシュ値（ある場合）を返します。ハッシュ値は整数です。辞書検索時に辞書キーをすばやく比較するために使用されます。等しいと比較される数値は、同じハッシュ値を持ちます（1と1.0の場合のように、タイプが異なっていても）。"
   ]
  },
  {
   "cell_type": "code",
   "execution_count": null,
   "metadata": {},
   "outputs": [],
   "source": []
  }
 ],
 "metadata": {
  "kernelspec": {
   "display_name": "Python 3",
   "language": "python",
   "name": "python3"
  },
  "language_info": {
   "codemirror_mode": {
    "name": "ipython",
    "version": 3
   },
   "file_extension": ".py",
   "mimetype": "text/x-python",
   "name": "python",
   "nbconvert_exporter": "python",
   "pygments_lexer": "ipython3",
   "version": "3.7.3"
  }
 },
 "nbformat": 4,
 "nbformat_minor": 2
}
