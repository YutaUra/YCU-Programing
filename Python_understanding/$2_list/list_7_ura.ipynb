{
  "nbformat": 4,
  "nbformat_minor": 0,
  "metadata": {
    "colab": {
      "name": "Untitled6.ipynb",
      "provenance": [],
      "collapsed_sections": [],
      "include_colab_link": true
    },
    "kernelspec": {
      "name": "python3",
      "display_name": "Python 3"
    }
  },
  "cells": [
    {
      "cell_type": "markdown",
      "metadata": {
        "id": "view-in-github",
        "colab_type": "text"
      },
      "source": [
        "<a href=\"https://colab.research.google.com/github/YutaUra/YCU-Programing/blob/master/Python_understanding/%242_list/list_7_ura.ipynb\" target=\"_parent\"><img src=\"https://colab.research.google.com/assets/colab-badge.svg\" alt=\"Open In Colab\"/></a>"
      ]
    },
    {
      "cell_type": "markdown",
      "metadata": {
        "id": "3n-lih2wHhHI",
        "colab_type": "text"
      },
      "source": [
        "# シーケンスメソッド調べ⑥\n",
        "\n",
        "目次\n",
        "1. insert(i, x)\n",
        "1. pop(\\[i\\])\n",
        "1. remove(x)\n",
        "1. reverse()\n"
      ]
    },
    {
      "cell_type": "markdown",
      "metadata": {
        "id": "augeNkftH08w",
        "colab_type": "text"
      },
      "source": [
        "## insert(1,x)\n",
        "\n",
        "> s の i で与えられたインデックスに x を挿入します。 (s[i:i] = [x] と同じ)\n",
        "\n",
        "**破壊的メソッドです！**\n",
        "忘れた人はこちら[参照](https://teratail.com/questions/178810)\n",
        "\n",
        "簡潔に言うと、元の状態を変える関数で、基本的に返すものはない"
      ]
    },
    {
      "cell_type": "code",
      "metadata": {
        "id": "BIiw8A-5H-By",
        "colab_type": "code",
        "colab": {
          "base_uri": "https://localhost:8080/",
          "height": 71
        },
        "outputId": "df1ff051-16a3-49db-aa7b-21991b687730"
      },
      "source": [
        "names = ['ura', 'aaa', 'yoshi', 'muro', 'miwa', 'bbb', 'zzz']\n",
        "print(names)\n",
        "\n",
        "ret = names.insert(1, 'new_name index1')\n",
        "print('return : ', ret)\n",
        "print('origin : ', names)"
      ],
      "execution_count": 2,
      "outputs": [
        {
          "output_type": "stream",
          "text": [
            "['ura', 'aaa', 'yoshi', 'muro', 'miwa', 'bbb', 'zzz']\n",
            "return :  None\n",
            "origin :  ['ura', 'new_name index1', 'aaa', 'yoshi', 'muro', 'miwa', 'bbb', 'zzz']\n"
          ],
          "name": "stdout"
        }
      ]
    },
    {
      "cell_type": "markdown",
      "metadata": {
        "id": "zD61Vv8WJT1A",
        "colab_type": "text"
      },
      "source": [
        "# pop(\\[i\\])\n",
        "\n",
        "> s から i 番目の要素を取り出し、また取り除きます\n",
        "\n",
        "こちらも**破壊的メソッド**ですので注意\n",
        "\n",
        "ただ、返しがあります。有効に使いましょう！"
      ]
    },
    {
      "cell_type": "code",
      "metadata": {
        "id": "5pwszQTTJkoN",
        "colab_type": "code",
        "colab": {
          "base_uri": "https://localhost:8080/",
          "height": 71
        },
        "outputId": "75ab7611-95ed-46da-dcd1-3f01b88ea82e"
      },
      "source": [
        "print(names)\n",
        "\n",
        "ret = names.pop(2)\n",
        "print('return : ', ret)\n",
        "print('origin : ', names)"
      ],
      "execution_count": 3,
      "outputs": [
        {
          "output_type": "stream",
          "text": [
            "['ura', 'new_name index1', 'aaa', 'yoshi', 'muro', 'miwa', 'bbb', 'zzz']\n",
            "return :  aaa\n",
            "origin :  ['ura', 'new_name index1', 'yoshi', 'muro', 'miwa', 'bbb', 'zzz']\n"
          ],
          "name": "stdout"
        }
      ]
    },
    {
      "cell_type": "markdown",
      "metadata": {
        "id": "1a94WACiJuYf",
        "colab_type": "text"
      },
      "source": [
        "# remove(x)\n",
        "\n",
        "> s から s[i] が x が等価となる最初の要素を取り除きます\n",
        "\n",
        "**破壊的メソッド**\n",
        "\n",
        "返しなし"
      ]
    },
    {
      "cell_type": "code",
      "metadata": {
        "id": "1KNddIoqJ5YV",
        "colab_type": "code",
        "colab": {
          "base_uri": "https://localhost:8080/",
          "height": 71
        },
        "outputId": "00ccb423-91e9-45dd-bed0-1f8ebec90976"
      },
      "source": [
        "print(names)\n",
        "\n",
        "ret = names.remove('bbb')\n",
        "print('return : ', ret)\n",
        "print('origin : ', names)"
      ],
      "execution_count": 5,
      "outputs": [
        {
          "output_type": "stream",
          "text": [
            "['ura', 'new_name index1', 'yoshi', 'muro', 'miwa', 'bbb', 'zzz']\n",
            "return :  None\n",
            "origin :  ['ura', 'new_name index1', 'yoshi', 'muro', 'miwa', 'zzz']\n"
          ],
          "name": "stdout"
        }
      ]
    },
    {
      "cell_type": "markdown",
      "metadata": {
        "id": "MiPFf2XFKBKS",
        "colab_type": "text"
      },
      "source": [
        "# reverse()\n",
        "\n",
        "> s をインプレースに逆転させます\n",
        "\n",
        "逆順にする**破壊的メソッド**\n",
        "\n",
        "何も返さない"
      ]
    },
    {
      "cell_type": "code",
      "metadata": {
        "id": "K5A-f7SGKMhz",
        "colab_type": "code",
        "colab": {
          "base_uri": "https://localhost:8080/",
          "height": 71
        },
        "outputId": "ae6024aa-5576-43b8-ce49-6ad72b9bf21a"
      },
      "source": [
        "print(names)\n",
        "\n",
        "ret = names.reverse()\n",
        "print('return : ', ret)\n",
        "print('origin : ', names)"
      ],
      "execution_count": 6,
      "outputs": [
        {
          "output_type": "stream",
          "text": [
            "['ura', 'new_name index1', 'yoshi', 'muro', 'miwa', 'zzz']\n",
            "return :  None\n",
            "origin :  ['zzz', 'miwa', 'muro', 'yoshi', 'new_name index1', 'ura']\n"
          ],
          "name": "stdout"
        }
      ]
    },
    {
      "cell_type": "markdown",
      "metadata": {
        "id": "-1RQGRq_KVw-",
        "colab_type": "text"
      },
      "source": [
        "ちなみに組み込み関数に\n",
        "```python\n",
        " reversed(list) -> iterator\n",
        " ```\n",
        " というものがあります。\n",
        " \n",
        " これは非破壊的メソッドとなっています。意味は同じです。\n",
        "\n",
        " ただ返すのはイテレイターなので、そのままインデックスで要素を取り出すことはできません。"
      ]
    },
    {
      "cell_type": "code",
      "metadata": {
        "id": "vYN9vIjgHd-_",
        "colab_type": "code",
        "colab": {
          "base_uri": "https://localhost:8080/",
          "height": 281
        },
        "outputId": "cb7db83b-d152-410c-90b6-a97206be8ef2"
      },
      "source": [
        "print(names)\n",
        "name1 = [name for name in names]\n",
        "name2 = [name for name in names]\n",
        "\n",
        "name1.reverse()\n",
        "reversed_name = reversed(name2)\n",
        "\n",
        "print('.reverse() : ', name1)\n",
        "print('reversed() ; ', reversed_name)\n",
        "print('list(reversed()) : ', list(reversed_name))\n",
        "print(reversed_name[2])"
      ],
      "execution_count": 9,
      "outputs": [
        {
          "output_type": "stream",
          "text": [
            "['zzz', 'miwa', 'muro', 'yoshi', 'new_name index1', 'ura']\n",
            ".reverse() :  ['ura', 'new_name index1', 'yoshi', 'muro', 'miwa', 'zzz']\n",
            "reversed() ;  <list_reverseiterator object at 0x7f2674d068d0>\n",
            "list(reversed()) :  ['ura', 'new_name index1', 'yoshi', 'muro', 'miwa', 'zzz']\n"
          ],
          "name": "stdout"
        },
        {
          "output_type": "error",
          "ename": "TypeError",
          "evalue": "ignored",
          "traceback": [
            "\u001b[0;31m---------------------------------------------------------------------------\u001b[0m",
            "\u001b[0;31mTypeError\u001b[0m                                 Traceback (most recent call last)",
            "\u001b[0;32m<ipython-input-9-a4c8f645c1c1>\u001b[0m in \u001b[0;36m<module>\u001b[0;34m()\u001b[0m\n\u001b[1;32m      9\u001b[0m \u001b[0mprint\u001b[0m\u001b[0;34m(\u001b[0m\u001b[0;34m'reversed() ; '\u001b[0m\u001b[0;34m,\u001b[0m \u001b[0mreversed_name\u001b[0m\u001b[0;34m)\u001b[0m\u001b[0;34m\u001b[0m\u001b[0;34m\u001b[0m\u001b[0m\n\u001b[1;32m     10\u001b[0m \u001b[0mprint\u001b[0m\u001b[0;34m(\u001b[0m\u001b[0;34m'list(reversed()) : '\u001b[0m\u001b[0;34m,\u001b[0m \u001b[0mlist\u001b[0m\u001b[0;34m(\u001b[0m\u001b[0mreversed_name\u001b[0m\u001b[0;34m)\u001b[0m\u001b[0;34m)\u001b[0m\u001b[0;34m\u001b[0m\u001b[0;34m\u001b[0m\u001b[0m\n\u001b[0;32m---> 11\u001b[0;31m \u001b[0mprint\u001b[0m\u001b[0;34m(\u001b[0m\u001b[0mreversed_name\u001b[0m\u001b[0;34m[\u001b[0m\u001b[0;36m2\u001b[0m\u001b[0;34m]\u001b[0m\u001b[0;34m)\u001b[0m\u001b[0;34m\u001b[0m\u001b[0;34m\u001b[0m\u001b[0m\n\u001b[0m",
            "\u001b[0;31mTypeError\u001b[0m: 'list_reverseiterator' object is not subscriptable"
          ]
        }
      ]
    },
    {
      "cell_type": "code",
      "metadata": {
        "id": "enJPcaIRLH5e",
        "colab_type": "code",
        "colab": {}
      },
      "source": [
        ""
      ],
      "execution_count": 0,
      "outputs": []
    }
  ]
}