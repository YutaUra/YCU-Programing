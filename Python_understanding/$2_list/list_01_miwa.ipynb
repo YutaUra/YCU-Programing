{
 "cells": [
  {
   "cell_type": "markdown",
   "metadata": {},
   "source": [
    "###### 今回の私の疑問は大きく分けて２つ。\n",
    "    1．rangeってひとりで動けんの？\n",
    "    2．内包表記～参照先のハナシ～"
   ]
  },
  {
   "cell_type": "markdown",
   "metadata": {},
   "source": [
    "## 今回の内容：シーケンスlist , tuple , rangeにおける共通の演算\n",
    "    そもそも\n",
    "    list\n",
    "    listは1つの値ではなく、一連の値を格納しておくための変数。\n",
    "       \n",
    "    tuple\n",
    "    listとほとんど同じだけど、要素を変更できない点が異なる。（イミュータブル）\n",
    "\n",
    "    range\n",
    "    範囲を指定するためのコード。\n",
    "    (公式)range は共通のシーケンス演算を、結合と繰り返し以外すべて実装します。(range オブジェクトは厳格なパターンに従うシーケンスのみを表せ、繰り返しと結合はたいていそのパターンを破るという事実によります)。\n",
    "    \n",
    "    ① x in s\n",
    "    ② x not in s\n",
    "    ③ s + t（結合）\n",
    "    ④ s * n または n * s（繰り返し）\n",
    "    ⑤ s[i]\n",
    "\n",
    "    "
   ]
  },
  {
   "cell_type": "markdown",
   "metadata": {},
   "source": [
    "# ① x in s\n",
    "(公式)s のある要素が x と等しければ True , そうでなければ False\n",
    "\n",
    "注）in および not in 演算は、一般に単純な包含判定にのみ使われますが、(str, bytes, bytearray のような) 特殊なシーケンスでは部分シーケンス判定にも使われます:\n",
    "### →含まれてるかを教えてくれる！"
   ]
  },
  {
   "cell_type": "code",
   "execution_count": 1,
   "metadata": {},
   "outputs": [
    {
     "name": "stdout",
     "output_type": "stream",
     "text": [
      "True\n",
      "False\n",
      "True\n",
      "False\n",
      "True\n",
      "False\n",
      "True\n",
      "False\n"
     ]
    }
   ],
   "source": [
    "last_name_list = ['ウラ' , 'ムロイ' , 'コバヤシ' , 'ミワ']   # リスト\n",
    "print('ミワ' in last_name_list)\n",
    "print('マナブさん' in last_name_list)\n",
    "\n",
    "last_name_tuple = ('ウラ' , 'ムロイ' , 'コバヤシ' , 'ミワ')   # タプル\n",
    "print('ミワ' in last_name_tuple)\n",
    "print('マナブさん' in last_name_tuple)\n",
    "\n",
    "members_range = range(4)    # レンジ\n",
    "print(0 in members_range)\n",
    "print(4 in members_range)\n",
    "\n",
    "print('バヤシ' in 'コバヤシ')   # 注のハナシ。部分的に含まれるものも判定してくれる。これは文字列のこと。\n",
    "print('バヤシ' in last_name_list)    # リストの中に「『リストの要素』の一部分」が含まれるかはチガウ。"
   ]
  },
  {
   "cell_type": "markdown",
   "metadata": {},
   "source": [
    "# ②x not in s\n",
    "(公式)s のある要素が x と等しければ False, そうでなければ True\n",
    "\n",
    "注）in および not in 演算は、一般に単純な包含判定にのみ使われますが、(str, bytes, bytearray のような) 特殊なシーケンスでは部分シーケンス判定にも使われます:\n",
    "### →含まれてないかを教えてくれる！"
   ]
  },
  {
   "cell_type": "code",
   "execution_count": 2,
   "metadata": {
    "scrolled": true
   },
   "outputs": [
    {
     "name": "stdout",
     "output_type": "stream",
     "text": [
      "False\n",
      "True\n",
      "False\n",
      "True\n",
      "False\n",
      "True\n",
      "False\n",
      "True\n"
     ]
    }
   ],
   "source": [
    "# すべてinの逆の結果になる\n",
    "last_name_list = ['ウラ' , 'ムロイ' , 'コバヤシ' , 'ミワ']   # リスト\n",
    "print('ミワ' not in last_name_list)\n",
    "print('マナブさん' not in last_name_list)\n",
    "\n",
    "last_name_tuple = ('ウラ' , 'ムロイ' , 'コバヤシ' , 'ミワ')   # タプル\n",
    "print('ミワ' not in last_name_tuple)\n",
    "print('マナブさん' not in last_name_tuple)\n",
    "\n",
    "members_range = range(4)    # レンジ\n",
    "print(0 not in members_range)\n",
    "print(4 not in members_range)\n",
    "\n",
    "print('バヤシ' not in 'コバヤシ')   # 注のハナシ。部分的に含まれるものも判定してくれる。これは文字列のハナシ\n",
    "print('バヤシ' not in last_name_list)    # リストの中に「『リストの要素』の一部分」が含まれるかはチガウ"
   ]
  },
  {
   "cell_type": "markdown",
   "metadata": {},
   "source": [
    "# ③t + s\n",
    "(公式)s と t の結合\n",
    "\n",
    "注１）\n",
    "イミュータブルなシーケンスの結合は、常に新しいオブジェクトを返します。これは、結合の繰り返しでシーケンスを構築する実行時間コストがシーケンスの長さの合計の二次式になることを意味します。実行時間コストを線形にするには、代わりに以下のいずれかにしてください:      \n",
    "   ・str オブジェクトを結合するには、リストを構築して最後に str.join() を使うか、 io.StringIO インスタンスに書き込んで完成してから値を取得してください   \n",
    "   ・bytes オブジェクトを結合するなら、同様に bytes.join() や io.BytesIO を使うか、 bytearray オブジェクトでインプレースに結合できます。 bytearray オブジェクトはミュータブルで、効率のいい割り当て超過機構を備えています   \n",
    "   ・tuple オブジェクトを結合するなら、代わりに list を拡張してください   \n",
    "   ・その他の型については、関連するクラスのドキュメントを調べてください\n",
    "   \n",
    "注２）\n",
    "シーケンス型には、 (range のように) 特殊なパターンに従う項目のシーケンスのみをサポートするものがあり、それらはシーケンスの結合や繰り返しをサポートしません。\n",
    "\n",
    "注はよくわかんないけど、とにかく\n",
    "\n",
    "### →リストどうし、タプルどうしを足してくれる！（レンジは結合できない）"
   ]
  },
  {
   "cell_type": "code",
   "execution_count": 3,
   "metadata": {},
   "outputs": [
    {
     "name": "stdout",
     "output_type": "stream",
     "text": [
      "['ウラ', 'ムロイ', 'コバヤシ', 'ミワ', 'ユウタ', 'ヨウスケ', 'ヨシユキ', 'マリン']\n",
      "('ウラ', 'ムロイ', 'コバヤシ', 'ミワ', 'ユウタ', 'ヨウスケ', 'ヨシユキ', 'マリン')\n"
     ]
    },
    {
     "ename": "TypeError",
     "evalue": "can only concatenate list (not \"tuple\") to list",
     "output_type": "error",
     "traceback": [
      "\u001b[1;31m---------------------------------------------------------------------------\u001b[0m",
      "\u001b[1;31mTypeError\u001b[0m                                 Traceback (most recent call last)",
      "\u001b[1;32m<ipython-input-3-dcc1eed1866e>\u001b[0m in \u001b[0;36m<module>\u001b[1;34m()\u001b[0m\n\u001b[0;32m      7\u001b[0m \u001b[0mprint\u001b[0m\u001b[1;33m(\u001b[0m\u001b[0mlast_name_tuple\u001b[0m \u001b[1;33m+\u001b[0m \u001b[0mfirst_name_tuple\u001b[0m\u001b[1;33m)\u001b[0m   \u001b[1;31m# タプル\u001b[0m\u001b[1;33m\u001b[0m\u001b[0m\n\u001b[0;32m      8\u001b[0m \u001b[1;33m\u001b[0m\u001b[0m\n\u001b[1;32m----> 9\u001b[1;33m \u001b[0mprint\u001b[0m\u001b[1;33m(\u001b[0m\u001b[0mlast_name_list\u001b[0m \u001b[1;33m+\u001b[0m \u001b[0mfirst_name_tuple\u001b[0m\u001b[1;33m)\u001b[0m   \u001b[1;31m# リストとタプルは足せない\u001b[0m\u001b[1;33m\u001b[0m\u001b[0m\n\u001b[0m",
      "\u001b[1;31mTypeError\u001b[0m: can only concatenate list (not \"tuple\") to list"
     ]
    }
   ],
   "source": [
    "last_name_list = ['ウラ' , 'ムロイ' , 'コバヤシ' , 'ミワ'] \n",
    "first_name_list = ['ユウタ' , 'ヨウスケ' , 'ヨシユキ' , 'マリン']\n",
    "print(last_name_list + first_name_list)   # リスト                              \n",
    "\n",
    "last_name_tuole = ('ウラ' , 'ムロイ' , 'コバヤシ' , 'ミワ')\n",
    "first_name_tuple = ('ユウタ' , 'ヨウスケ' , 'ヨシユキ' , 'マリン')\n",
    "print(last_name_tuple + first_name_tuple)   # タプル\n",
    "\n",
    "print(last_name_list + first_name_tuple)   # リストとタプルは足せない"
   ]
  },
  {
   "cell_type": "code",
   "execution_count": 4,
   "metadata": {},
   "outputs": [
    {
     "ename": "TypeError",
     "evalue": "unsupported operand type(s) for +: 'range' and 'range'",
     "output_type": "error",
     "traceback": [
      "\u001b[1;31m---------------------------------------------------------------------------\u001b[0m",
      "\u001b[1;31mTypeError\u001b[0m                                 Traceback (most recent call last)",
      "\u001b[1;32m<ipython-input-4-dcba43a78b33>\u001b[0m in \u001b[0;36m<module>\u001b[1;34m()\u001b[0m\n\u001b[0;32m      1\u001b[0m \u001b[0mthree_range\u001b[0m \u001b[1;33m=\u001b[0m \u001b[0mrange\u001b[0m\u001b[1;33m(\u001b[0m\u001b[1;36m3\u001b[0m\u001b[1;33m)\u001b[0m\u001b[1;33m\u001b[0m\u001b[0m\n\u001b[0;32m      2\u001b[0m \u001b[0mfour_range\u001b[0m \u001b[1;33m=\u001b[0m \u001b[0mrange\u001b[0m\u001b[1;33m(\u001b[0m\u001b[1;36m4\u001b[0m\u001b[1;33m)\u001b[0m\u001b[1;33m\u001b[0m\u001b[0m\n\u001b[1;32m----> 3\u001b[1;33m \u001b[0mprint\u001b[0m\u001b[1;33m(\u001b[0m\u001b[0mthree_range\u001b[0m \u001b[1;33m+\u001b[0m \u001b[0mfour_range\u001b[0m\u001b[1;33m)\u001b[0m   \u001b[1;31m# レンジは足せない（結合できない）。そもそもレンジを足すってどうゆこっちゃって感じだけど。\u001b[0m\u001b[1;33m\u001b[0m\u001b[0m\n\u001b[0m",
      "\u001b[1;31mTypeError\u001b[0m: unsupported operand type(s) for +: 'range' and 'range'"
     ]
    }
   ],
   "source": [
    "three_range = range(3)\n",
    "four_range = range(4)\n",
    "print(three_range + four_range)   # レンジは足せない（結合できない）。そもそもレンジを足すってどうゆこっちゃって感じだけど。"
   ]
  },
  {
   "cell_type": "code",
   "execution_count": 5,
   "metadata": {},
   "outputs": [
    {
     "name": "stdout",
     "output_type": "stream",
     "text": [
      "ウラ ユウタ\n",
      "ムロイ ヨウスケ\n",
      "コバヤシ ヨシユキ\n",
      "ミワ マリン\n"
     ]
    }
   ],
   "source": [
    "# やってみた①一人の名前にしてあげたい！（リストの中身の順番のまま足したい）\n",
    "for i in range(len(last_name_list)):\n",
    "    full_name = last_name_list[i] + ' '+  first_name_list[i]\n",
    "    print(full_name)"
   ]
  },
  {
   "cell_type": "code",
   "execution_count": 6,
   "metadata": {},
   "outputs": [
    {
     "name": "stdout",
     "output_type": "stream",
     "text": [
      "ウラ ユウタ\n",
      "ムロイ ヨウスケ\n",
      "コバヤシ ヨシユキ\n",
      "ミワ マリン\n"
     ]
    }
   ],
   "source": [
    "# やってみた②ウラサマから習いたてほやほや！なフォーマット(？)を使うとこんな感じ？\n",
    "for i in range(len(last_name_list)):\n",
    "    full_name = '%s %s'%(last_name_list[i] , first_name_list[i])\n",
    "    print(full_name)"
   ]
  },
  {
   "cell_type": "markdown",
   "metadata": {},
   "source": [
    "# ④s * n または n * s\n",
    "(公式)s 自身を n 回足すのと同じ\n",
    "\n",
    "注が２つありますありますが、長くなるのでとりあえず先に簡単に具体例を示します。\n",
    "\n",
    "### →本人を×nしてくれる（n回足してくれる）！（レンジは繰り返しできない）"
   ]
  },
  {
   "cell_type": "code",
   "execution_count": 7,
   "metadata": {},
   "outputs": [
    {
     "name": "stdout",
     "output_type": "stream",
     "text": [
      "['ウラ', 'ムロイ', 'コバヤシ', 'ミワ', 'ウラ', 'ムロイ', 'コバヤシ', 'ミワ']\n",
      "('ウラ', 'ムロイ', 'コバヤシ', 'ミワ', 'ウラ', 'ムロイ', 'コバヤシ', 'ミワ', 'ウラ', 'ムロイ', 'コバヤシ', 'ミワ')\n",
      "[]\n",
      "()\n"
     ]
    },
    {
     "ename": "TypeError",
     "evalue": "unsupported operand type(s) for *: 'range' and 'int'",
     "output_type": "error",
     "traceback": [
      "\u001b[1;31m---------------------------------------------------------------------------\u001b[0m",
      "\u001b[1;31mTypeError\u001b[0m                                 Traceback (most recent call last)",
      "\u001b[1;32m<ipython-input-7-857debec9a4b>\u001b[0m in \u001b[0;36m<module>\u001b[1;34m()\u001b[0m\n\u001b[0;32m      3\u001b[0m \u001b[0mprint\u001b[0m\u001b[1;33m(\u001b[0m\u001b[0mlast_name_list\u001b[0m\u001b[1;33m*\u001b[0m\u001b[1;36m0\u001b[0m\u001b[1;33m)\u001b[0m   \u001b[1;31m# 0をかける\u001b[0m\u001b[1;33m\u001b[0m\u001b[0m\n\u001b[0;32m      4\u001b[0m \u001b[0mprint\u001b[0m\u001b[1;33m(\u001b[0m\u001b[0mlast_name_tuple\u001b[0m\u001b[1;33m*\u001b[0m\u001b[1;33m-\u001b[0m\u001b[1;36m2\u001b[0m\u001b[1;33m)\u001b[0m \u001b[1;31m# マイナスの値をかける\u001b[0m\u001b[1;33m\u001b[0m\u001b[0m\n\u001b[1;32m----> 5\u001b[1;33m \u001b[0mprint\u001b[0m\u001b[1;33m(\u001b[0m\u001b[0mmembers_range\u001b[0m\u001b[1;33m*\u001b[0m\u001b[1;36m5\u001b[0m\u001b[1;33m)\u001b[0m    \u001b[1;31m# レンジはかけられない（繰り返しできない）。これはmembers_range自身を5回足すのと同じこと。\u001b[0m\u001b[1;33m\u001b[0m\u001b[0m\n\u001b[0m",
      "\u001b[1;31mTypeError\u001b[0m: unsupported operand type(s) for *: 'range' and 'int'"
     ]
    }
   ],
   "source": [
    "print(last_name_list*2)   # リスト\n",
    "print(last_name_tuple*3)  # タプル\n",
    "print(last_name_list*0)   # 0をかける\n",
    "print(last_name_tuple*-2) # マイナスの値をかける\n",
    "print(members_range*5)    # レンジはかけられない（繰り返しできない）。これはmembers_range自身を5回足すのと同じこと。"
   ]
  },
  {
   "cell_type": "markdown",
   "metadata": {},
   "source": [
    "注１）0 未満の値 n は 0 として扱われます (これは s と同じ型の空のシーケンスを表します)。シーケンス s の要素はコピーされないので注意してください; コピーではなく要素に対する参照カウントが増えます。これは Python に慣れていないプログラマをよく悩ませます。例えば以下のコードを考えます:\n",
    "\n",
    ">>> lists = [[]] * 3   \n",
    ">>> lists    \n",
    "[[], [], []]    \n",
    ">>> lists[0].append(3)    \n",
    ">>> lists    \n",
    "[[3], [3], [3]]\n",
    "\n",
    "ここで、[[]] が空リストを含む 1 要素のリストなので、[[]] * 3 の 3 要素はこの一つの空リスト (への参照) です。lists のいずれかの要素を変更すると、その一つのリストが変更されます。別々のリストのリストを作るにはこうします:\n",
    "\n",
    ">>> lists = [[] for i in range(3)]   \n",
    ">>> lists[0].append(3)   \n",
    ">>> lists[1].append(5)   \n",
    ">>> lists[2].append(7)    \n",
    ">>> lists   \n",
    "[[3], [5], [7]]\n",
    "\n",
    "注２）シーケンス型には、 (range のように) 特殊なパターンに従う項目のシーケンスのみをサポートするものがあり、それらはシーケンスの結合や繰り返しをサポートしません。\n",
    "\n",
    "～～～～～～～～～～～～～～～～～～～～～～～～～～～～～～～～～～～～～～～～～～～～～～～～～～～～～～～～～～～～～～～～～～～～～～～"
   ]
  },
  {
   "cell_type": "markdown",
   "metadata": {},
   "source": [
    "要素に対する参照カウントが増える、とは、、、？\n",
    "\n",
    "[公式](https://docs.python.org/ja/3.6/c-api/intro.html#objects-types-and-reference-counts)曰く「参照カウントは、あるオブジェクトに対して参照を行っている場所が何箇所あるかを数える値です。参照を行っている場所とは、別のオブジェクトであったり、グローバルな (あるいは静的な) C 変数であったり、何らかの C 関数内にあるローカルな変数だったりします。あるオブジェクトの参照カウントがゼロになると、そのオブジェクトは解放されます。そのオブジェクトに他のオブジェクトへの参照が入っていれば、他のオブジェクトの参照カウントはデクリメントされます。デクリメントの結果、他のオブジェクトの参照カウントがゼロになると、今度はそのオブジェクトが解放される、といった具合に以後続きます。(言うまでもなく、互いを参照しあうオブジェクトについて問題があります; 現状では、解決策は \"何もしない\" です。)」\n",
    "\n"
   ]
  },
  {
   "cell_type": "code",
   "execution_count": 8,
   "metadata": {},
   "outputs": [
    {
     "name": "stdout",
     "output_type": "stream",
     "text": [
      "[[], [], []]\n",
      "[[3], [3], [3]]\n"
     ]
    }
   ],
   "source": [
    "# 注1のハナシ\n",
    "lists = [[]]*3\n",
    "print(lists)\n",
    "lists[0].append(3)   # listsの０番目の要素（listsの中の一つ目のリスト）に３を加える\n",
    "print(lists)         # んだけど、全部に３が加わる！なぜなら、lists = [[]]*3 の操作で，参照先が同じオブジェクトを3つ生成してしまっているから。"
   ]
  },
  {
   "cell_type": "code",
   "execution_count": 9,
   "metadata": {},
   "outputs": [
    {
     "name": "stdout",
     "output_type": "stream",
     "text": [
      "[[3], [], []]\n"
     ]
    }
   ],
   "source": [
    "# 注1のハナシ\n",
    "lists = [[] for i in range(3)]   # 内包表記を使うと解決するみたい。なんでかというと、参照先が違うオブジェクトを生成できているから。\n",
    "lists[0].append(3)               # なんだけど、どうして参照先を違くすることができてるのかな？？\n",
    "# lists[1].append(5)　※ 上との比較がしやすいようにこの2行は無視しますね。\n",
    "# lists[2].append(7)\n",
    "print(lists)"
   ]
  },
  {
   "cell_type": "markdown",
   "metadata": {},
   "source": [
    "[Qiita](https://qiita.com/ponnhide/items/cda0f3f7ac88262eb31e)曰く「変数に新たなオブジェクトそのものが代入されるときには、これまでの参照先から変わって新たなオブジェクトが作られた場所を参照するようになる。」とのこと。"
   ]
  },
  {
   "cell_type": "markdown",
   "metadata": {},
   "source": [
    "#### わっわっかんねー(+o+)どうして内包表記にすると参照先が違うオブジェクトをつくれるの？？？二つの違いがわからんのだが！！！(ブチギレ)"
   ]
  },
  {
   "cell_type": "markdown",
   "metadata": {},
   "source": [
    "（私は理解できなかったけど）参考になりそうなページ\n",
    "[amacbee's blog](http://amacbee.hatenablog.com/entry/2016/12/07/004510) , [Qiita](https://qiita.com/kaka__non/items/bd3e642eeb909fa8406c) , \n",
    "[note.nkmk](https://note.nkmk.me/python-list-initialize/) , \n",
    "[Python入門](https://www.google.co.jp/amp/s/pycarnival.com/list/%3Famp=1) "
   ]
  },
  {
   "cell_type": "markdown",
   "metadata": {},
   "source": [
    "# ⑤s[i]\n",
    "(公式)s の 0 から数えて i 番目の要素\n",
    "\n",
    "注）i または j が負の数の場合、インデックスはシーケンスの末端からの相対インデックスになります: len(s) + i または len(s) + j が代わりに使われます。 ただし -0 はやはり 0 であることに注意してください。\n",
    "\n",
    "### →リストやタプルのi番目の要素をを取り出してくれる！（一つ目は０番）"
   ]
  },
  {
   "cell_type": "code",
   "execution_count": 10,
   "metadata": {},
   "outputs": [
    {
     "name": "stdout",
     "output_type": "stream",
     "text": [
      "['ウラ', 'ムロイ', 'コバヤシ', 'ミワ']\n",
      "('ウラ', 'ムロイ', 'コバヤシ', 'ミワ')\n",
      "ウラ\n",
      "ウラ\n",
      "ミワ\n",
      "コバヤシ\n",
      "ムロイ\n",
      "ウラ\n",
      "range(0, 4)\n",
      "3\n"
     ]
    },
    {
     "ename": "IndexError",
     "evalue": "range object index out of range",
     "output_type": "error",
     "traceback": [
      "\u001b[1;31m---------------------------------------------------------------------------\u001b[0m",
      "\u001b[1;31mIndexError\u001b[0m                                Traceback (most recent call last)",
      "\u001b[1;32m<ipython-input-10-1f4de4792cf4>\u001b[0m in \u001b[0;36m<module>\u001b[1;34m()\u001b[0m\n\u001b[0;32m     10\u001b[0m \u001b[0mprint\u001b[0m\u001b[1;33m(\u001b[0m\u001b[0mmembers_range\u001b[0m\u001b[1;33m)\u001b[0m\u001b[1;33m\u001b[0m\u001b[0m\n\u001b[0;32m     11\u001b[0m \u001b[0mprint\u001b[0m\u001b[1;33m(\u001b[0m\u001b[0mmembers_range\u001b[0m\u001b[1;33m[\u001b[0m\u001b[1;36m3\u001b[0m\u001b[1;33m]\u001b[0m\u001b[1;33m)\u001b[0m     \u001b[1;31m# members_range = range(4) の3番目の要素(？)\u001b[0m\u001b[1;33m\u001b[0m\u001b[0m\n\u001b[1;32m---> 12\u001b[1;33m \u001b[0mprint\u001b[0m\u001b[1;33m(\u001b[0m\u001b[0mmembers_range\u001b[0m\u001b[1;33m[\u001b[0m\u001b[1;36m6\u001b[0m\u001b[1;33m]\u001b[0m\u001b[1;33m)\u001b[0m     \u001b[1;31m# 6は入ってない\u001b[0m\u001b[1;33m\u001b[0m\u001b[0m\n\u001b[0m",
      "\u001b[1;31mIndexError\u001b[0m: range object index out of range"
     ]
    }
   ],
   "source": [
    "print(last_name_list)\n",
    "print(last_name_tuple)\n",
    "print(last_name_list[0])    # 一つ目は0\n",
    "print(last_name_list[-0])   # -0は0と同じ。len(last_name_list)+(-0)=4 が代わりに使われる。\n",
    "print(last_name_list[-1])   # うしろから一つ目は-1。len(last_name_list)+(-1)=3 が代わりに使われる。\n",
    "print(last_name_tuple[-2])  # tupleでも同じ\n",
    "print(last_name_tuple[-3])\n",
    "print(last_name_tuple[-4])\n",
    "\n",
    "print(members_range)\n",
    "print(members_range[3])     # members_range = range(4) の3番目の要素(？) \n",
    "print(members_range[6])     # 6は入ってない"
   ]
  }
 ],
 "metadata": {
  "kernelspec": {
   "display_name": "Python 3",
   "language": "python",
   "name": "python3"
  },
  "language_info": {
   "codemirror_mode": {
    "name": "ipython",
    "version": 3
   },
   "file_extension": ".py",
   "mimetype": "text/x-python",
   "name": "python",
   "nbconvert_exporter": "python",
   "pygments_lexer": "ipython3",
   "version": "3.7.0"
  }
 },
 "nbformat": 4,
 "nbformat_minor": 2
}
