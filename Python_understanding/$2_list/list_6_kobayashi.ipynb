{
 "cells": [
  {
   "cell_type": "markdown",
   "metadata": {},
   "source": [
    "# ⑥s.append(x)\n",
    "\n",
    "## x をシーケンスの最後に加えます (s[len(s):len(s)] = [x] と同じ)(公式)\n",
    "\n",
    "### リストの末尾に１つだけ付加できる。２個以上は無理なんよね、、、"
   ]
  },
  {
   "cell_type": "code",
   "execution_count": 13,
   "metadata": {},
   "outputs": [
    {
     "name": "stdout",
     "output_type": "stream",
     "text": [
      "['よ', 'い', 'ち', 'D', 'S', 'こ']\n"
     ]
    }
   ],
   "source": [
    "a = [\"よ\",\"い\",\"ち\",\"D\",\"S\"]\n",
    "a.append(\"こ\")\n",
    "print(a)"
   ]
  },
  {
   "cell_type": "code",
   "execution_count": 14,
   "metadata": {},
   "outputs": [
    {
     "ename": "TypeError",
     "evalue": "append() takes exactly one argument (2 given)",
     "output_type": "error",
     "traceback": [
      "\u001b[1;31m---------------------------------------------------------------------------\u001b[0m",
      "\u001b[1;31mTypeError\u001b[0m                                 Traceback (most recent call last)",
      "\u001b[1;32m<ipython-input-14-a55de9990c39>\u001b[0m in \u001b[0;36m<module>\u001b[1;34m\u001b[0m\n\u001b[0;32m      1\u001b[0m \u001b[0mb\u001b[0m \u001b[1;33m=\u001b[0m \u001b[1;33m[\u001b[0m\u001b[1;34m\"よ\"\u001b[0m\u001b[1;33m,\u001b[0m\u001b[1;34m\"こ\"\u001b[0m\u001b[1;33m,\u001b[0m\u001b[1;34m\"い\"\u001b[0m\u001b[1;33m,\u001b[0m\u001b[1;34m\"ち\"\u001b[0m\u001b[1;33m]\u001b[0m\u001b[1;33m\u001b[0m\u001b[1;33m\u001b[0m\u001b[0m\n\u001b[1;32m----> 2\u001b[1;33m \u001b[0ma\u001b[0m\u001b[1;33m.\u001b[0m\u001b[0mappend\u001b[0m\u001b[1;33m(\u001b[0m\u001b[1;34m\"D\"\u001b[0m\u001b[1;33m,\u001b[0m\u001b[1;34m\"S\"\u001b[0m\u001b[1;33m)\u001b[0m\u001b[1;33m\u001b[0m\u001b[1;33m\u001b[0m\u001b[0m\n\u001b[0m\u001b[0;32m      3\u001b[0m \u001b[0mprint\u001b[0m\u001b[1;33m(\u001b[0m\u001b[0mb\u001b[0m\u001b[1;33m)\u001b[0m\u001b[1;33m\u001b[0m\u001b[1;33m\u001b[0m\u001b[0m\n\u001b[0;32m      4\u001b[0m \u001b[1;33m\u001b[0m\u001b[0m\n\u001b[0;32m      5\u001b[0m \u001b[1;31m# appendはちょうど１個しか追加できないよー。append() takes exactly one argument (2 given)\u001b[0m\u001b[1;33m\u001b[0m\u001b[1;33m\u001b[0m\u001b[1;33m\u001b[0m\u001b[0m\n",
      "\u001b[1;31mTypeError\u001b[0m: append() takes exactly one argument (2 given)"
     ]
    }
   ],
   "source": [
    "b = [\"よ\",\"こ\",\"い\",\"ち\"]\n",
    "a.append(\"D\",\"S\")\n",
    "print(b)\n",
    "\n",
    "# appendはちょうど１個しか追加できないよー。append() takes exactly one argument (2 given)"
   ]
  },
  {
   "cell_type": "code",
   "execution_count": 15,
   "metadata": {},
   "outputs": [
    {
     "name": "stdout",
     "output_type": "stream",
     "text": [
      "['よ', 'こ', 'い', 'ち', ['D', 'S']]\n"
     ]
    }
   ],
   "source": [
    "b = [\"よ\",\"こ\",\"い\",\"ち\"]\n",
    "b.append([\"D\",\"S\"])\n",
    "print(b)\n",
    "\n",
    "# リストにしてしまえば１個になるから付加できるんすよねー"
   ]
  },
  {
   "cell_type": "code",
   "execution_count": 22,
   "metadata": {
    "scrolled": true
   },
   "outputs": [
    {
     "ename": "TypeError",
     "evalue": "append() takes exactly one argument (2 given)",
     "output_type": "error",
     "traceback": [
      "\u001b[1;31m---------------------------------------------------------------------------\u001b[0m",
      "\u001b[1;31mTypeError\u001b[0m                                 Traceback (most recent call last)",
      "\u001b[1;32m<ipython-input-22-7508b4cb5c18>\u001b[0m in \u001b[0;36m<module>\u001b[1;34m\u001b[0m\n\u001b[0;32m      1\u001b[0m \u001b[0mb\u001b[0m \u001b[1;33m=\u001b[0m \u001b[1;33m[\u001b[0m\u001b[1;34m\"よ\"\u001b[0m\u001b[1;33m,\u001b[0m\u001b[1;34m\"こ\"\u001b[0m\u001b[1;33m,\u001b[0m\u001b[1;34m\"い\"\u001b[0m\u001b[1;33m,\u001b[0m\u001b[1;34m\"ち\"\u001b[0m\u001b[1;33m]\u001b[0m\u001b[1;33m\u001b[0m\u001b[1;33m\u001b[0m\u001b[0m\n\u001b[1;32m----> 2\u001b[1;33m \u001b[0mb\u001b[0m\u001b[1;33m.\u001b[0m\u001b[0mappend\u001b[0m\u001b[1;33m(\u001b[0m\u001b[1;33m[\u001b[0m\u001b[1;34m\"D\"\u001b[0m\u001b[1;33m,\u001b[0m\u001b[1;34m\"S\"\u001b[0m\u001b[1;33m]\u001b[0m\u001b[1;33m,\u001b[0m\u001b[1;33m[\u001b[0m\u001b[1;34m\"最高\"\u001b[0m\u001b[1;33m]\u001b[0m\u001b[1;33m)\u001b[0m\u001b[1;33m\u001b[0m\u001b[1;33m\u001b[0m\u001b[0m\n\u001b[0m\u001b[0;32m      3\u001b[0m \u001b[0mprint\u001b[0m\u001b[1;33m(\u001b[0m\u001b[0mb\u001b[0m\u001b[1;33m)\u001b[0m\u001b[1;33m\u001b[0m\u001b[1;33m\u001b[0m\u001b[0m\n\u001b[0;32m      4\u001b[0m \u001b[1;33m\u001b[0m\u001b[0m\n\u001b[0;32m      5\u001b[0m \u001b[1;31m# なおリストを２個以上にしてもエラーになりますね…\u001b[0m\u001b[1;33m\u001b[0m\u001b[1;33m\u001b[0m\u001b[1;33m\u001b[0m\u001b[0m\n",
      "\u001b[1;31mTypeError\u001b[0m: append() takes exactly one argument (2 given)"
     ]
    }
   ],
   "source": [
    "b = [\"よ\",\"こ\",\"い\",\"ち\"]\n",
    "b.append([\"D\",\"S\"],[\"最高\"])\n",
    "print(b)\n",
    "\n",
    "# なおリストを２個以上にしてもエラーになりますね…"
   ]
  },
  {
   "cell_type": "markdown",
   "metadata": {},
   "source": [
    "### 余談その1。リストaを再掲"
   ]
  },
  {
   "cell_type": "code",
   "execution_count": 25,
   "metadata": {},
   "outputs": [
    {
     "name": "stdout",
     "output_type": "stream",
     "text": [
      "['よ', 'い', 'ち', 'D', 'S', 'こ']\n"
     ]
    }
   ],
   "source": [
    "a = [\"よ\",\"い\",\"ち\",\"D\",\"S\"]\n",
    "a.append(\"こ\")\n",
    "print(a)"
   ]
  },
  {
   "cell_type": "markdown",
   "metadata": {},
   "source": [
    "### \"よこいちDS\"にしたい！！ \"よ\" と \"い\" の間に \"こ\" を入れたい！！どうしよう……\n",
    "## ↓\n",
    "## こんなときは insert を使おう(☆∀☆)\n",
    "\n",
    "\n",
    "### リスト名.insert(リストの番号,入れたい値)とすれば好きな場所に追加できる"
   ]
  },
  {
   "cell_type": "code",
   "execution_count": 28,
   "metadata": {},
   "outputs": [
    {
     "name": "stdout",
     "output_type": "stream",
     "text": [
      "['よ', 'こ', 'い', 'ち', 'D', 'S']\n"
     ]
    }
   ],
   "source": [
    "a = [\"よ\",\"い\",\"ち\",\"D\",\"S\"]\n",
    "a.insert(1,\"こ\")\n",
    "print(a)"
   ]
  },
  {
   "cell_type": "markdown",
   "metadata": {},
   "source": [
    "### 余談その2。リストbを再掲"
   ]
  },
  {
   "cell_type": "code",
   "execution_count": 30,
   "metadata": {},
   "outputs": [
    {
     "name": "stdout",
     "output_type": "stream",
     "text": [
      "['よ', 'こ', 'い', 'ち', ['D', 'S']]\n"
     ]
    }
   ],
   "source": [
    "b = [\"よ\",\"こ\",\"い\",\"ち\"]\n",
    "b.append([\"D\",\"S\"])\n",
    "print(b)"
   ]
  },
  {
   "cell_type": "markdown",
   "metadata": {},
   "source": [
    "### \"よこいちDS\"にしたい！！  [\"D\",\"S\"]の \" [ ] \" がいらんなぁ…なんとかせんとなぁ…\n",
    "### リストの中身だけ追加できへんかなぁ…\n",
    "## ↓\n",
    "## extendを使えばいいんや！！ appendはリストにそのまま付加しかできへんけど、extendならリストに結合できる！\n",
    "\n",
    "\n",
    "### リスト名.extend(リスト)とすればリストの中身だけ追加できる"
   ]
  },
  {
   "cell_type": "code",
   "execution_count": 31,
   "metadata": {},
   "outputs": [
    {
     "name": "stdout",
     "output_type": "stream",
     "text": [
      "['よ', 'こ', 'い', 'ち', 'D', 'S']\n"
     ]
    }
   ],
   "source": [
    "b = [\"よ\",\"こ\",\"い\",\"ち\"]\n",
    "b.extend([\"D\",\"S\"])\n",
    "print(b)"
   ]
  },
  {
   "cell_type": "markdown",
   "metadata": {},
   "source": [
    "# ⑦s.clear()\n",
    "\n",
    "## s から全ての要素を取り除きます (del s[:] と同じ)(公式)\n",
    "\n",
    "### 要素がすべて消せるだけ。実に分かりやすい"
   ]
  },
  {
   "cell_type": "code",
   "execution_count": 43,
   "metadata": {},
   "outputs": [
    {
     "name": "stdout",
     "output_type": "stream",
     "text": [
      "['カルビ', 'ハラミ', 'タン', 'ホルモン', 'ロース', 'ヒレ']\n",
      "[]\n"
     ]
    }
   ],
   "source": [
    "焼き肉 = [\"カルビ\",\"ハラミ\",\"タン\",\"ホルモン\",\"ロース\",\"ヒレ\"]\n",
    "print(焼き肉)\n",
    "\n",
    "焼き肉.clear()\n",
    "print(焼き肉)"
   ]
  },
  {
   "cell_type": "code",
   "execution_count": 45,
   "metadata": {},
   "outputs": [
    {
     "name": "stdout",
     "output_type": "stream",
     "text": [
      "{'A': 'Apple', 'L': 'Lemon', 'O': 'Orange'}\n",
      "{}\n"
     ]
    }
   ],
   "source": [
    "fruits = {\"A\":\"Apple\", \"L\":\"Lemon\", \"O\":\"Orange\"}\n",
    "print(fruits)\n",
    "\n",
    "fruits.clear()\n",
    "print(fruits)"
   ]
  },
  {
   "cell_type": "markdown",
   "metadata": {},
   "source": [
    "# ⑧s.copy()\n",
    "\n",
    "## s の浅いコピーを作成します (s[:] と同じ)(公式)\n",
    "\n",
    "### コピーが作れるらしい。ありがたみがよくわからない"
   ]
  },
  {
   "cell_type": "code",
   "execution_count": 57,
   "metadata": {},
   "outputs": [
    {
     "name": "stdout",
     "output_type": "stream",
     "text": [
      "[1, 2, 3, 4, 5]\n",
      "[6, 2, 3, 4, 5]\n"
     ]
    }
   ],
   "source": [
    "a = [1,2,3,4,5]\n",
    "b = a.copy()\n",
    "print(b)\n",
    "\n",
    "b[0] = 6\n",
    "print(b)"
   ]
  },
  {
   "cell_type": "code",
   "execution_count": 59,
   "metadata": {},
   "outputs": [
    {
     "name": "stdout",
     "output_type": "stream",
     "text": [
      "[1, 2, 3, 4, 5]\n",
      "[6, 2, 3, 4, 5]\n"
     ]
    }
   ],
   "source": [
    "a = [1,2,3,4,5]\n",
    "b = a\n",
    "print(b)\n",
    "\n",
    "b[0] = 6\n",
    "print(b)"
   ]
  },
  {
   "cell_type": "markdown",
   "metadata": {},
   "source": [
    "# ⑨s.extend(t) または s += t\n",
    "## s を t の内容で拡張します (ほとんど s[len(s):len(s)] = t と同じ)(公式)\n",
    "### リストに指定の要素を追加できる\n",
    "## リスト.extend(追加したいリスト or タプル or 集合)"
   ]
  },
  {
   "cell_type": "code",
   "execution_count": 67,
   "metadata": {},
   "outputs": [
    {
     "name": "stdout",
     "output_type": "stream",
     "text": [
      "['パブロン', 'ルル', '葛根湯']\n",
      "['パブロン', 'ルル', '葛根湯', '龍角散', 'ベンザブロック']\n"
     ]
    }
   ],
   "source": [
    "風邪薬 = [\"パブロン\",\"ルル\",\"葛根湯\"]\n",
    "print(風邪薬)\n",
    "\n",
    "風邪薬.extend([\"龍角散\",\"ベンザブロック\"])\n",
    "print(風邪薬)\n",
    "\n",
    "# リストで追加"
   ]
  },
  {
   "cell_type": "code",
   "execution_count": 68,
   "metadata": {},
   "outputs": [
    {
     "name": "stdout",
     "output_type": "stream",
     "text": [
      "['ウーロン茶', '麦茶', '緑茶']\n",
      "['ウーロン茶', '麦茶', '緑茶', '爽健美茶', 'マテ茶']\n"
     ]
    }
   ],
   "source": [
    "お茶 = [\"ウーロン茶\",\"麦茶\",\"緑茶\"]\n",
    "print(お茶)\n",
    "\n",
    "お茶.extend((\"爽健美茶\",\"マテ茶\"))\n",
    "print(お茶)\n",
    "\n",
    "# タプルで追加"
   ]
  },
  {
   "cell_type": "code",
   "execution_count": 69,
   "metadata": {},
   "outputs": [
    {
     "name": "stdout",
     "output_type": "stream",
     "text": [
      "['マグロ', 'サーモン', 'アジ']\n",
      "['マグロ', 'サーモン', 'アジ', 'イカ', 'タコ']\n"
     ]
    }
   ],
   "source": [
    "寿司 = [\"マグロ\",\"サーモン\",\"アジ\"]\n",
    "print(寿司)\n",
    "\n",
    "寿司.extend({\"イカ\",\"タコ\",})\n",
    "print(寿司)\n",
    "\n",
    "# セット(集合)で追加"
   ]
  },
  {
   "cell_type": "markdown",
   "metadata": {},
   "source": [
    "## だがしかし！ += でも追加できるのだ！ さっきは調べ足りなかったわ。こっちの方が直感的にわかりやすいよね"
   ]
  },
  {
   "cell_type": "code",
   "execution_count": 74,
   "metadata": {},
   "outputs": [
    {
     "name": "stdout",
     "output_type": "stream",
     "text": [
      "['ヒコザル', 'ナエトル']\n",
      "['ヒコザル', 'ナエトル', 'ポッチャマ']\n"
     ]
    }
   ],
   "source": [
    "シンオウ御三家 = [\"ヒコザル\",\"ナエトル\"]\n",
    "print(シンオウ御三家)\n",
    "\n",
    "シンオウ御三家 += [\"ポッチャマ\"]\n",
    "print(シンオウ御三家)\n",
    "\n",
    "# リストで追加"
   ]
  },
  {
   "cell_type": "code",
   "execution_count": 79,
   "metadata": {},
   "outputs": [
    {
     "name": "stdout",
     "output_type": "stream",
     "text": [
      "['ヒコザル', 'ナエトル']\n",
      "['ヒコザル', 'ナエトル', 'ポッチャマ']\n"
     ]
    }
   ],
   "source": [
    "シンオウ御三家 = [\"ヒコザル\",\"ナエトル\"]\n",
    "print(シンオウ御三家)\n",
    "\n",
    "シンオウ御三家 += {\"ポッチャマ\"}\n",
    "print(シンオウ御三家)\n",
    "\n",
    "# セットで追加"
   ]
  },
  {
   "cell_type": "markdown",
   "metadata": {},
   "source": [
    "## だがだがしかし！リストまたはセットで追加すると上記のように上手くいくが、タプルでは思うようにいかなかった。注意ですね"
   ]
  },
  {
   "cell_type": "code",
   "execution_count": 77,
   "metadata": {},
   "outputs": [
    {
     "name": "stdout",
     "output_type": "stream",
     "text": [
      "['ヒコザル', 'ナエトル']\n",
      "['ヒコザル', 'ナエトル', 'ポ', 'ッ', 'チ', 'ャ', 'マ']\n"
     ]
    }
   ],
   "source": [
    "シンオウ御三家 = [\"ヒコザル\",\"ナエトル\"]\n",
    "print(シンオウ御三家)\n",
    "\n",
    "シンオウ御三家 += (\"ポッチャマ\")\n",
    "print(シンオウ御三家)"
   ]
  },
  {
   "cell_type": "markdown",
   "metadata": {},
   "source": [
    "##### めっちゃポッチャマだけ強そうやな…"
   ]
  }
 ],
 "metadata": {
  "kernelspec": {
   "display_name": "Python 3",
   "language": "python",
   "name": "python3"
  },
  "language_info": {
   "codemirror_mode": {
    "name": "ipython",
    "version": 3
   },
   "file_extension": ".py",
   "mimetype": "text/x-python",
   "name": "python",
   "nbconvert_exporter": "python",
   "pygments_lexer": "ipython3",
   "version": "3.7.3"
  }
 },
 "nbformat": 4,
 "nbformat_minor": 2
}
