{
  "nbformat": 4,
  "nbformat_minor": 0,
  "metadata": {
    "colab": {
      "name": "list_10_ura.ipynb",
      "provenance": [],
      "include_colab_link": true
    },
    "kernelspec": {
      "name": "python3",
      "display_name": "Python 3"
    }
  },
  "cells": [
    {
      "cell_type": "markdown",
      "metadata": {
        "id": "view-in-github",
        "colab_type": "text"
      },
      "source": [
        "<a href=\"https://colab.research.google.com/github/YutaUra/YCU-Programing/blob/master/Python_understanding/%242_list/list_10_ura.ipynb\" target=\"_parent\"><img src=\"https://colab.research.google.com/assets/colab-badge.svg\" alt=\"Open In Colab\"/></a>"
      ]
    },
    {
      "cell_type": "markdown",
      "metadata": {
        "id": "n5XFqZ7vpUsI",
        "colab_type": "text"
      },
      "source": [
        "# rangeの構成\n",
        "\n",
        "`class range(start, stop[, step])`\n",
        "\n",
        "> range コンストラクタの引数は整数 (組み込みの int または __index__ 特殊メソッドを実装するオブジェクト) でなければなりません。step 引数が省略された場合のデフォルト値は 1 です。start 引数が省略された場合のデフォルト値は 0 です。 step が 0 の場合、ValueError が送出されます。\n",
        ">\n",
        ">step が正の場合、range r の内容は式 r[i] = start + step*i で決定されます。ここで、 i >= 0 かつ r[i] < stop です。\n",
        ">\n",
        ">step が負の場合も、range r の内容は式 r[i] = start + step*i で決定されます。ただし、制約条件は i >= 0 かつ r[i] > stop です。\n",
        ">\n",
        ">r[0] が値の制約を満たさない場合、range オブジェクトは空になります。range は負のインデックスをサポートしますが、これらは正のインデックスにより決定されるシーケンスの末尾からのインデックス指定として解釈されます。\n",
        ">\n",
        ">range は sys.maxsize より大きい絶対値を含むことができますが、いくつかの機能 (len() など) は OverflowError を送出することがあります。\n",
        ">\n",
        ">range の例:\n",
        ">```python\n",
        ">>> list(range(10))\n",
        "[0, 1, 2, 3, 4, 5, 6, 7, 8, 9]\n",
        ">>> list(range(1, 11))\n",
        "[1, 2, 3, 4, 5, 6, 7, 8, 9, 10]\n",
        ">>> list(range(0, 30, 5))\n",
        "[0, 5, 10, 15, 20, 25]\n",
        ">>> list(range(0, 10, 3))\n",
        "[0, 3, 6, 9]\n",
        ">>> list(range(0, -10, -1))\n",
        "[0, -1, -2, -3, -4, -5, -6, -7, -8, -9]\n",
        ">>> list(range(0))\n",
        "[]\n",
        ">>> list(range(1, 0))\n",
        "[]\n",
        "\n",
        "## rangeとcollection(list, tunple)との違いは？\n",
        "\n",
        "***range は 共通の シーケンス演算を、結合と繰り返し以外すべて実装します (range オブジェクトは厳格なパターンに従うシーケンスのみを表せ、繰り返しと結合はたいていそのパターンを破るという事実によります)。***\n",
        "\n",
        "## なぜrangeを使うのか？\n",
        "\n",
        "***range 型が通常の list や tuple にまさる点は、range オブジェクトがサイズや表す範囲にかかわらず常に一定の (小さな) 量のメモリを使うことです (start、stop、step の値のみを保存し、後は必要に応じて個々の項目や部分 range を計算するためです)。***\n",
        "\n",
        "コード例：\n",
        "```python\n",
        ">>> r = range(0, 20, 2)\n",
        ">>> r\n",
        "range(0, 20, 2)\n",
        ">>> 11 in r\n",
        "False\n",
        ">>> 10 in r\n",
        "True\n",
        ">>> r.index(10)\n",
        "5\n",
        ">>> r[5]\n",
        "10\n",
        ">>> r[:5]\n",
        "range(0, 10, 2)\n",
        ">>> r[-1]\n",
        "18\n",
        "```"
      ]
    }
  ]
}