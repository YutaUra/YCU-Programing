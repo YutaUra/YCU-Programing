{
 "cells": [
  {
   "cell_type": "markdown",
   "metadata": {},
   "source": [
    "# ①s[i:j]\n",
    "\n",
    "## s の i 番目から j番目 までのスライス(公式)。\n",
    "\n",
    "### スライスは”切り取って取り出す”っていうイメージで良いと思う"
   ]
  },
  {
   "cell_type": "code",
   "execution_count": 16,
   "metadata": {},
   "outputs": [
    {
     "data": {
      "text/plain": [
       "'ねぇ！'"
      ]
     },
     "execution_count": 16,
     "metadata": {},
     "output_type": "execute_result"
    }
   ],
   "source": [
    "s1= \"やりますねぇ！\"\n",
    "\n",
    "s1[4:7]"
   ]
  },
  {
   "cell_type": "code",
   "execution_count": 10,
   "metadata": {},
   "outputs": [
    {
     "name": "stdout",
     "output_type": "stream",
     "text": [
      "|p|y|t|h|o|n|\n",
      "0 1 2 3 4 5 6\n"
     ]
    }
   ],
   "source": [
    "print(\"|p|y|t|h|o|n|\")\n",
    "print(\"0 1 2 3 4 5 6\")\n",
    "\n",
    "# n文字の文字列に対し、すべての文字を0からnまでの棒で挟むようにして、指定したインデックスの範囲を取り出してあげるイメージ"
   ]
  },
  {
   "cell_type": "code",
   "execution_count": 15,
   "metadata": {},
   "outputs": [
    {
     "name": "stdout",
     "output_type": "stream",
     "text": [
      "pytho\n",
      "hon\n"
     ]
    }
   ],
   "source": [
    "s2 = \"python\"\n",
    "\n",
    "print(s2[0:5])\n",
    "print(s2[3:6])\n",
    "\n",
    "# pythonの設定上最後のしか反映されないから今回はprint()を使った感じ、前に誰か言ってたよね？"
   ]
  },
  {
   "cell_type": "code",
   "execution_count": 29,
   "metadata": {},
   "outputs": [
    {
     "data": {
      "text/plain": [
       "['ringo', 'gorira', 'rappa']"
      ]
     },
     "execution_count": 29,
     "metadata": {},
     "output_type": "execute_result"
    }
   ],
   "source": [
    "siritori = [\"ringo\",\"gorira\",\"rappa\",\"pantu\",\"tumiki\",\"kitune\"]\n",
    "siritori[0:3]\n",
    "\n",
    "# リストでも可"
   ]
  },
  {
   "cell_type": "code",
   "execution_count": 30,
   "metadata": {},
   "outputs": [
    {
     "data": {
      "text/plain": [
       "('ローソン', 'ミニストップ')"
      ]
     },
     "execution_count": 30,
     "metadata": {},
     "output_type": "execute_result"
    }
   ],
   "source": [
    "コンビニ = (\"セブン\",\"ファミマ\",\"ローソン\",\"ミニストップ\")\n",
    "コンビニ[2:4]   \n",
    "\n",
    "# タプルでも可"
   ]
  },
  {
   "cell_type": "code",
   "execution_count": 17,
   "metadata": {},
   "outputs": [
    {
     "ename": "TypeError",
     "evalue": "'int' object is not subscriptable",
     "output_type": "error",
     "traceback": [
      "\u001b[1;31m---------------------------------------------------------------------------\u001b[0m",
      "\u001b[1;31mTypeError\u001b[0m                                 Traceback (most recent call last)",
      "\u001b[1;32m<ipython-input-17-54fe8cbe6a53>\u001b[0m in \u001b[0;36m<module>\u001b[1;34m\u001b[0m\n\u001b[0;32m      1\u001b[0m \u001b[0ms3\u001b[0m \u001b[1;33m=\u001b[0m \u001b[1;36m12345\u001b[0m\u001b[1;33m\u001b[0m\u001b[1;33m\u001b[0m\u001b[0m\n\u001b[1;32m----> 2\u001b[1;33m \u001b[0ms3\u001b[0m\u001b[1;33m[\u001b[0m\u001b[1;36m0\u001b[0m\u001b[1;33m:\u001b[0m\u001b[1;36m3\u001b[0m\u001b[1;33m]\u001b[0m\u001b[1;33m\u001b[0m\u001b[1;33m\u001b[0m\u001b[0m\n\u001b[0m",
      "\u001b[1;31mTypeError\u001b[0m: 'int' object is not subscriptable"
     ]
    }
   ],
   "source": [
    "s3 = 12345\n",
    "s3[0:3]\n",
    "\n",
    "# 文字列じゃないとエラー起きるよねって話"
   ]
  },
  {
   "cell_type": "markdown",
   "metadata": {},
   "source": [
    "# ②s[i:j:k]\n",
    "\n",
    "## sのiからjまで、k毎のスライス(公式)\n",
    "\n",
    "### k毎のスライスとは、k個おきにスライスること。要するにk-1個の文字ずつ飛ばしてスライス！"
   ]
  },
  {
   "cell_type": "code",
   "execution_count": 19,
   "metadata": {},
   "outputs": [
    {
     "data": {
      "text/plain": [
       "'やす！'"
      ]
     },
     "execution_count": 19,
     "metadata": {},
     "output_type": "execute_result"
    }
   ],
   "source": [
    "s1= \"やりますねぇ！\"\n",
    "# 先ほどのs1を再利用～\n",
    "\n",
    "s1[0:7:3]"
   ]
  },
  {
   "cell_type": "code",
   "execution_count": 24,
   "metadata": {},
   "outputs": [
    {
     "data": {
      "text/plain": [
       "'や'"
      ]
     },
     "execution_count": 24,
     "metadata": {},
     "output_type": "execute_result"
    }
   ],
   "source": [
    "s1[0:7:100]\n",
    "\n",
    "# 100個おきに取り出すという無茶な操作でも、含まれている文字が存在すれば成立するようだ"
   ]
  },
  {
   "cell_type": "code",
   "execution_count": 25,
   "metadata": {},
   "outputs": [
    {
     "data": {
      "text/plain": [
       "'やりますねぇ！'"
      ]
     },
     "execution_count": 25,
     "metadata": {},
     "output_type": "execute_result"
    }
   ],
   "source": [
    "s1[0:7:1] \n",
    "\n",
    "# 1個おきに取り出すのはデフォルトなので1を入れても動く"
   ]
  },
  {
   "cell_type": "code",
   "execution_count": 26,
   "metadata": {},
   "outputs": [
    {
     "ename": "ValueError",
     "evalue": "slice step cannot be zero",
     "output_type": "error",
     "traceback": [
      "\u001b[1;31m---------------------------------------------------------------------------\u001b[0m",
      "\u001b[1;31mValueError\u001b[0m                                Traceback (most recent call last)",
      "\u001b[1;32m<ipython-input-26-9a5ac37ca4c8>\u001b[0m in \u001b[0;36m<module>\u001b[1;34m\u001b[0m\n\u001b[1;32m----> 1\u001b[1;33m \u001b[0ms1\u001b[0m\u001b[1;33m[\u001b[0m\u001b[1;36m0\u001b[0m\u001b[1;33m:\u001b[0m\u001b[1;36m7\u001b[0m\u001b[1;33m:\u001b[0m\u001b[1;36m0\u001b[0m\u001b[1;33m]\u001b[0m\u001b[1;33m\u001b[0m\u001b[1;33m\u001b[0m\u001b[0m\n\u001b[0m\u001b[0;32m      2\u001b[0m \u001b[1;31m# 0個おきには取り出せない。エラーになっちゃう\u001b[0m\u001b[1;33m\u001b[0m\u001b[1;33m\u001b[0m\u001b[1;33m\u001b[0m\u001b[0m\n",
      "\u001b[1;31mValueError\u001b[0m: slice step cannot be zero"
     ]
    }
   ],
   "source": [
    "s1[0:7:0]\n",
    "# 0個おきには取り出せない。エラーになっちゃう。\"slice step cannot be zero\""
   ]
  },
  {
   "cell_type": "markdown",
   "metadata": {},
   "source": [
    "### リストもタプルも同様の結果になるので割愛。。。イメージはすぐ湧くよね？？"
   ]
  },
  {
   "cell_type": "markdown",
   "metadata": {},
   "source": [
    "# ③len(s)\n",
    "\n",
    "## sの長さ(公式)"
   ]
  },
  {
   "cell_type": "code",
   "execution_count": 34,
   "metadata": {},
   "outputs": [
    {
     "data": {
      "text/plain": [
       "7"
      ]
     },
     "execution_count": 34,
     "metadata": {},
     "output_type": "execute_result"
    }
   ],
   "source": [
    "s1= \"やりますねぇ！\"\n",
    "len(s1)\n",
    "\n",
    "# 普通に文字数が出るね"
   ]
  },
  {
   "cell_type": "code",
   "execution_count": 31,
   "metadata": {},
   "outputs": [
    {
     "data": {
      "text/plain": [
       "6"
      ]
     },
     "execution_count": 31,
     "metadata": {},
     "output_type": "execute_result"
    }
   ],
   "source": [
    "siritori = [\"ringo\",\"gorira\",\"rappa\",\"pantu\",\"tumiki\",\"kitune\"]\n",
    "len(siritori)\n",
    "\n",
    "# 先ほどのリストに適用。要素数が出る"
   ]
  },
  {
   "cell_type": "code",
   "execution_count": 32,
   "metadata": {},
   "outputs": [
    {
     "data": {
      "text/plain": [
       "4"
      ]
     },
     "execution_count": 32,
     "metadata": {},
     "output_type": "execute_result"
    }
   ],
   "source": [
    "コンビニ = (\"セブン\",\"ファミマ\",\"ローソン\",\"ミニストップ\")\n",
    "len(コンビニ)\n",
    "\n",
    "# タプルも要素数だね"
   ]
  },
  {
   "cell_type": "markdown",
   "metadata": {},
   "source": [
    "# ④min(s)\n",
    "\n",
    "### sの最小の要素(公式)"
   ]
  },
  {
   "cell_type": "code",
   "execution_count": 52,
   "metadata": {},
   "outputs": [
    {
     "data": {
      "text/plain": [
       "'ぇ'"
      ]
     },
     "execution_count": 52,
     "metadata": {},
     "output_type": "execute_result"
    }
   ],
   "source": [
    "s1= \"やりますねぇ！\"\n",
    "min(s1)\n",
    "\n",
    "# 五十音的に先頭になる\"ぇ\"が最小だった"
   ]
  },
  {
   "cell_type": "code",
   "execution_count": 37,
   "metadata": {},
   "outputs": [
    {
     "data": {
      "text/plain": [
       "'セブン'"
      ]
     },
     "execution_count": 37,
     "metadata": {},
     "output_type": "execute_result"
    }
   ],
   "source": [
    "コンビニ = (\"セブン\",\"ファミマ\",\"ローソン\",\"ミニストップ\")\n",
    "min(コンビニ)\n",
    "\n",
    "# タプルに適用。最小とは？文字数なのか、五十音なのか"
   ]
  },
  {
   "cell_type": "code",
   "execution_count": 38,
   "metadata": {},
   "outputs": [
    {
     "data": {
      "text/plain": [
       "'gorira'"
      ]
     },
     "execution_count": 38,
     "metadata": {},
     "output_type": "execute_result"
    }
   ],
   "source": [
    "siritori = [\"ringo\",\"gorira\",\"rappa\",\"pantu\",\"tumiki\",\"kitune\"]\n",
    "min(siritori)\n",
    "　\n",
    "# リストにも適用。文字数じゃない気がする。。。アルファベット順？再検証    "
   ]
  },
  {
   "cell_type": "code",
   "execution_count": 44,
   "metadata": {},
   "outputs": [
    {
     "data": {
      "text/plain": [
       "'anaconda'"
      ]
     },
     "execution_count": 44,
     "metadata": {},
     "output_type": "execute_result"
    }
   ],
   "source": [
    "siritori = [\"ringo\",\"gorira\",\"rappa\",\"pantu\",\"tumiki\",\"kitune\"]\n",
    "siritori.append(\"anaconda\")\n",
    "min(siritori)\n",
    "\n",
    "# やっぱりアルファベット順だった。では日本語ではどうか？"
   ]
  },
  {
   "cell_type": "code",
   "execution_count": 48,
   "metadata": {},
   "outputs": [
    {
     "data": {
      "text/plain": [
       "'ドムドムバーガー'"
      ]
     },
     "execution_count": 48,
     "metadata": {},
     "output_type": "execute_result"
    }
   ],
   "source": [
    "ハンバーガーショップ = [\"マック\",\"ファーストキッチン\",\"バーガーキング\",\"ドムドムバーガー\",\"ベッカーズ\"]\n",
    "min(ハンバーガーショップ)\n",
    "# 文字数的に最小はマック、アルファベット順ならベッカーズ、五十音的にはドムドムバーガー。つまり五十音だった！！"
   ]
  },
  {
   "cell_type": "markdown",
   "metadata": {},
   "source": [
    "# ⑤max(s)\n",
    "\n",
    "### sの最大の要素"
   ]
  },
  {
   "cell_type": "markdown",
   "metadata": {},
   "source": [
    "#### 基本的にminの逆と考えれば問題なくわかると思う。なので説明はしょるるるるるる"
   ]
  },
  {
   "cell_type": "code",
   "execution_count": 49,
   "metadata": {},
   "outputs": [
    {
     "data": {
      "text/plain": [
       "'ローソン'"
      ]
     },
     "execution_count": 49,
     "metadata": {},
     "output_type": "execute_result"
    }
   ],
   "source": [
    "コンビニ = (\"セブン\",\"ファミマ\",\"ローソン\",\"ミニストップ\")\n",
    "max(コンビニ)"
   ]
  },
  {
   "cell_type": "code",
   "execution_count": 50,
   "metadata": {},
   "outputs": [
    {
     "data": {
      "text/plain": [
       "'tumiki'"
      ]
     },
     "execution_count": 50,
     "metadata": {},
     "output_type": "execute_result"
    }
   ],
   "source": [
    "siritori = [\"ringo\",\"gorira\",\"rappa\",\"pantu\",\"tumiki\",\"kitune\"]\n",
    "siritori.append(\"anaconda\")\n",
    "\n",
    "max(siritori)"
   ]
  },
  {
   "cell_type": "code",
   "execution_count": 51,
   "metadata": {},
   "outputs": [
    {
     "data": {
      "text/plain": [
       "'！'"
      ]
     },
     "execution_count": 51,
     "metadata": {},
     "output_type": "execute_result"
    }
   ],
   "source": [
    "s1= \"やりますねぇ！\"\n",
    "max(s1)\n",
    "\n",
    "# 記号だから最後になるのかな"
   ]
  }
 ],
 "metadata": {
  "kernelspec": {
   "display_name": "Python 3",
   "language": "python",
   "name": "python3"
  },
  "language_info": {
   "codemirror_mode": {
    "name": "ipython",
    "version": 3
   },
   "file_extension": ".py",
   "mimetype": "text/x-python",
   "name": "python",
   "nbconvert_exporter": "python",
   "pygments_lexer": "ipython3",
   "version": "3.7.3"
  }
 },
 "nbformat": 4,
 "nbformat_minor": 2
}
