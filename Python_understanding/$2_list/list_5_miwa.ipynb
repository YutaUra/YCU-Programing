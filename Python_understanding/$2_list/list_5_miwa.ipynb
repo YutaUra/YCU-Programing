{
 "cells": [
  {
   "cell_type": "markdown",
   "metadata": {},
   "source": [
    "ミュータブルの共通メソッド\n",
    "1. s[i] = x\n",
    "2. s[i:j] = t\n",
    "3. del s[i:j]\n",
    "4. s[i:j:k] = t\n",
    "5. del s[i:j:k]\n",
    "\n",
    "([ウラサマ](https://github.com/YutaUra/YCU-Programing/blob/master/Python_understanding/%242_list/list_4_ura.ipynb))\n",
    "ミュータブルとは\n",
    "変更可能なオブジェクトのこと！\n",
    "例:list, dictなど\n",
    "逆に変更不可(イミュータブル)なオブジェクトはtupleなど"
   ]
  },
  {
   "cell_type": "markdown",
   "metadata": {},
   "source": [
    "# s[i] = x\n",
    "(公式)s の要素 i を x と入れ替えます"
   ]
  },
  {
   "cell_type": "code",
   "execution_count": 1,
   "metadata": {},
   "outputs": [
    {
     "name": "stdout",
     "output_type": "stream",
     "text": [
      "['straight', 'lemon', 'apple', 'milk']\n",
      "['straight', 'peach', 'apple', 'milk']\n",
      "['straight', 'lemon', 'apple', 'milk']\n",
      "('straight', 'lemon', 'apple', 'milk')\n"
     ]
    },
    {
     "ename": "TypeError",
     "evalue": "'tuple' object does not support item assignment",
     "output_type": "error",
     "traceback": [
      "\u001b[1;31m---------------------------------------------------------------------------\u001b[0m",
      "\u001b[1;31mTypeError\u001b[0m                                 Traceback (most recent call last)",
      "\u001b[1;32m<ipython-input-1-3ec057b289af>\u001b[0m in \u001b[0;36m<module>\u001b[1;34m()\u001b[0m\n\u001b[0;32m      9\u001b[0m \u001b[0mtuple_tea\u001b[0m \u001b[1;33m=\u001b[0m \u001b[1;33m(\u001b[0m\u001b[1;34m'straight'\u001b[0m \u001b[1;33m,\u001b[0m \u001b[1;34m'lemon'\u001b[0m \u001b[1;33m,\u001b[0m \u001b[1;34m'apple'\u001b[0m \u001b[1;33m,\u001b[0m \u001b[1;34m'milk'\u001b[0m\u001b[1;33m)\u001b[0m\u001b[1;33m\u001b[0m\u001b[0m\n\u001b[0;32m     10\u001b[0m \u001b[0mprint\u001b[0m\u001b[1;33m(\u001b[0m\u001b[0mtuple_tea\u001b[0m\u001b[1;33m)\u001b[0m   \u001b[1;31m# 変更を加えていない段階のタプル\u001b[0m\u001b[1;33m\u001b[0m\u001b[0m\n\u001b[1;32m---> 11\u001b[1;33m \u001b[0mtuple_tea\u001b[0m\u001b[1;33m[\u001b[0m\u001b[1;36m1\u001b[0m\u001b[1;33m]\u001b[0m \u001b[1;33m=\u001b[0m \u001b[1;34m'peach'\u001b[0m\u001b[1;33m\u001b[0m\u001b[0m\n\u001b[0m\u001b[0;32m     12\u001b[0m \u001b[0mprint\u001b[0m\u001b[1;33m(\u001b[0m\u001b[0mtuple_tea\u001b[0m\u001b[1;33m)\u001b[0m   \u001b[1;31m# タプルはイミュータブルなので変更されません(エラー)\u001b[0m\u001b[1;33m\u001b[0m\u001b[0m\n",
      "\u001b[1;31mTypeError\u001b[0m: 'tuple' object does not support item assignment"
     ]
    }
   ],
   "source": [
    "import copy   # 今回元のリストlist_teaをどんどん変更していくので、copyを使います。元のリスト自体が変わっちゃうとメンドウなので。\n",
    "list_tea = ['straight' , 'lemon' , 'apple' , 'milk']\n",
    "list_tea_1 = copy.deepcopy(list_tea)\n",
    "print(list_tea_1)    # 変更を加えていない段階のリスト\n",
    "list_tea_1[1] = 'peach'\n",
    "print(list_tea_1)    # リストはミュータブルなので変更されました！\n",
    "print(list_tea)      # こっちはコピーされた元のほうなので変更されてないウレシイ⤴⤴\n",
    "\n",
    "tuple_tea = ('straight' , 'lemon' , 'apple' , 'milk')\n",
    "print(tuple_tea)   # 変更を加えていない段階のタプル\n",
    "tuple_tea[1] = 'peach'\n",
    "print(tuple_tea)   # タプルはイミュータブルなので変更されません(エラー)"
   ]
  },
  {
   "cell_type": "markdown",
   "metadata": {},
   "source": [
    "参考\n",
    "[amacbee's blog](http://amacbee.hatenablog.com/entry/2016/12/07/004510)、[Qiita](https://qiita.com/Kaz_K/items/a3d619b9e670e689b6db)どちらもcopyについてのハナシになります。"
   ]
  },
  {
   "cell_type": "markdown",
   "metadata": {},
   "source": [
    "# s[i:j] = t\n",
    "(公式)s の i から j 番目までのスライスをイテラブル t の内容に入れ替えます\n",
    "\n",
    "([小林くん](https://github.com/YutaUra/YCU-Programing/blob/master/Python_understanding/%242_list/list_2_kobayashi.ipynb)スライスのハナシ)\n",
    "\n",
    "    >>> print(\"|p|y|t|h|o|n|\")\n",
    "    >>> print(\"0 1 2 3 4 5 6\")\n",
    "    |p|y|t|h|o|n|\n",
    "    0 1 2 3 4 5 6　\n",
    "    n文字の文字列に対し、すべての文字を0からnまでの棒で挟むようにして、指定したインデックスの範囲を取り出してあげるイメージ\n",
    "\n",
    "([Mastering Python](https://python.ms/iterable/#_1-具体的に言えば)イテラブルのハナシ)\n",
    "\n",
    "イテラブル, iterable ってなに？ for 文で繰り返せるオブジェクトまたはそのクラス 例えば range, リスト, タプル, 集合, 辞書, 文字列は、イテラブルです。 もう少しちゃんと言えば、for 文の in に書き込めるオブジェクトです。"
   ]
  },
  {
   "cell_type": "code",
   "execution_count": 2,
   "metadata": {},
   "outputs": [
    {
     "name": "stdout",
     "output_type": "stream",
     "text": [
      "['straight', 'peach', 'apple', 'milk']\n",
      "['straight', 'lemon', 'apple', 'milk']\n",
      "['green', 'lemon', 'apple', 'milk']\n",
      "['green', 'jasmine', 'barley', 'lemon', 'apple', 'milk']\n",
      "['straight', 'green', 'milk']\n",
      "['g', 'r', 'e', 'e', 'n', 'lemon', 'apple', 'milk']\n"
     ]
    }
   ],
   "source": [
    "list_tea_2 = copy.deepcopy(list_tea)   # さっき使ったlist_tea_1は変更されてしまっているので新たにコピーを作る\n",
    "list_tea_3 = copy.deepcopy(list_tea)   # これ何度もコピーすんのメンドウだなあ、一気に大量生産する方法ないかなあ⚡\n",
    "list_tea_4 = copy.deepcopy(list_tea)\n",
    "list_tea_5 = copy.deepcopy(list_tea)\n",
    "print(list_tea_1)   # 変更されてしまっている\n",
    "print(list_tea_2)   # new!\n",
    "\n",
    "'''\n",
    "list_tea のスライスは、こう。\n",
    "list_tea = ['straight' , 'lemon' , 'apple' , 'milk']\n",
    "            0          1         2         3       4\n",
    "'''\n",
    "\n",
    "list_tea_2[0:1] = ['green']    # 0から1までのスライスつまり一つ目の要素'straight'が、'green'に変更される\n",
    "print(list_tea_2)\n",
    "\n",
    "list_tea_3[0:1] = ['green' , 'jasmine' , 'barley']   # 個数は対応していなくてもOK。(増やした)\n",
    "print(list_tea_3)\n",
    "\n",
    "list_tea_4[1:3] = ['green']    # 1から3までのスライスつまり2，3番目の要素'lemon' , 'apple'が、'green'に変更される(減らした)\n",
    "print(list_tea_4)\n",
    "\n",
    "list_tea_5[0:1] = ('green')   # タプルを入れようとするとばらける。文字列扱いになっているんだっけ？？\n",
    "print(list_tea_5)"
   ]
  },
  {
   "cell_type": "code",
   "execution_count": 3,
   "metadata": {},
   "outputs": [
    {
     "ename": "NameError",
     "evalue": "name 'list_tea_25' is not defined",
     "output_type": "error",
     "traceback": [
      "\u001b[1;31m---------------------------------------------------------------------------\u001b[0m",
      "\u001b[1;31mNameError\u001b[0m                                 Traceback (most recent call last)",
      "\u001b[1;32m<ipython-input-3-7b13644f6756>\u001b[0m in \u001b[0;36m<module>\u001b[1;34m()\u001b[0m\n\u001b[0;32m      2\u001b[0m \u001b[1;32mfor\u001b[0m \u001b[0mi\u001b[0m \u001b[1;32min\u001b[0m \u001b[0mrange\u001b[0m\u001b[1;33m(\u001b[0m\u001b[1;36m1\u001b[0m\u001b[1;33m,\u001b[0m\u001b[1;36m30\u001b[0m\u001b[1;33m)\u001b[0m\u001b[1;33m:\u001b[0m\u001b[1;33m\u001b[0m\u001b[0m\n\u001b[0;32m      3\u001b[0m     \u001b[0mlist_tea_i\u001b[0m \u001b[1;33m=\u001b[0m \u001b[0mcopy\u001b[0m\u001b[1;33m.\u001b[0m\u001b[0mdeepcopy\u001b[0m\u001b[1;33m(\u001b[0m\u001b[0mlist_tea\u001b[0m\u001b[1;33m)\u001b[0m\u001b[1;33m\u001b[0m\u001b[0m\n\u001b[1;32m----> 4\u001b[1;33m \u001b[0mprint\u001b[0m\u001b[1;33m(\u001b[0m\u001b[0mlist_tea_25\u001b[0m\u001b[1;33m)\u001b[0m   \u001b[1;31m#　えっ、、、（？）\u001b[0m\u001b[1;33m\u001b[0m\u001b[0m\n\u001b[0m\u001b[0;32m      5\u001b[0m \u001b[1;33m\u001b[0m\u001b[0m\n",
      "\u001b[1;31mNameError\u001b[0m: name 'list_tea_25' is not defined"
     ]
    }
   ],
   "source": [
    "# ⚡やっぱりfor文なのかなあ\n",
    "for i in range(1,30):\n",
    "    list_tea_i = copy.deepcopy(list_tea)\n",
    "print(list_tea_25)   #　えっ、、、（？）\n",
    "   "
   ]
  },
  {
   "cell_type": "markdown",
   "metadata": {},
   "source": [
    "# del s[i:j]\n",
    "(公式)s[i:j] = [] と同じです\n",
    "\n",
    "iからj番目までのスライスを空にする、削除するってことかな！"
   ]
  },
  {
   "cell_type": "code",
   "execution_count": 4,
   "metadata": {},
   "outputs": [
    {
     "name": "stdout",
     "output_type": "stream",
     "text": [
      "['straight', 'lemon', 'apple', 'milk']\n",
      "['milk']\n"
     ]
    }
   ],
   "source": [
    "list_tea_6 = copy.deepcopy(list_tea)   # おとなしく毎回作るかー\n",
    "\n",
    "print(list_tea)\n",
    "del list_tea_6[0:3]   # 0から3番目のスライスが削除される\n",
    "print(list_tea_6)"
   ]
  },
  {
   "cell_type": "markdown",
   "metadata": {},
   "source": [
    "# s[i:j:k] = t\n",
    "(公式)s[i:j:k] の要素を t の要素と入れ替えます\n",
    "\n",
    "注）t は置き換えるスライスと同じ長さでなければいけません。"
   ]
  },
  {
   "cell_type": "code",
   "execution_count": 5,
   "metadata": {},
   "outputs": [
    {
     "name": "stdout",
     "output_type": "stream",
     "text": [
      "['綾鷹', 'f', 'g', 'h', 'i', 'j', 'k']\n",
      "['綾鷹', 'b', 'c', '生茶', 'e', 'f', 'g', 'h', 'i', 'j', 'k']\n",
      "['綾鷹', 'b', 'c', 'd', '生茶', 'f', 'g', 'h', 'i', 'j', 'k']\n"
     ]
    }
   ],
   "source": [
    "list = ['a' , 'b' , 'c' , 'd', 'e' , 'f' , 'g' , 'h' , 'i' , 'j' , 'k']\n",
    "list_1 = copy.deepcopy(list)\n",
    "list_2 = copy.deepcopy(list)\n",
    "list_3 = copy.deepcopy(list)\n",
    "list_4 = copy.deepcopy(list)\n",
    "\n",
    "\n",
    "list_1[0:5:1] = ['綾鷹']   # 0から5番目のスライスを一個おきに'綾鷹'にする（？）\n",
    "print(list_1)\n",
    "\n",
    "'''\n",
    ">>> list_2[0:5:2] = ['綾鷹','生茶']\n",
    ">>> print(list_2)\n",
    "\n",
    "ValueError: attempt to assign sequence of size 2 to extended slice of size 3\n",
    "'''\n",
    "\n",
    "list_3[0:5:3] = ['綾鷹','生茶']\n",
    "print(list_3)\n",
    "\n",
    "list_4[0:5:4] = ['綾鷹','生茶']\n",
    "print(list_4)\n",
    "\n",
    "\n",
    "# わかりません"
   ]
  },
  {
   "cell_type": "markdown",
   "metadata": {},
   "source": [
    "# del s[i:j:k]\n",
    "(公式)リストから s[i:j:k] の要素を削除します"
   ]
  },
  {
   "cell_type": "code",
   "execution_count": 6,
   "metadata": {},
   "outputs": [
    {
     "name": "stdout",
     "output_type": "stream",
     "text": [
      "['i', 'j', 'k']\n",
      "['b', 'd', 'f', 'h', 'i', 'j', 'k']\n"
     ]
    }
   ],
   "source": [
    "list = ['a' , 'b' , 'c' , 'd', 'e' , 'f' , 'g' , 'h' , 'i' , 'j' , 'k']\n",
    "list_5 = copy.deepcopy(list)\n",
    "list_6 = copy.deepcopy(list)\n",
    "\n",
    "del list_5[0:8:1]   # 0から8までのスライスつまりaの前からhの後ろまでを、一個おきに削除\n",
    "print(list_5)\n",
    "\n",
    "del list_6[0:8:2]   # 0から8までのスライスを、二個おきに削除\n",
    "print(list_6)"
   ]
  }
 ],
 "metadata": {
  "kernelspec": {
   "display_name": "Python 3",
   "language": "python",
   "name": "python3"
  },
  "language_info": {
   "codemirror_mode": {
    "name": "ipython",
    "version": 3
   },
   "file_extension": ".py",
   "mimetype": "text/x-python",
   "name": "python",
   "nbconvert_exporter": "python",
   "pygments_lexer": "ipython3",
   "version": "3.7.0"
  }
 },
 "nbformat": 4,
 "nbformat_minor": 2
}
