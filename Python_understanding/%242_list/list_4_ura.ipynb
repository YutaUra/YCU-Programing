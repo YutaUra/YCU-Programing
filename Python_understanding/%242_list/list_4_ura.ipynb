{
  "nbformat": 4,
  "nbformat_minor": 0,
  "metadata": {
    "colab": {
      "name": "list_4_ura.ipynb",
      "provenance": [],
      "collapsed_sections": [],
      "include_colab_link": true
    },
    "kernelspec": {
      "name": "python3",
      "display_name": "Python 3"
    }
  },
  "cells": [
    {
      "cell_type": "markdown",
      "metadata": {
        "id": "view-in-github",
        "colab_type": "text"
      },
      "source": [
        "<a href=\"https://colab.research.google.com/github/YutaUra/YCU-Programing/blob/master/Python_understanding/%25242_list/list_4_ura.ipynb\" target=\"_parent\"><img src=\"https://colab.research.google.com/assets/colab-badge.svg\" alt=\"Open In Colab\"/></a>"
      ]
    },
    {
      "cell_type": "markdown",
      "metadata": {
        "id": "pI5VCmBB6HSd",
        "colab_type": "text"
      },
      "source": [
        "# ミュータブルとは\n",
        "\n",
        "変更可能なオブジェクトのこと！\n",
        "\n",
        "例:list, dictなど\n",
        "\n",
        "逆に変更不可(イミュータブル)なオブジェクトはtupleなど"
      ]
    },
    {
      "cell_type": "code",
      "metadata": {
        "id": "J9ccCg_GTT-x",
        "colab_type": "code",
        "colab": {
          "base_uri": "https://localhost:8080/",
          "height": 35
        },
        "outputId": "2fa28df9-8636-49f0-d842-968cca626135"
      },
      "source": [
        "x = [1,2]\n",
        "x = [2] # OK あまり意味はないけど\n",
        "x"
      ],
      "execution_count": 26,
      "outputs": [
        {
          "output_type": "execute_result",
          "data": {
            "text/plain": [
              "[2]"
            ]
          },
          "metadata": {
            "tags": []
          },
          "execution_count": 26
        }
      ]
    },
    {
      "cell_type": "code",
      "metadata": {
        "id": "Iz1tHnVu69Q1",
        "colab_type": "code",
        "colab": {
          "base_uri": "https://localhost:8080/",
          "height": 35
        },
        "outputId": "54c21813-b8a7-4b13-868e-62bd15104643"
      },
      "source": [
        "x = {1:'1',2:'2'}\n",
        "x[1] = 0\n",
        "x"
      ],
      "execution_count": 27,
      "outputs": [
        {
          "output_type": "execute_result",
          "data": {
            "text/plain": [
              "{1: 0, 2: '2'}"
            ]
          },
          "metadata": {
            "tags": []
          },
          "execution_count": 27
        }
      ]
    },
    {
      "cell_type": "code",
      "metadata": {
        "id": "S2PrLKLz7E06",
        "colab_type": "code",
        "colab": {
          "base_uri": "https://localhost:8080/",
          "height": 209
        },
        "outputId": "d4759e67-90c6-488c-f4cc-ae36de674959"
      },
      "source": [
        "x = (1,2)\n",
        "x[0] = 9\n",
        "x"
      ],
      "execution_count": 28,
      "outputs": [
        {
          "output_type": "error",
          "ename": "TypeError",
          "evalue": "ignored",
          "traceback": [
            "\u001b[0;31m---------------------------------------------------------------------------\u001b[0m",
            "\u001b[0;31mTypeError\u001b[0m                                 Traceback (most recent call last)",
            "\u001b[0;32m<ipython-input-28-bcbdcfb4e186>\u001b[0m in \u001b[0;36m<module>\u001b[0;34m()\u001b[0m\n\u001b[1;32m      1\u001b[0m \u001b[0mx\u001b[0m \u001b[0;34m=\u001b[0m \u001b[0;34m(\u001b[0m\u001b[0;36m1\u001b[0m\u001b[0;34m,\u001b[0m\u001b[0;36m2\u001b[0m\u001b[0;34m)\u001b[0m\u001b[0;34m\u001b[0m\u001b[0;34m\u001b[0m\u001b[0m\n\u001b[0;32m----> 2\u001b[0;31m \u001b[0mx\u001b[0m\u001b[0;34m[\u001b[0m\u001b[0;36m0\u001b[0m\u001b[0;34m]\u001b[0m \u001b[0;34m=\u001b[0m \u001b[0;36m9\u001b[0m\u001b[0;34m\u001b[0m\u001b[0;34m\u001b[0m\u001b[0m\n\u001b[0m\u001b[1;32m      3\u001b[0m \u001b[0mx\u001b[0m\u001b[0;34m\u001b[0m\u001b[0;34m\u001b[0m\u001b[0m\n",
            "\u001b[0;31mTypeError\u001b[0m: 'tuple' object does not support item assignment"
          ]
        }
      ]
    },
    {
      "cell_type": "markdown",
      "metadata": {
        "id": "uCGvAuEX8vJI",
        "colab_type": "text"
      },
      "source": [
        "絶対書き換えてほしくないものはtuple, あとから更新したりしたいやつはlist, dictを使う！\n",
        "\n",
        "決まりきったものもtupleで書くといいかも"
      ]
    },
    {
      "cell_type": "code",
      "metadata": {
        "id": "wm8SWxOK9IbT",
        "colab_type": "code",
        "colab": {}
      },
      "source": [
        "import random"
      ],
      "execution_count": 0,
      "outputs": []
    },
    {
      "cell_type": "code",
      "metadata": {
        "id": "kuCe200W9VbI",
        "colab_type": "code",
        "colab": {
          "base_uri": "https://localhost:8080/",
          "height": 53
        },
        "outputId": "eae903ba-32ab-4023-ee81-a8977686fca6"
      },
      "source": [
        "fruit_list = ('apple', 'orange', 'grape') # ここでのlistはPythonのlistではなく、集まりのリストっていう意味のリスト\n",
        "fruit_price = {}\n",
        "\n",
        "for fruit in fruit_list:\n",
        "    price = random.randint(100, 500)\n",
        "    fruit_price[fruit] = price\n",
        "\n",
        "print('本日の果物の価格は...')\n",
        "print(fruit_price)"
      ],
      "execution_count": 42,
      "outputs": [
        {
          "output_type": "stream",
          "text": [
            "本日の果物の価格は...\n",
            "{'apple': 205, 'orange': 446, 'grape': 209}\n"
          ],
          "name": "stdout"
        }
      ]
    },
    {
      "cell_type": "code",
      "metadata": {
        "id": "yEFOddjA-zHp",
        "colab_type": "code",
        "colab": {}
      },
      "source": [
        ""
      ],
      "execution_count": 0,
      "outputs": []
    }
  ]
}