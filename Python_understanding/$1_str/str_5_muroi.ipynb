{
 "cells": [
  {
   "cell_type": "markdown",
   "metadata": {},
   "source": [
    "# ５．strの用法"
   ]
  },
  {
   "cell_type": "markdown",
   "metadata": {},
   "source": [
    "１．isspace()\n",
    "文字列が全て空白か判定  \n",
    "パラメーターなし  \n",
    "Yes⇒True   \n",
    "No⇒False  "
   ]
  },
  {
   "cell_type": "code",
   "execution_count": 12,
   "metadata": {},
   "outputs": [
    {
     "name": "stdout",
     "output_type": "stream",
     "text": [
      "True\n",
      "False\n",
      "False\n"
     ]
    }
   ],
   "source": [
    "str1=\" \"\n",
    "print(str1.isspace())\n",
    "str2=\"typhoon\"\n",
    "print(str2.isspace())\n",
    "str3=\"\"\n",
    "print(str3.isspace()) #意外"
   ]
  },
  {
   "cell_type": "markdown",
   "metadata": {},
   "source": [
    "2.istitle   \n",
    "英語の文字列中の単語の最初の文字が全て大文字か判定  \n",
    "日本語・数字⇒False"
   ]
  },
  {
   "cell_type": "code",
   "execution_count": 22,
   "metadata": {},
   "outputs": [
    {
     "name": "stdout",
     "output_type": "stream",
     "text": [
      "True\n",
      "False\n",
      "False\n",
      "False\n",
      "False\n"
     ]
    }
   ],
   "source": [
    "sen1=\"I Am Hungury.\"\n",
    "print(sen1.istitle())\n",
    "sen2=\"I am sleepy.\"\n",
    "print(sen2.istitle())\n",
    "sen3=\"\"\n",
    "print(sen3.istitle())\n",
    "sen4=\"台風\"\n",
    "print(sen4.istitle())\n",
    "sen5=\"1013\"\n",
    "print(sen5.istitle())"
   ]
  },
  {
   "cell_type": "markdown",
   "metadata": {},
   "source": [
    "3.isupper()   \n",
    "文字列中の英字が全て大文字か判定   \n",
    "無し⇒False"
   ]
  },
  {
   "cell_type": "code",
   "execution_count": 26,
   "metadata": {},
   "outputs": [
    {
     "name": "stdout",
     "output_type": "stream",
     "text": [
      "True\n",
      "False\n",
      "True\n",
      "False\n",
      "True\n"
     ]
    }
   ],
   "source": [
    "print('TYPHOON'.isupper())\n",
    "print('tYPHOON'.isupper())\n",
    "print('TYPHOON19TH'.isupper())\n",
    "print('TYPHOON19th'.isupper())\n",
    "print('TYPHONN19TH!'.isupper()) #記号は探索対象外"
   ]
  },
  {
   "cell_type": "markdown",
   "metadata": {},
   "source": [
    "4..sep.join(iterable)  \n",
    "list中の「文字列」を連結する。  \n",
    "戻し値はstr型  \n",
    "sepは連結時の区切り文字(指定しないとエラー)\n",
    "\n",
    "注：リスト中の「数字(int,float型)」は連結不可  \n",
    "⇒形式変換"
   ]
  },
  {
   "cell_type": "code",
   "execution_count": 31,
   "metadata": {},
   "outputs": [
    {
     "name": "stdout",
     "output_type": "stream",
     "text": [
      "app\n",
      "a*p*p\n",
      "10\n"
     ]
    }
   ],
   "source": [
    "lis1=['a','p','p']\n",
    "print(''.join(lis1))\n",
    "print('*'.join(lis1))\n",
    "lis2=['1','0']\n",
    "print(''.join(lis2))"
   ]
  },
  {
   "cell_type": "code",
   "execution_count": 32,
   "metadata": {},
   "outputs": [
    {
     "ename": "TypeError",
     "evalue": "sequence item 0: expected str instance, int found",
     "output_type": "error",
     "traceback": [
      "\u001b[1;31m---------------------------------------------------------------------------\u001b[0m",
      "\u001b[1;31mTypeError\u001b[0m                                 Traceback (most recent call last)",
      "\u001b[1;32m<ipython-input-32-1497e14bffb8>\u001b[0m in \u001b[0;36m<module>\u001b[1;34m\u001b[0m\n\u001b[0;32m      1\u001b[0m \u001b[0mlis2_1\u001b[0m\u001b[1;33m=\u001b[0m\u001b[1;33m[\u001b[0m\u001b[1;36m1\u001b[0m\u001b[1;33m,\u001b[0m\u001b[1;36m0\u001b[0m\u001b[1;33m]\u001b[0m\u001b[1;33m\u001b[0m\u001b[1;33m\u001b[0m\u001b[0m\n\u001b[1;32m----> 2\u001b[1;33m \u001b[0mprint\u001b[0m\u001b[1;33m(\u001b[0m\u001b[1;34m''\u001b[0m\u001b[1;33m.\u001b[0m\u001b[0mjoin\u001b[0m\u001b[1;33m(\u001b[0m\u001b[0mlis2_1\u001b[0m\u001b[1;33m)\u001b[0m\u001b[1;33m)\u001b[0m\u001b[1;33m\u001b[0m\u001b[1;33m\u001b[0m\u001b[0m\n\u001b[0m",
      "\u001b[1;31mTypeError\u001b[0m: sequence item 0: expected str instance, int found"
     ]
    }
   ],
   "source": [
    "lis2_1=[1,0]\n",
    "print(''.join(lis2_1)) #リスト中の要素がstr以外だとエラー"
   ]
  },
  {
   "cell_type": "code",
   "execution_count": 36,
   "metadata": {},
   "outputs": [
    {
     "name": "stdout",
     "output_type": "stream",
     "text": [
      "10\n"
     ]
    }
   ],
   "source": [
    "#解決策\n",
    "print(''.join([str(i) for i in  lis2_1])) #内包表記\n",
    "#リスト中の要素が不明⇒内包表記"
   ]
  },
  {
   "cell_type": "markdown",
   "metadata": {},
   "source": [
    "5.ljust(width[,fillchar])  \n",
    "文字列を左寄せにする⇒体裁を整える  \n",
    "width⇒文字列の長さ  \n",
    "fillchar⇒元の文字列と変更後の文字列の差を埋めるもの  \n",
    "指定なし⇒空白\n",
    "元の文字列の方が長い⇒変化なし\n",
    "\n",
    "*右寄せ⇒rjust()\n",
    "中央⇒center()"
   ]
  },
  {
   "cell_type": "code",
   "execution_count": 42,
   "metadata": {},
   "outputs": [
    {
     "name": "stdout",
     "output_type": "stream",
     "text": [
      "台風19号     \n",
      "台風19号@@@@@\n",
      "台風19号\n"
     ]
    }
   ],
   "source": [
    "a=\"台風19号\"\n",
    "print(a.ljust(10))\n",
    "print(a.ljust(10,'@'))\n",
    "print(a.ljust(3,'$'))"
   ]
  },
  {
   "cell_type": "code",
   "execution_count": null,
   "metadata": {},
   "outputs": [],
   "source": []
  }
 ],
 "metadata": {
  "kernelspec": {
   "display_name": "Python 3",
   "language": "python",
   "name": "python3"
  },
  "language_info": {
   "codemirror_mode": {
    "name": "ipython",
    "version": 3
   },
   "file_extension": ".py",
   "mimetype": "text/x-python",
   "name": "python",
   "nbconvert_exporter": "python",
   "pygments_lexer": "ipython3",
   "version": "3.7.3"
  }
 },
 "nbformat": 4,
 "nbformat_minor": 2
}
