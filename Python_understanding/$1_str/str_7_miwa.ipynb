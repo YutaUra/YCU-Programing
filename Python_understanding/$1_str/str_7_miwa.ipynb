{
 "cells": [
  {
   "cell_type": "markdown",
   "metadata": {},
   "source": [
    "# rfind(sub[,start[,end]])"
   ]
  },
  {
   "cell_type": "markdown",
   "metadata": {},
   "source": [
    "(公式)文字列中の領域 s[start:end] に sub が含まれる場合、その最大のインデックスを返します。オプション引数 start および end はスライス表記と同様に解釈されます。 sub が見つからなかった場合 -1 を返します。"
   ]
  },
  {
   "cell_type": "markdown",
   "metadata": {},
   "source": [
    "## →rfind() は、find()の逆。後ろから探してくれる！\n",
    "   小林くんによる[find()](https://github.com/YutaUra/YCU-Programing/blob/master/Python_understanding/%241_str/str_2_kobayashi.ipynb)"
   ]
  },
  {
   "cell_type": "code",
   "execution_count": 1,
   "metadata": {},
   "outputs": [
    {
     "name": "stdout",
     "output_type": "stream",
     "text": [
      "7\n",
      "1\n",
      "3\n",
      "7\n",
      "-1\n"
     ]
    }
   ],
   "source": [
    "print('kanagawa'.rfind('a'))   # 後ろから探して一番初めに見つかる「a」（最大のインデックス）\n",
    "print('kanagawa'.find('a'))    # find()は前から！\n",
    "print('kanagawa'.rfind('a',2,5))    # 探す範囲のあたまとおしりを設定できる\n",
    "print('kanagawa'.rfind('a',2,))     # あたまだけでもOK\n",
    "# print('kanagawa'.rfind('a',,5))   # おしりだけは？？？\n",
    "print('kanagawa'.rfind('a',10))     # 無ければ「-1」を返してくれます"
   ]
  },
  {
   "cell_type": "code",
   "execution_count": 2,
   "metadata": {},
   "outputs": [
    {
     "ename": "SyntaxError",
     "evalue": "invalid syntax (<ipython-input-2-c66f3da2a42a>, line 1)",
     "output_type": "error",
     "traceback": [
      "\u001b[1;36m  File \u001b[1;32m\"<ipython-input-2-c66f3da2a42a>\"\u001b[1;36m, line \u001b[1;32m1\u001b[0m\n\u001b[1;33m    print('kanagawa'.rfind('a',,5))  # おしりだけはだめらしい\u001b[0m\n\u001b[1;37m                               ^\u001b[0m\n\u001b[1;31mSyntaxError\u001b[0m\u001b[1;31m:\u001b[0m invalid syntax\n"
     ]
    }
   ],
   "source": [
    "print('kanagawa'.rfind('a',,5))  # おしりだけはだめらしい"
   ]
  },
  {
   "cell_type": "code",
   "execution_count": 3,
   "metadata": {},
   "outputs": [
    {
     "name": "stdout",
     "output_type": "stream",
     "text": [
      "3\n"
     ]
    }
   ],
   "source": [
    "print('kanagawa'.rfind('a',0,5))  # あたまの0をつけてあげればやりたいこと（はじめから4文字目までを探す）はやれる。解決(？)"
   ]
  },
  {
   "cell_type": "markdown",
   "metadata": {},
   "source": [
    "# rindex(sub[,start[,end]])"
   ]
  },
  {
   "cell_type": "markdown",
   "metadata": {},
   "source": [
    "(公式)rfind() と同様ですが、 sub が見つからなかった場合 ValueError を送出します。"
   ]
  },
  {
   "cell_type": "markdown",
   "metadata": {},
   "source": [
    "## →rindex()は、index()の逆。index()とfind()の違いは「無いとき」の返し！あとは同じ！"
   ]
  },
  {
   "cell_type": "code",
   "execution_count": 4,
   "metadata": {},
   "outputs": [
    {
     "name": "stdout",
     "output_type": "stream",
     "text": [
      "7\n",
      "1\n",
      "3\n",
      "7\n"
     ]
    },
    {
     "ename": "ValueError",
     "evalue": "substring not found",
     "output_type": "error",
     "traceback": [
      "\u001b[1;31m---------------------------------------------------------------------------\u001b[0m",
      "\u001b[1;31mValueError\u001b[0m                                Traceback (most recent call last)",
      "\u001b[1;32m<ipython-input-4-81129738dbcb>\u001b[0m in \u001b[0;36m<module>\u001b[1;34m()\u001b[0m\n\u001b[0;32m      4\u001b[0m \u001b[0mprint\u001b[0m\u001b[1;33m(\u001b[0m\u001b[1;34m'kanagawa'\u001b[0m\u001b[1;33m.\u001b[0m\u001b[0mrindex\u001b[0m\u001b[1;33m(\u001b[0m\u001b[1;34m'a'\u001b[0m\u001b[1;33m,\u001b[0m\u001b[1;36m2\u001b[0m\u001b[1;33m,\u001b[0m\u001b[1;33m)\u001b[0m\u001b[1;33m)\u001b[0m     \u001b[1;31m# あたまだけでもOK\u001b[0m\u001b[1;33m\u001b[0m\u001b[0m\n\u001b[0;32m      5\u001b[0m \u001b[1;31m# print('kanagawa'.rindex('a',,5))   # おしりだけはダメ。あたまに0をつけることで解決(？)\u001b[0m\u001b[1;33m\u001b[0m\u001b[1;33m\u001b[0m\u001b[0m\n\u001b[1;32m----> 6\u001b[1;33m \u001b[0mprint\u001b[0m\u001b[1;33m(\u001b[0m\u001b[1;34m'kanagawa'\u001b[0m\u001b[1;33m.\u001b[0m\u001b[0mrindex\u001b[0m\u001b[1;33m(\u001b[0m\u001b[1;34m'a'\u001b[0m\u001b[1;33m,\u001b[0m\u001b[1;36m10\u001b[0m\u001b[1;33m)\u001b[0m\u001b[1;33m)\u001b[0m     \u001b[1;31m# 無ければ「ValuError」となります\u001b[0m\u001b[1;33m\u001b[0m\u001b[0m\n\u001b[0m",
      "\u001b[1;31mValueError\u001b[0m: substring not found"
     ]
    }
   ],
   "source": [
    "print('kanagawa'.rindex('a'))   # 後ろから探して一番初めに見つかる「a」（最大のインデックス）\n",
    "print('kanagawa'.index('a'))    # index()は前から！\n",
    "print('kanagawa'.rindex('a',2,5))    # 探す範囲のあたまとおしりを設定できる\n",
    "print('kanagawa'.rindex('a',2,))     # あたまだけでもOK\n",
    "# print('kanagawa'.rindex('a',,5))   # おしりだけはダメ。あたまに0をつけることで解決(？)\n",
    "print('kanagawa'.rindex('a',10))     # 無ければ「ValuError」となります"
   ]
  },
  {
   "cell_type": "markdown",
   "metadata": {},
   "source": [
    "### ⭐find()（無ければ-1を返す）とindex()（無ければエラーになる）はそれぞれどいうときに使ってあげたいか、、、??"
   ]
  },
  {
   "cell_type": "markdown",
   "metadata": {},
   "source": [
    "### find()の活用例\n",
    "以下は[HEADBOOST](https://www.headboost.jp/python-find/)からの引用。\n",
    "\n",
    "無いときに-1という値を利用することができるのがウレシイ？"
   ]
  },
  {
   "cell_type": "code",
   "execution_count": 5,
   "metadata": {
    "scrolled": true
   },
   "outputs": [
    {
     "name": "stdout",
     "output_type": "stream",
     "text": [
      "この文字列には'be,'という文字が含まれています。\n"
     ]
    }
   ],
   "source": [
    "#  文字列を作ります。\n",
    "quote = 'Let it be, let it be, let it be'\n",
    " \n",
    "#  if文で条件分岐を作ります。\n",
    "if (quote.find('be,') != -1):\n",
    "    print(\"この文字列には'be,'という文字が含まれています。\")\n",
    "else:\n",
    "    print(\"この文字列には'be,'という文字は含まれていません。\")"
   ]
  },
  {
   "cell_type": "markdown",
   "metadata": {},
   "source": [
    "### index()の活用例\n",
    "\n",
    "以下は[Let'sプログラミング](https://www.javadrive.jp/python/list/index10.html)からの引用。\n",
    "\n",
    "無いときにナイナイナイナイ！って言ってくれるのがウレシイ？"
   ]
  },
  {
   "cell_type": "code",
   "execution_count": 6,
   "metadata": {},
   "outputs": [
    {
     "ename": "ValueError",
     "evalue": "'D' is not in list",
     "output_type": "error",
     "traceback": [
      "\u001b[1;31m---------------------------------------------------------------------------\u001b[0m",
      "\u001b[1;31mValueError\u001b[0m                                Traceback (most recent call last)",
      "\u001b[1;32m<ipython-input-6-f868acbceb3c>\u001b[0m in \u001b[0;36m<module>\u001b[1;34m()\u001b[0m\n\u001b[0;32m      1\u001b[0m \u001b[0mmylist\u001b[0m \u001b[1;33m=\u001b[0m \u001b[1;33m[\u001b[0m\u001b[1;34m\"A\"\u001b[0m\u001b[1;33m,\u001b[0m \u001b[1;34m\"B\"\u001b[0m\u001b[1;33m,\u001b[0m \u001b[1;34m\"A\"\u001b[0m\u001b[1;33m,\u001b[0m \u001b[1;34m\"A\"\u001b[0m\u001b[1;33m,\u001b[0m \u001b[1;34m\"C\"\u001b[0m\u001b[1;33m]\u001b[0m\u001b[1;33m\u001b[0m\u001b[0m\n\u001b[1;32m----> 2\u001b[1;33m \u001b[0mprint\u001b[0m\u001b[1;33m(\u001b[0m\u001b[0mmylist\u001b[0m\u001b[1;33m.\u001b[0m\u001b[0mindex\u001b[0m\u001b[1;33m(\u001b[0m\u001b[1;34m\"D\"\u001b[0m\u001b[1;33m)\u001b[0m\u001b[1;33m)\u001b[0m\u001b[1;33m\u001b[0m\u001b[0m\n\u001b[0m",
      "\u001b[1;31mValueError\u001b[0m: 'D' is not in list"
     ]
    }
   ],
   "source": [
    "mylist = [\"A\", \"B\", \"A\", \"A\", \"C\"]\n",
    "print(mylist.index(\"D\"))"
   ]
  },
  {
   "cell_type": "markdown",
   "metadata": {},
   "source": [
    "実際どんな感じにそれぞれ活躍するのかわかんないな。誰かわかる？"
   ]
  },
  {
   "cell_type": "markdown",
   "metadata": {},
   "source": [
    "# rjust(width[,fillchar])"
   ]
  },
  {
   "cell_type": "markdown",
   "metadata": {},
   "source": [
    "(公式)width の長さをもつ右寄せした文字列を返します。パディングには fillchar で指定された文字(デフォルトでは ASCII スペース)が使われます。 width が len(s) 以下の場合、元の文字列が返されます。"
   ]
  },
  {
   "cell_type": "markdown",
   "metadata": {},
   "source": [
    "## →ljust()（左寄せ）、center()（中央ぞろえ）、rjust()（右寄せ）。勝手は一緒。\n",
    "室井くんによる[ljust()](https://github.com/YutaUra/YCU-Programing/blob/master/Python_understanding/%241_str/str_5_muroi.ipynb)　、　わたくしめによる[center()](https://github.com/YutaUra/YCU-Programing/blob/master/Python_understanding/%241_str/str_1_miwa.ipynb)"
   ]
  },
  {
   "cell_type": "code",
   "execution_count": 7,
   "metadata": {},
   "outputs": [
    {
     "name": "stdout",
     "output_type": "stream",
     "text": [
      "☆☆☆☆☆☆☆☆☆☆☆☆☆☆☆☆☆☆☆datascience\n",
      "                   datascience\n",
      "datasciense\n"
     ]
    }
   ],
   "source": [
    "print('datascience'.rjust(30,'☆'))   # 文字列datascienseが右に寄せられて合計で30文字になるようにスキマには☆を入れる\n",
    "print('datascience'.rjust(30,' '))    # 合計で30文字になるようにスキマには空白\n",
    "print('datasciense'.rjust(3,'☆'))    # 文字列datascienceが、合計の文字数３よりも長いので文字列がそのまま返る"
   ]
  },
  {
   "cell_type": "markdown",
   "metadata": {},
   "source": [
    "# rpartition(sep)"
   ]
  },
  {
   "cell_type": "markdown",
   "metadata": {},
   "source": [
    "(公式)文字列を sep の最後の出現位置で区切り、 3 要素のタプルを返します。タプルの内容は、区切りの前の部分、区切り文字列そのもの、そして区切りの後ろの部分です。もし区切れなければ、タプルには二つの空文字列とその後ろに元の文字列そのものが入ります。"
   ]
  },
  {
   "cell_type": "markdown",
   "metadata": {},
   "source": [
    "## →rpartition()は、partition()の逆！\n",
    "ウラサマによる[partition()](https://github.com/YutaUra/YCU-Programing/blob/master/Python_understanding/%241_str/str_6_ura.ipynb)"
   ]
  },
  {
   "cell_type": "code",
   "execution_count": 8,
   "metadata": {},
   "outputs": [
    {
     "name": "stdout",
     "output_type": "stream",
     "text": [
      "('kanagaw', 'a', '')\n",
      "('k', 'a', 'nagawa')\n",
      "('', '', 'kanagawa')\n",
      "('kanagawa', '', '')\n"
     ]
    }
   ],
   "source": [
    "# 後ろから「a」を探して見つけ次第その子の前後で分割（「a」はひとつの要素として生き残る）。いつも3要素。\n",
    "\n",
    "print('kanagawa'.rpartition('a'))    # rpartition()\n",
    "print('kanagawa'.partition('a'))     # partition()\n",
    "print('kanagawa'.rpartition('b'))    # 後ろから探してって切る場所がないので仕方なく元の文字列と、空文字列×２、の3要素分ける\n",
    "print('kanagawa'.partition('b'))     # 前からでも同じ"
   ]
  },
  {
   "cell_type": "markdown",
   "metadata": {},
   "source": [
    "# rsplit(sep,maxsplit)"
   ]
  },
  {
   "cell_type": "markdown",
   "metadata": {},
   "source": [
    "(公式)sep を区切り文字とした、文字列中の単語のリストを返します。 maxsplit が与えられた場合、文字列の 右端 から最大 maxsplit 回分割を行います。sep が指定されていない、あるいは None のとき、全ての空白文字が区切り文字となります。右から分割していくことを除けば、 rsplit() は後ほど詳しく述べる split() と同様に振る舞います。\n",
    "\n",
    "今回室井くんがsplit()の説明をしてくれるはず。"
   ]
  },
  {
   "cell_type": "code",
   "execution_count": 9,
   "metadata": {},
   "outputs": [
    {
     "name": "stdout",
     "output_type": "stream",
     "text": [
      "['kanagawa']\n",
      "['kanag', 'w', '']\n",
      "['k', 'n', 'gawa']\n",
      "['k', 'n', 'g', 'w', '']\n",
      "['kanagawa']\n",
      "['kanagawa']\n",
      "['k', 'n', 'g', 'w', '']\n"
     ]
    }
   ],
   "source": [
    "# 後ろから「a」を探して見つけ次第その子を犠牲にしてそこで分割（「a」は消える）。分割回数の設定が可能。\n",
    "\n",
    "print('kanagawa'.rsplit('a',0))  # 後ろから探して0回分割\n",
    "print('kanagawa'.rsplit('a',2))  # 後ろから探して2回分割\n",
    "print('kanagawa'.split('a',2))   # split()は前から\n",
    "print('kanagawa'.split('a',5))   # いま、最大5回だけど「a」は4つしかないのでもう切れない（4回切る）\n",
    "print('kanagawa'.split(None,2))  # 切る場所がないので切れない\n",
    "print('kanagawa'.split('b',2))   # これも\n",
    "print('kanagawa'.rsplit('a'))    # maxsplitを与えてないので全部の「a」の位置で分割"
   ]
  },
  {
   "cell_type": "markdown",
   "metadata": {},
   "source": [
    "### ⭐partition()（切れ目が一つの要素として生き残る、3分割）とsplit()（切れ目を犠牲にする、分割回数設定可能）のそれぞれの活躍する場面は、、、？？"
   ]
  },
  {
   "cell_type": "markdown",
   "metadata": {},
   "source": [
    "### partition()の活用例\n",
    "以下は[teclado](https://www.translatetheweb.com/?from=&to=ja&ref=SERP&dl=ja&rr=UC&a=https%3a%2f%2fblog.tecladocode.com%2fpython-partition-method%2f)からの引用。\n",
    "\n",
    "「区切り記号を再利用していくつかの変更後に文字列を改変する場合に非常に役立つと思います。」分かるような分からないような…"
   ]
  },
  {
   "cell_type": "code",
   "execution_count": 10,
   "metadata": {},
   "outputs": [
    {
     "name": "stdout",
     "output_type": "stream",
     "text": [
      "('grand_canyon', '.', '005.png')\n"
     ]
    },
    {
     "data": {
      "text/plain": [
       "'Partition kept the separator character. This is interesting, and I think can be quite useful \\nwhen we want to reuse this separator to reform the string after some modifications.\\nWe can be quite dynamic with this, while making use of good names.\\n(partitionは区切り文字を保持しました。これは興味深く、この区切り記号を再利用して\\nいくつかの変更後に文字列を改変する場合に非常に役立つと思います。\\n私たちは、良い名前を利用しながら、これで非常にダイナミックにすることができます。)'"
      ]
     },
     "execution_count": 10,
     "metadata": {},
     "output_type": "execute_result"
    }
   ],
   "source": [
    "file_name = \"grand_canyon.005.png\"\n",
    "partition_file_name = file_name.partition(\".\") \n",
    "print(partition_file_name)\n",
    "\n",
    "'''Partition kept the separator character. This is interesting, and I think can be quite useful \n",
    "when we want to reuse this separator to reform the string after some modifications.\n",
    "We can be quite dynamic with this, while making use of good names.\n",
    "(partitionは区切り文字を保持しました。これは興味深く、この区切り記号を再利用して\n",
    "いくつかの変更後に文字列を改変する場合に非常に役立つと思います。\n",
    "私たちは、良い名前を利用しながら、これで非常にダイナミックにすることができます。)'''"
   ]
  },
  {
   "cell_type": "markdown",
   "metadata": {},
   "source": [
    "### split()の活用例"
   ]
  },
  {
   "cell_type": "markdown",
   "metadata": {},
   "source": [
    "「数字、アルファベットや記号などが入り混じった文字列を、ある規則に従って、切り分けてリスト化してくれるのが、split 関数です。」以下は[Qiita](https://qiita.com/Morio/items/38701038ad098dd5dc3d)からの引用。\n",
    "\n",
    "ひとつの文字列の全体というより中身に興味があるときリストにしたら扱いやすく、切れ目が空白や「、」などそれ自体に意味はときバイバイできるのがウレシイ？"
   ]
  },
  {
   "cell_type": "code",
   "execution_count": 11,
   "metadata": {},
   "outputs": [
    {
     "data": {
      "text/plain": [
       "['orange', 'apple', 'banana', 'strawberry']"
      ]
     },
     "execution_count": 11,
     "metadata": {},
     "output_type": "execute_result"
    }
   ],
   "source": [
    "test = \"orange apple banana strawberry\"\n",
    "test.split()      # 引数に何も指定しない場合、スペースやタブ等で自動的に区切る"
   ]
  },
  {
   "cell_type": "markdown",
   "metadata": {},
   "source": [
    "実際どんな風に嬉しいのかイマイチわかんないな。"
   ]
  }
 ],
 "metadata": {
  "kernelspec": {
   "display_name": "Python 3",
   "language": "python",
   "name": "python3"
  },
  "language_info": {
   "codemirror_mode": {
    "name": "ipython",
    "version": 3
   },
   "file_extension": ".py",
   "mimetype": "text/x-python",
   "name": "python",
   "nbconvert_exporter": "python",
   "pygments_lexer": "ipython3",
   "version": "3.7.0"
  }
 },
 "nbformat": 4,
 "nbformat_minor": 2
}
