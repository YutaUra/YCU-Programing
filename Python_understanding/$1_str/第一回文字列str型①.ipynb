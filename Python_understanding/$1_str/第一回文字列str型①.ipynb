{
 "cells": [
  {
   "cell_type": "markdown",
   "metadata": {},
   "source": [
    "# capitalize()\n",
    "最初の文字を大文字にし、残りを小文字にした文字列のコピーを返します。"
   ]
  },
  {
   "cell_type": "code",
   "execution_count": 1,
   "metadata": {},
   "outputs": [
    {
     "data": {
      "text/plain": [
       "'Python'"
      ]
     },
     "execution_count": 1,
     "metadata": {},
     "output_type": "execute_result"
    }
   ],
   "source": [
    "str.capitalize('python')      "
   ]
  },
  {
   "cell_type": "markdown",
   "metadata": {},
   "source": [
    "str型では関数の前にstr.をつける？？のかな？？"
   ]
  },
  {
   "cell_type": "markdown",
   "metadata": {},
   "source": [
    "# casefold()\n",
    "文字列の casefold されたコピーを返します。casefold された文字列は、大文字小文字に関係ないマッチに使えます。\n",
    "casefold は、小文字化と似ていますが、より積極的です。これは文字列の大文字小文字の区別をすべて取り去ることを意図しているためです。例えば、ドイツ語の小文字 'ß' は \"ss\" と同じです。これは既に小文字なので、lower() は 'ß' に何もしませんが、casefold() はこれを \"ss\" に変換します。\n",
    "\n",
    "→すべての文字列を小文字にすることでちゃんと文字列の比較ができるのでウレシイ。"
   ]
  },
  {
   "cell_type": "code",
   "execution_count": 2,
   "metadata": {},
   "outputs": [
    {
     "data": {
      "text/plain": [
       "'massen'"
      ]
     },
     "execution_count": 2,
     "metadata": {},
     "output_type": "execute_result"
    }
   ],
   "source": [
    "str.casefold('Maßen')       # ßは、sの無声音ssを一文字で表したものらしい"
   ]
  },
  {
   "cell_type": "markdown",
   "metadata": {},
   "source": [
    "# center(width[, fillchar])\n",
    "width の長さをもつ中央寄せされた文字列を返します。パディングには fillchar で指定された値 (デフォルトでは ASCII スペース) が使われます。 width が len(s) 以下なら元の文字列が返されます。\n",
    "\n",
    "→\n",
    "引数：width　新しく作成する文字列の文字数\n",
    "\n",
    "引数：fillchar　元の文字列の長さよりもwidthの値の方が大きいときには、fillcharに指定した文字で足りない部分が埋められる（省略時は空白文字が使われる）"
   ]
  },
  {
   "cell_type": "code",
   "execution_count": 3,
   "metadata": {},
   "outputs": [
    {
     "data": {
      "text/plain": [
       "'☆☆☆☆☆☆☆☆☆datascience☆☆☆☆☆☆☆☆☆☆'"
      ]
     },
     "execution_count": 3,
     "metadata": {},
     "output_type": "execute_result"
    }
   ],
   "source": [
    "'datascience'.center(30,'☆')"
   ]
  },
  {
   "cell_type": "code",
   "execution_count": 4,
   "metadata": {},
   "outputs": [
    {
     "data": {
      "text/plain": [
       "'         datascience          '"
      ]
     },
     "execution_count": 4,
     "metadata": {},
     "output_type": "execute_result"
    }
   ],
   "source": [
    "'datascience'.center(30,)          "
   ]
  },
  {
   "cell_type": "markdown",
   "metadata": {},
   "source": [
    "# count(sub[, start[, end]])\n",
    "\n",
    "[start, end] の範囲に、部分文字列 sub が重複せず出現する回数を返します。オプション引数 start および end はスライス表記と同じように解釈されます。"
   ]
  },
  {
   "cell_type": "code",
   "execution_count": 5,
   "metadata": {},
   "outputs": [
    {
     "data": {
      "text/plain": [
       "5"
      ]
     },
     "execution_count": 5,
     "metadata": {},
     "output_type": "execute_result"
    }
   ],
   "source": [
    "'ぐーでたまたまぐーでたまたまぐでぐでぐでたまー'.count('たま')"
   ]
  },
  {
   "cell_type": "code",
   "execution_count": 6,
   "metadata": {},
   "outputs": [
    {
     "data": {
      "text/plain": [
       "1"
      ]
     },
     "execution_count": 6,
     "metadata": {},
     "output_type": "execute_result"
    }
   ],
   "source": [
    "'ぐーでたまたまぐーでたまたまぐでぐでぐでたまー'.count('たま',0,5)      "
   ]
  },
  {
   "cell_type": "markdown",
   "metadata": {},
   "source": [
    "# encode(encoding=\"utf-8\", errors=\"strict\")\n",
    "\n",
    "文字列の[エンコード](http://e-words.jp/w/エンコード.html)されたバージョンをバイト列オブジェクトとして返します。標準のエンコーディングは '[utf-8](http://e-words.jp/w/UTF-8.html)' です。標準とは異なるエラー処理を行うために errors を与えることができます。標準のエラー処理は 'strict' で、エンコードに関するエラーは UnicodeError を送出します。他に利用できる値は 'ignore', 'replace', 'xmlcharrefreplace', 'backslashreplace' および関数 codecs.register_error() によって登録された名前です。これについてはセクション エラーハンドラ を参照してください。利用可能なエンコーディングの一覧は、セクション 標準エンコーディング を参照してください。"
   ]
  },
  {
   "cell_type": "code",
   "execution_count": 7,
   "metadata": {},
   "outputs": [
    {
     "data": {
      "text/plain": [
       "b'\\xe8\\xa6\\xaa\\xe7\\x9f\\xa5\\xe3\\x82\\x89\\xe3\\x81\\x9a'"
      ]
     },
     "execution_count": 7,
     "metadata": {},
     "output_type": "execute_result"
    }
   ],
   "source": [
    "'親知らず'.encode('utf-8','strict')           # Pythonはutf-8らしいから、出力されるのはPythonから見た「親知らず」？？"
   ]
  },
  {
   "cell_type": "code",
   "execution_count": 8,
   "metadata": {},
   "outputs": [
    {
     "data": {
      "text/plain": [
       "b'oyasirazu'"
      ]
     },
     "execution_count": 8,
     "metadata": {},
     "output_type": "execute_result"
    }
   ],
   "source": [
    "'oyasirazu'.encode('utf-8','strict')          # アルファベットはいけるんだね"
   ]
  },
  {
   "cell_type": "code",
   "execution_count": null,
   "metadata": {},
   "outputs": [],
   "source": []
  }
 ],
 "metadata": {
  "kernelspec": {
   "display_name": "Python 3",
   "language": "python",
   "name": "python3"
  },
  "language_info": {
   "codemirror_mode": {
    "name": "ipython",
    "version": 3
   },
   "file_extension": ".py",
   "mimetype": "text/x-python",
   "name": "python",
   "nbconvert_exporter": "python",
   "pygments_lexer": "ipython3",
   "version": "3.7.0"
  }
 },
 "nbformat": 4,
 "nbformat_minor": 2
}
