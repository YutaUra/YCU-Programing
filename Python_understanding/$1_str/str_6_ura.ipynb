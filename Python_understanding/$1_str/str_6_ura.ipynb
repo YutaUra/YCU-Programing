{
 "cells": [
  {
   "cell_type": "markdown",
   "metadata": {},
   "source": [
    "# 文字列メソッド⑥\n",
    "1. lower\n",
    "2. lstrip\n",
    "3. *static* maketrans\n",
    "4. partition\n",
    "5. replace"
   ]
  },
  {
   "cell_type": "markdown",
   "metadata": {},
   "source": [
    "## lower()\n",
    "> 全ての大小文字の区別のある文字[4]が小文字に変換された、文字列のコピーを返します\n",
    "> \n",
    "> 使われる小文字化のアルゴリズムは Unicode Standard のセクション 3.13 に記述されています。\n",
    ">> [4]\n",
    ">> \n",
    ">> 大小文字の区別のある文字とは、一般カテゴリプロパティが \"Lu\" (Letter, uppercase (大文字))、 \"Ll\" (Letter, lowercase (小文字))、 \"Lt\" (Letter、titlecase (先頭が大文字)) のいずれかであるものです。\n",
    ">\n",
    "> [公式](https://docs.python.org/ja/3/library/stdtypes.html#str.lower)\n",
    "\n",
    "ようは英大文字を英小文字にする"
   ]
  },
  {
   "cell_type": "code",
   "execution_count": 1,
   "metadata": {},
   "outputs": [
    {
     "name": "stdout",
     "output_type": "stream",
     "text": [
      "ABC: abc\n",
      "abc: abc\n",
      "ａｂｃ: ａｂｃ\n",
      "１２３: １２３\n",
      "123: 123\n",
      "アイウ: アイウ\n",
      "ｱｲｳ: ｱｲｳ\n"
     ]
    }
   ],
   "source": [
    "def lower_check(s):\n",
    "    print('%s: %s' % (s, s.lower()))\n",
    "\n",
    "lower_check('ABC')\n",
    "lower_check('abc')\n",
    "lower_check('ａｂｃ')\n",
    "lower_check('１２３')\n",
    "lower_check('123')\n",
    "lower_check('アイウ')\n",
    "lower_check('ｱｲｳ')"
   ]
  },
  {
   "cell_type": "markdown",
   "metadata": {},
   "source": [
    "## lstrip([chars])\n",
    "> 文字列の先頭の文字を除去したコピーを返します。\\\n",
    "> 引数 chars は除去される文字の集合を指定する文字列です。\\\n",
    "> chars が省略されるか None の場合、空白文字が除去されます。\\\n",
    "> chars 文字列は接頭辞ではなく、その値に含まれる文字の組み合わせ全てがはぎ取られます\\\n",
    "> [公式](https://docs.python.org/ja/3/library/stdtypes.html#str.lstrip)\\\n",
    "> ```python\n",
    ">>> '   spacious   '.lstrip()\n",
    "'spacious   '\n",
    ">>> 'www.example.com'.lstrip('cmowz.')\n",
    "'example.com'\n",
    "```\n",
    "\n",
    "**文字列の先頭から引数に含まれる分だけ消していく。引数に入れるのは消したい文字種**"
   ]
  },
  {
   "cell_type": "code",
   "execution_count": 2,
   "metadata": {},
   "outputs": [
    {
     "name": "stdout",
     "output_type": "stream",
     "text": [
      "\"   spacious   \": \"spacious   \"\n",
      "\"　　spacious　　\": \"spacious　　\"\n",
      "\"www.example.com\": \"example.com\"\n"
     ]
    }
   ],
   "source": [
    "def lstrip_check(s, chars=None):\n",
    "    print('\"%s\": \"%s\"' % (s, s.lstrip(chars)))\n",
    "\n",
    "lstrip_check('   spacious   ')\n",
    "lstrip_check('　　spacious　　') ## 全角のスペース\n",
    "lstrip_check('www.example.com', 'cmowz.')"
   ]
  },
  {
   "cell_type": "markdown",
   "metadata": {},
   "source": [
    "## *static* maketrans(x[,y[,z]])\n",
    "> この静的メソッドは [str.translate()](https://docs.python.org/ja/3/library/stdtypes.html#str.translate) に使える変換テーブルを返します。\n",
    "> \n",
    "> 引数を 1 つだけ与える場合、それは Unicode 序数 (整数) または文字 (長さ 1 の文字列) を、Unicode 序数、(任意長の) 文字列、または None に対応づける辞書でなければなりません。このとき、文字で指定したキーは序数に変換されます。\n",
    ">\n",
    "> 引数を 2 つ指定する場合、それらは同じ長さの文字列である必要があり、結果の辞書では、x のそれぞれの文字が y の同じ位置の文字に対応付けられます。第 3 引数を指定する場合、文字列を指定する必要があり、それに含まれる文字が None に対応付けられます。\n",
    ">> str.translate()\n",
    ">>\n",
    ">>与えられた変換テーブルに基づいて文字列を構成する各文字をマッピングし、マッピング後の文字列のコピーを返します。\n",
    ">>\n",
    ">>変換テーブルは、\\__getitem__\\() によるインデックス指定を実装するオブジェクトである必要があります。\n",
    ">>\n",
    ">>一般的には、 mapping または sequence です。Unicode 序数 (整数) でインデックス指定する場合、変換テーブルのオブジェクトは次のいずれも行うことができます。\n",
    ">>\n",
    ">>Unicode 序数または文字列を返して文字を 1 文字以上の別の文字にマッピングすること、None を返して返り値の文字列から指定した文字を削除すること、例外 LookupError を送出して文字をその文字自身にマッピングすること。\n",
    ">>\n",
    ">>文字から文字への異なる形式のマッピングから変換マップを作成するために、 str.maketrans() が使えます。\n",
    ">>\n",
    ">>文字のマッピングを好みに合わせてより柔軟に変更する方法については、codecs モジュールも参照してください。\n",
    ">\n",
    ">[公式](https://docs.python.org/ja/3/library/stdtypes.html#str.maketrans)\n",
    "\n",
    "文字列の変換・置換をする\\\n",
    "[参考](https://qiita.com/tag1216/items/df6c93bdb823dd48af6c)"
   ]
  },
  {
   "cell_type": "markdown",
   "metadata": {},
   "source": [
    "変換前文字列 [引用](https://www.hosty.jp/news-post/test-text2)\n",
    ">これはテスト用テキストです。\\\n",
    ">私たちの仕事は、「今ないものを作っていく」仕事です。\\\n",
    ">これから取り組んでいく領域は、不動産やインバウンドには縛られないかも知れません。\\\n",
    ">仲間として必要な素養は、「自律性」「事業家マインド」「諦めの悪さ」。\\\n",
    ">ゆくゆくはみんながそれぞれ事業の責任者として\\\n",
    ">複数の事業を束ねるような会社になっていきたいと思っています。\\\n",
    ">「会社」というより、「事業家集団」ということばの方が、\\\n",
    ">もしかしたら似合うかも知れません。\\\n",
    ">与えられたタスクを追う仕事よりも、自分の事業をやってみたい。\\\n",
    ">事業家同士で、切磋琢磨し合う環境に身を置きたい。\\\n",
    ">そんな方のご応募を期待しています。\\\n",
    ">これはテスト用テキストです。\n",
    "\n",
    "変換テーブル\n",
    "\n",
    "|前|後|\n",
    "|--|--|\n",
    "|。|. |\n",
    "|「|【|\n",
    "|」|】|\n",
    "|、|，|"
   ]
  },
  {
   "cell_type": "code",
   "execution_count": 3,
   "metadata": {},
   "outputs": [],
   "source": [
    "text = '''これはテスト用テキストです。\n",
    "私たちの仕事は、「今ないものを作っていく」仕事です。\n",
    "これから取り組んでいく領域は、不動産やインバウンドには縛られないかも知れません。\n",
    "仲間として必要な素養は、「自律性」「事業家マインド」「諦めの悪さ」。\n",
    "ゆくゆくはみんながそれぞれ事業の責任者として\n",
    "複数の事業を束ねるような会社になっていきたいと思っています。\n",
    "「会社」というより、「事業家集団」ということばの方が、\n",
    "もしかしたら似合うかも知れません。\n",
    "与えられたタスクを追う仕事よりも、自分の事業をやってみたい。\n",
    "事業家同士で、切磋琢磨し合う環境に身を置きたい。\n",
    "そんな方のご応募を期待しています。\n",
    "これはテスト用テキストです。'''"
   ]
  },
  {
   "cell_type": "code",
   "execution_count": 4,
   "metadata": {
    "scrolled": true
   },
   "outputs": [
    {
     "name": "stdout",
     "output_type": "stream",
     "text": [
      "これはテスト用テキストです.\n",
      "私たちの仕事は，【今ないものを作っていく】仕事です.\n",
      "これから取り組んでいく領域は，不動産やインバウンドには縛られないかも知れません.\n",
      "仲間として必要な素養は，【自律性】【事業家マインド】【諦めの悪さ】.\n",
      "ゆくゆくはみんながそれぞれ事業の責任者として\n",
      "複数の事業を束ねるような会社になっていきたいと思っています.\n",
      "【会社】というより，【事業家集団】ということばの方が，\n",
      "もしかしたら似合うかも知れません.\n",
      "与えられたタスクを追う仕事よりも，自分の事業をやってみたい.\n",
      "事業家同士で，切磋琢磨し合う環境に身を置きたい.\n",
      "そんな方のご応募を期待しています.\n",
      "これはテスト用テキストです.\n"
     ]
    }
   ],
   "source": [
    "# maketrans\n",
    "table = str.maketrans({\n",
    "    '。':'.',\n",
    "    '「':'【',\n",
    "    '」':'】',\n",
    "    '、':'，',\n",
    "})\n",
    "result = text.translate(table)\n",
    "print(result)"
   ]
  },
  {
   "cell_type": "code",
   "execution_count": 5,
   "metadata": {},
   "outputs": [
    {
     "name": "stdout",
     "output_type": "stream",
     "text": [
      "64.6 µs ± 5.21 µs per loop (mean ± std. dev. of 7 runs, 10000 loops each)\n"
     ]
    }
   ],
   "source": [
    "%%timeit\n",
    "text.translate(table)"
   ]
  },
  {
   "cell_type": "code",
   "execution_count": 6,
   "metadata": {
    "scrolled": false
   },
   "outputs": [
    {
     "name": "stdout",
     "output_type": "stream",
     "text": [
      "これはテスト用テキストです.\n",
      "私たちの仕事は，【今ないものを作っていく】仕事です.\n",
      "これから取り組んでいく領域は，不動産やインバウンドには縛られないかも知れません.\n",
      "仲間として必要な素養は，【自律性】【事業家マインド】【諦めの悪さ】.\n",
      "ゆくゆくはみんながそれぞれ事業の責任者として\n",
      "複数の事業を束ねるような会社になっていきたいと思っています.\n",
      "【会社】というより，【事業家集団】ということばの方が，\n",
      "もしかしたら似合うかも知れません.\n",
      "与えられたタスクを追う仕事よりも，自分の事業をやってみたい.\n",
      "事業家同士で，切磋琢磨し合う環境に身を置きたい.\n",
      "そんな方のご応募を期待しています.\n",
      "これはテスト用テキストです.\n"
     ]
    }
   ],
   "source": [
    "# replaceをつかう\n",
    "result = text.replace('。','.')\n",
    "result = result.replace('「','【')\n",
    "result = result.replace('」','】')\n",
    "result = result.replace('、','，')\n",
    "print(result)"
   ]
  },
  {
   "cell_type": "code",
   "execution_count": 7,
   "metadata": {},
   "outputs": [
    {
     "name": "stdout",
     "output_type": "stream",
     "text": [
      "4.8 µs ± 276 ns per loop (mean ± std. dev. of 7 runs, 100000 loops each)\n"
     ]
    }
   ],
   "source": [
    "%%timeit\n",
    "result = text.replace('。','.')\n",
    "result = result.replace('「','【')\n",
    "result = result.replace('」','】')\n",
    "result = result.replace('、','，')"
   ]
  },
  {
   "cell_type": "markdown",
   "metadata": {},
   "source": [
    "早いのはreplaceだからちょっと微妙な気がする。\\\n",
    "しかも、一文字対応（。→.　など）「あいう」⇒「えおか」などはできない。。"
   ]
  },
  {
   "cell_type": "markdown",
   "metadata": {},
   "source": [
    "## partition(sep)\n",
    ">文字列を sep の最初の出現位置で区切り、 3 要素のタプルを返します。\\\n",
    ">タプルの内容は、区切りの前の部分、区切り文字列そのもの、そして区切りの後ろの部分です。\\\n",
    ">もし区切れなければ、タプルには元の文字列そのものとその後ろに二つの空文字列が入ります。\\\n",
    ">[公式](https://docs.python.org/ja/3/library/stdtypes.html#str.partition)\n",
    "\n",
    "text1septext2 → (text1,sep,text2)"
   ]
  },
  {
   "cell_type": "code",
   "execution_count": 8,
   "metadata": {},
   "outputs": [
    {
     "name": "stdout",
     "output_type": "stream",
     "text": [
      "\"text1septext1\": \"('text1', 'sep', 'text1')\"\n",
      "\"あいうえおあいうえお\": \"('あい', 'うえ', 'おあいうえお')\"\n"
     ]
    }
   ],
   "source": [
    "def partition_check(s, sep):\n",
    "    print('\"%s\": \"%s\"' % (s, s.partition(sep)))\n",
    "\n",
    "partition_check('text1septext1','sep')\n",
    "partition_check('あいうえおあいうえお', 'うえ')"
   ]
  },
  {
   "cell_type": "markdown",
   "metadata": {},
   "source": [
    "## replace(old, new[,count])\n",
    ">文字列をコピーし、現れる部分文字列 old 全てを new に置換して返します。\\\n",
    ">オプション引数 count が与えられている場合、先頭から count 個の old だけを置換します\\\n",
    ">[公式](https://docs.python.org/ja/3/library/stdtypes.html#str.partition)"
   ]
  },
  {
   "cell_type": "code",
   "execution_count": 9,
   "metadata": {},
   "outputs": [
    {
     "name": "stdout",
     "output_type": "stream",
     "text": [
      "\"11111\": \"22222\"\n",
      "\"11111\": \"22211\"\n",
      "\"11111\": \"221\"\n"
     ]
    }
   ],
   "source": [
    "def replace_check(s, old, new, count=None):\n",
    "    count = count or len(s)\n",
    "    print('\"%s\": \"%s\"' % (s, s.replace(old, new, count)))\n",
    "\n",
    "replace_check('11111', '1', '2')\n",
    "replace_check('11111', '1', '2', 3)\n",
    "replace_check('11111', '11', '2')"
   ]
  },
  {
   "cell_type": "code",
   "execution_count": null,
   "metadata": {},
   "outputs": [],
   "source": []
  }
 ],
 "metadata": {
  "kernelspec": {
   "display_name": "Python 3",
   "language": "python",
   "name": "python3"
  },
  "language_info": {
   "codemirror_mode": {
    "name": "ipython",
    "version": 3
   },
   "file_extension": ".py",
   "mimetype": "text/x-python",
   "name": "python",
   "nbconvert_exporter": "python",
   "pygments_lexer": "ipython3",
   "version": "3.6.6"
  },
  "latex_envs": {
   "LaTeX_envs_menu_present": true,
   "autoclose": false,
   "autocomplete": true,
   "bibliofile": "biblio.bib",
   "cite_by": "apalike",
   "current_citInitial": 1,
   "eqLabelWithNumbers": true,
   "eqNumInitial": 1,
   "hotkeys": {
    "equation": "Ctrl-E",
    "itemize": "Ctrl-I"
   },
   "labels_anchors": false,
   "latex_user_defs": false,
   "report_style_numbering": false,
   "user_envs_cfg": false
  },
  "nbTranslate": {
   "displayLangs": [
    "*"
   ],
   "hotkey": "alt-t",
   "langInMainMenu": true,
   "sourceLang": "en",
   "targetLang": "fr",
   "useGoogleTranslate": true
  },
  "toc": {
   "base_numbering": 1,
   "nav_menu": {},
   "number_sections": true,
   "sideBar": true,
   "skip_h1_title": false,
   "title_cell": "Table of Contents",
   "title_sidebar": "Contents",
   "toc_cell": false,
   "toc_position": {},
   "toc_section_display": true,
   "toc_window_display": false
  },
  "varInspector": {
   "cols": {
    "lenName": 16,
    "lenType": 16,
    "lenVar": 40
   },
   "kernels_config": {
    "python": {
     "delete_cmd_postfix": "",
     "delete_cmd_prefix": "del ",
     "library": "var_list.py",
     "varRefreshCmd": "print(var_dic_list())"
    },
    "r": {
     "delete_cmd_postfix": ") ",
     "delete_cmd_prefix": "rm(",
     "library": "var_list.r",
     "varRefreshCmd": "cat(var_dic_list()) "
    }
   },
   "types_to_exclude": [
    "module",
    "function",
    "builtin_function_or_method",
    "instance",
    "_Feature"
   ],
   "window_display": false
  }
 },
 "nbformat": 4,
 "nbformat_minor": 2
}
