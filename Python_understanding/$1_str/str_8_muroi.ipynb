{
 "cells": [
  {
   "cell_type": "markdown",
   "metadata": {},
   "source": [
    "# 8.str型"
   ]
  },
  {
   "cell_type": "markdown",
   "metadata": {},
   "source": [
    "1.rstrip([chairs])  \n",
    "文字列の末尾部分を除去したコピーを返します。引数 chars は除去される文字集合を指定する文字列です。 chars が省略されるか None の場合、空白文字が除去されます。 chars 文字列は接尾語ではなく、そこに含まれる文字の組み合わせ全てがはぎ取られます:  \n",
    "https://docs.python.org/ja/3.7/library/stdtypes.html#string-methods  \n",
    "参考: lstrip():文字列の先頭部分を削除"
   ]
  },
  {
   "cell_type": "code",
   "execution_count": 1,
   "metadata": {},
   "outputs": [
    {
     "name": "stdout",
     "output_type": "stream",
     "text": [
      " typhoon19th\n",
      "typhoon19\n",
      "typhoon19t\n",
      "\n",
      "\n",
      " typhoon19th\n",
      "typhoon19\n",
      "typhoon19t\n",
      "\n",
      "\n",
      " typhoon19th\n",
      "typhoon19\n",
      "typhoon19t\n",
      "\n",
      "\n",
      " typhoon19th\n",
      "typhoon19\n",
      "typhoon19t\n",
      "\n",
      "\n",
      " typhoon19th\n",
      "typhoon19\n",
      "typhoon19t\n",
      "\n",
      "\n",
      " typhoon19th\n",
      "typhoon19\n",
      "typhoon19t\n",
      "\n",
      "\n"
     ]
    }
   ],
   "source": [
    "print(' typhoon19th '.rstrip()) #空白削除\n",
    "print('typhoon19th'.rstrip('th'))\n",
    "print('typhoon19th'.rstrip('h')) #2個以上→最後の物削除\n",
    "print(' '.rstrip()) #空白→なし\n",
    "print(''.rstrip())  #なし→なし"
   ]
  },
  {
   "cell_type": "markdown",
   "metadata": {},
   "source": [
    "2.split(sep,maxsplit)  \n",
    "文字列を sep をデリミタ文字列として区切った単語のリストを返します。maxsplit が与えられていれば、最大で maxsplit 回分割されます (つまり、リストは最大 maxsplit+1 要素になります)。 maxsplit が与えられないか -1 なら、分割の回数に制限はありません (可能なだけ分割されます)。  \n",
    "https://docs.python.org/ja/3.7/library/stdtypes.html#string-methods  \n",
    "Q:2文字ずつ区切りたいときは？"
   ]
  },
  {
   "cell_type": "code",
   "execution_count": 2,
   "metadata": {},
   "outputs": [
    {
     "name": "stdout",
     "output_type": "stream",
     "text": [
      "['y,o,k,o,i,c,h,i,d,s']\n",
      "['y', 'o', 'k', 'o', 'i', 'c', 'h', 'i', 'd', 's', '']\n",
      "['y', 'o', 'k', 'o,i,c,h,i,d,s']\n",
      "['y,o,k,o,i,c,h,i,d,s']\n",
      "['y', 'o', 'k', 'o', 'i', 'c', 'h', 'i', 'd', 's', '']\n",
      "['y', 'o', 'k', 'o,i,c,h,i,d,s']\n",
      "['y,o,k,o,i,c,h,i,d,s']\n",
      "['y', 'o', 'k', 'o', 'i', 'c', 'h', 'i', 'd', 's', '']\n",
      "['y', 'o', 'k', 'o,i,c,h,i,d,s']\n",
      "['y,o,k,o,i,c,h,i,d,s']\n",
      "['y', 'o', 'k', 'o', 'i', 'c', 'h', 'i', 'd', 's', '']\n",
      "['y', 'o', 'k', 'o,i,c,h,i,d,s']\n",
      "['y,o,k,o,i,c,h,i,d,s']\n",
      "['y', 'o', 'k', 'o', 'i', 'c', 'h', 'i', 'd', 's', '']\n",
      "['y', 'o', 'k', 'o,i,c,h,i,d,s']\n",
      "['y,o,k,o,i,c,h,i,d,s']\n",
      "['y', 'o', 'k', 'o', 'i', 'c', 'h', 'i', 'd', 's', '']\n",
      "['y', 'o', 'k', 'o,i,c,h,i,d,s']\n"
     ]
    }
   ],
   "source": [
    "a='y,o,k,o,i,c,h,i,d,s'\n",
    "b='y o k o i c h i d s '\n",
    "print(a.split())\n",
    "print(b.split(' '))\n",
    "print(a.split(',',maxsplit=3)) #2回数指定\n",
    "#print(' '.split())　#空白→エラー\n",
    "#print(''.split())　　#無し→エラー"
   ]
  },
  {
   "cell_type": "markdown",
   "metadata": {},
   "source": [
    "3.splitlines([keepends])→よくわからない  \n",
    "文字列を改行部分で分解し、各行からなるリストを返します。 keepends に真が与えらない限り、返されるリストに改行は含まれません。  \n",
    "https://docs.python.org/ja/3.7/library/stdtypes.html#string-methods\n",
    "cf)https://docs.python.org/ja/3.7/glossary.html#term-universal-newlines"
   ]
  },
  {
   "cell_type": "code",
   "execution_count": 3,
   "metadata": {},
   "outputs": [
    {
     "name": "stdout",
     "output_type": "stream",
     "text": [
      "['いろはにほへと', 'ちりぬるを']\n",
      "['aiueo']\n",
      "['いろはにほへと', 'ちりぬるを']\n",
      "['aiueo']\n",
      "['いろはにほへと', 'ちりぬるを']\n",
      "['aiueo']\n",
      "['いろはにほへと', 'ちりぬるを']\n",
      "['aiueo']\n",
      "['いろはにほへと', 'ちりぬるを']\n",
      "['aiueo']\n",
      "['いろはにほへと', 'ちりぬるを']\n",
      "['aiueo']\n"
     ]
    }
   ],
   "source": [
    "print('いろはにほへと\\nちりぬるを'.splitlines())\n",
    "print('aiueo'.splitlines())#改行部分なし→変化なし"
   ]
  },
  {
   "cell_type": "markdown",
   "metadata": {},
   "source": [
    "4.startswith(prefix,[,start[,end]]) ←startswidthでない  \n",
    "文字列が指定された prefix で始まるなら True を、そうでなければ False を返します。 prefix は見つけたい複数の接頭語のタプルでも構いません。オプションの start があれば、その位置から判定を始めます。オプションの end があれば、その位置で比較を止めます。\n",
    "https://docs.python.org/ja/3.7/library/stdtypes.html#string-methods  \n",
    "参考：endswith()もある"
   ]
  },
  {
   "cell_type": "code",
   "execution_count": 4,
   "metadata": {},
   "outputs": [
    {
     "name": "stdout",
     "output_type": "stream",
     "text": [
      "True\n",
      "False\n",
      "True\n",
      "True\n",
      "False\n",
      "True\n",
      "True\n",
      "False\n",
      "True\n",
      "True\n",
      "False\n",
      "True\n",
      "True\n",
      "False\n",
      "True\n",
      "True\n",
      "False\n",
      "True\n"
     ]
    }
   ],
   "source": [
    "a='aaa-bbb-ccc'\n",
    "print(a.startswith('a')) \n",
    "print(a.startswith('b'))\n",
    "print(a.startswith('-',3)) #開始場所指定"
   ]
  },
  {
   "cell_type": "markdown",
   "metadata": {},
   "source": [
    "5.strip([chars])  \n",
    "文字列の先頭および末尾部分を除去したコピーを返します。引数 chars は除去される文字集合を指定する文字列です。 chars が省略されるか None の場合、空白文字が除去されます。 chars 文字列は接頭語でも接尾語でもなく、そこに含まれる文字の組み合わせ全てがはぎ取られます    \n",
    "文字列の最も外側の先頭および末尾から、引数 chars 値がはぎ取られます。文字列の先頭から chars の文字集合に含まれない文字に達するまで、文字が削除されます。文字列の末尾に対しても同様の操作が行われます  \n",
    "https://docs.python.org/ja/3.7/library/stdtypes.html#string-methods  \n"
   ]
  },
  {
   "cell_type": "code",
   "execution_count": 5,
   "metadata": {},
   "outputs": [
    {
     "name": "stdout",
     "output_type": "stream",
     "text": [
      "abcdefghijklmnopqrstuvwxyz\n",
      "abcedef\n",
      "defghijklmnopqrstuvwxyz\n",
      "abcdefghijklmnopqrstuvwxyz\n",
      "\n",
      "\n",
      "abcdefghijklmnopqrstuvwxyz\n",
      "abcedef\n",
      "defghijklmnopqrstuvwxyz\n",
      "abcdefghijklmnopqrstuvwxyz\n",
      "\n",
      "\n",
      "abcdefghijklmnopqrstuvwxyz\n",
      "abcedef\n",
      "defghijklmnopqrstuvwxyz\n",
      "abcdefghijklmnopqrstuvwxyz\n",
      "\n",
      "\n",
      "abcdefghijklmnopqrstuvwxyz\n",
      "abcedef\n",
      "defghijklmnopqrstuvwxyz\n",
      "abcdefghijklmnopqrstuvwxyz\n",
      "\n",
      "\n",
      "abcdefghijklmnopqrstuvwxyz\n",
      "abcedef\n",
      "defghijklmnopqrstuvwxyz\n",
      "abcdefghijklmnopqrstuvwxyz\n",
      "\n",
      "\n",
      "abcdefghijklmnopqrstuvwxyz\n",
      "abcedef\n",
      "defghijklmnopqrstuvwxyz\n",
      "abcdefghijklmnopqrstuvwxyz\n",
      "\n",
      "\n"
     ]
    }
   ],
   "source": [
    "a='abcdefghijklmnopqrstuvwxyz'\n",
    "b='abcedef\\n' #改行コードあり\n",
    "print(a.strip())\n",
    "print(b.strip()) #改行コード消滅\n",
    "print(a.strip('abc'))\n",
    "print(a.strip('123')) #文字列中にないものを引数に選択→変化なし\n",
    "print(' '.strip()) #空白→なし\n",
    "print(''.strip()) #なし→なし"
   ]
  },
  {
   "cell_type": "code",
   "execution_count": null,
   "metadata": {},
   "outputs": [],
   "source": [
    "#作ってみた（うるう年判定）\n",
    "a=input('年を入力してください＞＞＞')\n",
    "c=a.strip('年')\n",
    "if int(c)%400==0:\n",
    "    days=366\n",
    "elif int(c)%100==0:\n",
    "    days=365\n",
    "elif int(c)%4==0:\n",
    "    days=366\n",
    "else:\n",
    "    days=365\n",
    "print(f'{a}年は{days}日あります.')"
   ]
  },
  {
   "cell_type": "markdown",
   "metadata": {},
   "source": [
    "質問\n",
    "長いif文を短くする方法"
   ]
  },
  {
   "cell_type": "code",
   "execution_count": null,
   "metadata": {},
   "outputs": [],
   "source": []
  },
  {
   "cell_type": "code",
   "execution_count": null,
   "metadata": {},
   "outputs": [],
   "source": []
  }
 ],
 "metadata": {
  "kernelspec": {
   "display_name": "Python 3",
   "language": "python",
   "name": "python3"
  },
  "language_info": {
   "codemirror_mode": {
    "name": "ipython",
    "version": 3
   },
   "file_extension": ".py",
   "mimetype": "text/x-python",
   "name": "python",
   "nbconvert_exporter": "python",
   "pygments_lexer": "ipython3",
   "version": "3.7.3"
  }
 },
 "nbformat": 4,
 "nbformat_minor": 2
}
