{
 "cells": [
  {
   "cell_type": "markdown",
   "metadata": {},
   "source": [
    "## ①endswith\n",
    "# ある文字列の末尾に対してその文字が含まれるかどうか。含まれたらTrueで返し、含まれなかったらFalseと出る。"
   ]
  },
  {
   "cell_type": "code",
   "execution_count": 6,
   "metadata": {},
   "outputs": [
    {
     "name": "stdout",
     "output_type": "stream",
     "text": [
      "False\n"
     ]
    }
   ],
   "source": [
    "#Yoshiyuki Kobayashiの末尾の文字はi\n",
    "YK = \"Yoshiyuki Kobayashi\"\n",
    "print(YK.endswith(\"Y\")"
   ]
  },
  {
   "cell_type": "code",
   "execution_count": 10,
   "metadata": {},
   "outputs": [
    {
     "name": "stdout",
     "output_type": "stream",
     "text": [
      "True\n"
     ]
    }
   ],
   "source": [
    "YK = \"Yoshiyuki Kobayashi\"\n",
    "print(YK.endswith(\"i\"))"
   ]
  },
  {
   "cell_type": "markdown",
   "metadata": {},
   "source": [
    "## ③find\n",
    "# ある文字が前から数えて何番目か数字で返す。ただし、先頭を0番目と数えることに注意。ないときは-1と出る。  "
   ]
  },
  {
   "cell_type": "code",
   "execution_count": 13,
   "metadata": {},
   "outputs": [
    {
     "name": "stdout",
     "output_type": "stream",
     "text": [
      "7\n",
      "8\n",
      "-1\n"
     ]
    }
   ],
   "source": [
    "fact1 = \"YCU is not a famous in Yokohama City.\"\n",
    "ff1 = fact1.find(\"not\")\n",
    "print(ff1)\n",
    "\n",
    "fact2 = \"小林くんは東京都中野区出身です。\"\n",
    "ff2 = fact2.find(\"中野\")\n",
    "print(ff2)\n",
    "\n",
    "num = \"12345\"\n",
    "ff3 = num.find(\"6\")\n",
    "print(ff3)"
   ]
  },
  {
   "cell_type": "markdown",
   "metadata": {},
   "source": [
    "## ④format\n",
    "# 文字列に変数(足し算とか)を埋め込む。変数がいくつもある場合、引数は0から指定する"
   ]
  },
  {
   "cell_type": "code",
   "execution_count": 14,
   "metadata": {},
   "outputs": [
    {
     "name": "stdout",
     "output_type": "stream",
     "text": [
      "合計：150円\n"
     ]
    }
   ],
   "source": [
    "#変数が一つの場合\n",
    "apple  = 50\n",
    "orange = 100\n",
    "total = apple + orange\n",
    "\n",
    "print('合計：{}円'.format(total))"
   ]
  },
  {
   "cell_type": "code",
   "execution_count": 15,
   "metadata": {},
   "outputs": [
    {
     "name": "stdout",
     "output_type": "stream",
     "text": [
      "りんご：50円 みかん：100円 合計：150円\n"
     ]
    }
   ],
   "source": [
    "#変数が複数ある場合\n",
    "apple  = 50\n",
    "orange = 100\n",
    "total = apple + orange\n",
    "\n",
    "print('りんご：{0}円 みかん：{1}円 合計：{2}円'.format(apple, orange, total))"
   ]
  },
  {
   "cell_type": "code",
   "execution_count": 16,
   "metadata": {},
   "outputs": [
    {
     "name": "stdout",
     "output_type": "stream",
     "text": [
      "4 -5\n",
      "4 -5 0\n"
     ]
    }
   ],
   "source": [
    "point = {'x':4,'y':-5}\n",
    "print('{x} {y}'.format_map(point))\n",
    "\n",
    "point = {'x':4,'y':-5, 'z': 0}\n",
    "print('{x} {y} {z}'.format_map(point))"
   ]
  },
  {
   "cell_type": "markdown",
   "metadata": {},
   "source": [
    "## ②expandtabs\n",
    "\n",
    "# 文字列内の全てのタブ文字が 1 つ以上のスペースで置換された、文字列のコピーを返します。スペースの数は現在の桁 (column) 位置と tabsize に依存します。タブ位置は tabsize 文字毎に存在します (デフォルト値である 8 の場合、タブ位置は 0, 8, 16 などになります)。文字列を展開するため、まず現桁位置がゼロにセットされ、文字列が 1 文字ずつ調べられます。文字がタブ文字 (\\t) であれば、現桁位置が次のタブ位置と一致するまで、1 つ以上のスペースが結果の文字列に挿入されます。(タブ文字自体はコピーされません。) 文字が改行文字 (\\n もしくは \\r) の場合、文字がコピーされ、現桁位置は 0 にリセットされます。その他の文字は変更されずにコピーされ、現桁位置は、その文字の表示のされ方 (訳注: 全角、半角など) に関係なく、1 ずつ増加します。"
   ]
  },
  {
   "cell_type": "markdown",
   "metadata": {},
   "source": [
    "## ⑤format_map(mapping)\n",
    "# str.format(**mapping) と似ていますが、 mapping は dict にコピーされず、直接使われます。これは例えば mapping が dict のサブクラスであるときに便利です:"
   ]
  }
 ],
 "metadata": {
  "kernelspec": {
   "display_name": "Python 3",
   "language": "python",
   "name": "python3"
  },
  "language_info": {
   "codemirror_mode": {
    "name": "ipython",
    "version": 3
   },
   "file_extension": ".py",
   "mimetype": "text/x-python",
   "name": "python",
   "nbconvert_exporter": "python",
   "pygments_lexer": "ipython3",
   "version": "3.7.3"
  }
 },
 "nbformat": 4,
 "nbformat_minor": 2
}
