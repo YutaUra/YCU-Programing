{
 "cells": [
  {
   "cell_type": "markdown",
   "metadata": {},
   "source": [
    "# str型について"
   ]
  },
  {
   "cell_type": "markdown",
   "metadata": {},
   "source": [
    "基本構文\n",
    "\n",
    "str(object) → objectの文字列版"
   ]
  },
  {
   "cell_type": "code",
   "execution_count": 1,
   "metadata": {
    "scrolled": true
   },
   "outputs": [
    {
     "name": "stdout",
     "output_type": "stream",
     "text": [
      "str_1: \n",
      "num_1: 3\n",
      "num_2: -5.4\n",
      "num_3: (2+1j)\n",
      "collection_1: [1, 2, 3]\n",
      "collection_2: (1, 2, 3)\n",
      "collection_3: {1, 2, 3}\n",
      "collection_4: {1: 'a', 2: 'b', 3: 'c'}\n",
      "bool_1: True\n",
      "bool_2: False\n"
     ]
    }
   ],
   "source": [
    "str_1 = str() # 何もなし\n",
    "\n",
    "num_1 = str(3)       # 整数\n",
    "num_2 = str(-5.4)    # 小数\n",
    "num_3 = str(2 + 1j)  # 複素数(数字の後のjが虚数単位　詳しくは後日)\n",
    "\n",
    "collection_1 = str([1,2,3])             # リスト\n",
    "collection_2 = str((1,2,3))             # タプル\n",
    "collection_3 = str({1,2,3})             # セット\n",
    "collection_4 = str({1:'a',2:'b',3:'c'}) # 辞書\n",
    "\n",
    "bool_1 = str(True)  # 真値\n",
    "bool_2 = str(False) # 偽値\n",
    "\n",
    "print('str_1:',str_1)\n",
    "\n",
    "print('num_1:',num_1)\n",
    "print('num_2:',num_2)\n",
    "print('num_3:',num_3)\n",
    "\n",
    "print('collection_1:', collection_1)\n",
    "print('collection_2:', collection_2)\n",
    "print('collection_3:', collection_3)\n",
    "print('collection_4:', collection_4)\n",
    "\n",
    "print('bool_1:', bool_1)\n",
    "print('bool_2:', bool_2)"
   ]
  },
  {
   "cell_type": "markdown",
   "metadata": {},
   "source": [
    "# メソッド③"
   ]
  },
  {
   "cell_type": "markdown",
   "metadata": {},
   "source": [
    "**目次**\n",
    "\n",
    "1. [index](#str.index())\n",
    "1. [isalnum](#str.isalnum())\n",
    "1. [isalpha](#str.isalpha())\n",
    "1. [isascii](#str.isascii())\n",
    "1. [isdecimal](#str.isdecimal())"
   ]
  },
  {
   "cell_type": "markdown",
   "metadata": {},
   "source": [
    "## str.index()\n",
    "> find() と同様ですが、部分文字列が見つからなかったとき ValueError を送出します。\n",
    ">> **[find](https://docs.python.org/ja/3/library/stdtypes.html#str.find)**\n",
    ">>\n",
    ">> 文字列のスライス s[start:end] に部分文字列 sub が含まれる場合、その最小のインデックスを返します。\n",
    ">> オプション引数 start および end はスライス表記と同様に解釈されます。 sub が見つからなかった場合 -1 を返します。\n",
    "\n",
    "[公式ページより](https://docs.python.org/ja/3/library/stdtypes.html#str.index)"
   ]
  },
  {
   "cell_type": "code",
   "execution_count": 2,
   "metadata": {},
   "outputs": [
    {
     "name": "stdout",
     "output_type": "stream",
     "text": [
      "0\n",
      "1\n",
      "3\n"
     ]
    },
    {
     "ename": "ValueError",
     "evalue": "substring not found",
     "output_type": "error",
     "traceback": [
      "\u001b[1;31m---------------------------------------------------------------------------\u001b[0m",
      "\u001b[1;31mValueError\u001b[0m                                Traceback (most recent call last)",
      "\u001b[1;32m<ipython-input-2-062d4f1edb4d>\u001b[0m in \u001b[0;36m<module>\u001b[1;34m\u001b[0m\n\u001b[0;32m      2\u001b[0m \u001b[0mprint\u001b[0m\u001b[1;33m(\u001b[0m\u001b[1;34m'abcde'\u001b[0m\u001b[1;33m.\u001b[0m\u001b[0mindex\u001b[0m\u001b[1;33m(\u001b[0m\u001b[1;34m'b'\u001b[0m\u001b[1;33m)\u001b[0m\u001b[1;33m)\u001b[0m \u001b[1;31m# 1\u001b[0m\u001b[1;33m\u001b[0m\u001b[0m\n\u001b[0;32m      3\u001b[0m \u001b[0mprint\u001b[0m\u001b[1;33m(\u001b[0m\u001b[1;34m'abcde'\u001b[0m\u001b[1;33m.\u001b[0m\u001b[0mindex\u001b[0m\u001b[1;33m(\u001b[0m\u001b[1;34m'de'\u001b[0m\u001b[1;33m)\u001b[0m\u001b[1;33m)\u001b[0m \u001b[1;31m# 3\u001b[0m\u001b[1;33m\u001b[0m\u001b[0m\n\u001b[1;32m----> 4\u001b[1;33m \u001b[0mprint\u001b[0m\u001b[1;33m(\u001b[0m\u001b[1;34m'abcde'\u001b[0m\u001b[1;33m.\u001b[0m\u001b[0mindex\u001b[0m\u001b[1;33m(\u001b[0m\u001b[1;34m'f'\u001b[0m\u001b[1;33m)\u001b[0m\u001b[1;33m)\u001b[0m \u001b[1;31m# ValueError\u001b[0m\u001b[1;33m\u001b[0m\u001b[0m\n\u001b[0m\u001b[0;32m      5\u001b[0m \u001b[0mprint\u001b[0m\u001b[1;33m(\u001b[0m\u001b[1;34m'abcde'\u001b[0m\u001b[1;33m.\u001b[0m\u001b[0mindex\u001b[0m\u001b[1;33m(\u001b[0m\u001b[1;34m'ba'\u001b[0m\u001b[1;33m)\u001b[0m\u001b[1;33m)\u001b[0m \u001b[1;31m# ValueError\u001b[0m\u001b[1;33m\u001b[0m\u001b[0m\n",
      "\u001b[1;31mValueError\u001b[0m: substring not found"
     ]
    }
   ],
   "source": [
    "print('abcde'.index('ab')) # 0\n",
    "print('abcde'.index('b')) # 1\n",
    "print('abcde'.index('de')) # 3\n",
    "print('abcde'.index('f')) # ValueError\n",
    "print('abcde'.index('ba')) # ValueError"
   ]
  },
  {
   "cell_type": "code",
   "execution_count": null,
   "metadata": {},
   "outputs": [],
   "source": [
    "# どれも同じことを言っている\n",
    "print('abcde'.index('a'))     # 0\n",
    "print('abcde'.index('a',0,5)) # 0\n",
    "print('abcde'[0:5].index('a')) # 0\n",
    "\n",
    "print('abcabcabc'.index('a',1)) # 3\n",
    "print('abcabcabc'.index('a',4,5)) # ValueError"
   ]
  },
  {
   "cell_type": "markdown",
   "metadata": {},
   "source": [
    "## str.isalnum()\n",
    "> 文字列中の全ての文字が英数字で、かつ 1 文字以上あるなら真を、そうでなければ偽を返します。\n",
    ">\n",
    "> 文字 c は以下のいずれかが True を返せば英数字です: c.[isalpha()](#str.isalpha()) 、 c.[isdecimal()](#str.isdecimal()) 、 c.isdigit() 、 c.isnumeric()\n",
    "\n",
    "[公式ページより](https://docs.python.org/ja/3/library/stdtypes.html#str.isalnum)"
   ]
  },
  {
   "cell_type": "code",
   "execution_count": 3,
   "metadata": {},
   "outputs": [
    {
     "name": "stdout",
     "output_type": "stream",
     "text": [
      "\t: False\n",
      "123\t: True\n",
      "12.3\t: False\n",
      "$100\t: False\n",
      "abc\t: True\n",
      "ABC\t: True\n",
      "あいう\t: True\n",
      "浦優太\t: True\n"
     ]
    }
   ],
   "source": [
    "print('\\t:',''.isalnum())               # False\n",
    "print('123\\t:', '123'.isalnum())        # True\n",
    "print('12.3\\t:', '12.3'.isalnum())      # False\n",
    "print('$100\\t:', '$100'.isalnum())      # False\n",
    "print('abc\\t:','abc'.isalnum())         # True\n",
    "print('ABC\\t:','ABC'.isalnum())         # True\n",
    "print('あいう\\t:', 'あいう'.isalnum())  # True\n",
    "print('浦優太\\t:', '浦優太'.isalnum())  # True"
   ]
  },
  {
   "cell_type": "markdown",
   "metadata": {},
   "source": [
    "## str.isalpha()\n",
    "> 文字列中の全ての文字が英字で、かつ 1 文字以上あるなら真を、そうでなければ偽を返します。\n",
    ">\n",
    "> 英字は、Unicode 文字データベースで \"Letter\" として定義されているもので、すなわち、一般カテゴリプロパティ \"Lm\"、 \"Lt\"、 \"Lu\"、 \"Ll\"、 \"Lo\" のいずれかをもつものです。\n",
    ">\n",
    "> なお、これは Unicode 標準で定義されている \"Alphabetic\" プロパティとは異なるものです。\n",
    "\n",
    "[公式ページより](https://docs.python.org/ja/3/library/stdtypes.html#str.isalpha)"
   ]
  },
  {
   "cell_type": "code",
   "execution_count": 4,
   "metadata": {},
   "outputs": [
    {
     "name": "stdout",
     "output_type": "stream",
     "text": [
      "abc: True\n",
      "ABC: True\n",
      "123: False\n",
      "あいう: True\n",
      "ｱｲｳ: True\n",
      "浦優太\t: True\n"
     ]
    }
   ],
   "source": [
    "print('abc:', 'abc'.isalpha())       # True\n",
    "print('ABC:', 'ABC'.isalpha())       # True\n",
    "print('123:', '123'.isalpha())       # False\n",
    "print('あいう:', 'あいう'.isalpha()) # True\n",
    "print('ｱｲｳ:', 'ｱｲｳ'.isalpha())       # True\n",
    "print('浦優太\\t:', '浦優太'.isalpha())  # True"
   ]
  },
  {
   "cell_type": "markdown",
   "metadata": {},
   "source": [
    "## str.isascii()\n",
    ">文字列が空であるか、文字列の全ての文字が ASCII である場合に真を、それ以外の場合に偽を返します。\n",
    ">\n",
    ">ASCII 文字のコードポイントは U+0000-U+007F の範囲にあります。\n",
    ">\n",
    ">バージョン 3.7 で追加.\n",
    "\n",
    "[公式ページより](https://docs.python.org/ja/3/library/stdtypes.html#str.isascii)\n",
    "\n",
    "*ASCII: 英数字、記号のこと \n",
    "\n",
    "versionの関係で参考なし。"
   ]
  },
  {
   "cell_type": "markdown",
   "metadata": {},
   "source": [
    "## str.isdecimal()\n",
    "> 文字列中の全ての文字が十進数字で、かつ 1 文字以上あるなら真を、そうでなければ偽を返します。\n",
    ">\n",
    ">十進数字とは十進数を書くのに使われる文字のことで、たとえば U+0660 (ARABIC-INDIC DIGIT ZERO) なども含みます。\n",
    ">\n",
    ">正式には、Unicode の一般カテゴリ \"Nd\" に含まれる文字を指します。\n",
    "\n",
    "[公式ページより](https://docs.python.org/ja/3/library/stdtypes.html#str.isdecimal)"
   ]
  },
  {
   "cell_type": "code",
   "execution_count": 5,
   "metadata": {},
   "outputs": [
    {
     "name": "stdout",
     "output_type": "stream",
     "text": [
      "abc: False\n",
      "ABC: False\n",
      "123: True\n",
      "１２３: True\n",
      "あいう: False\n",
      "ｱｲｳ: False\n",
      "浦優太\t: False\n",
      "五六七: False\n"
     ]
    }
   ],
   "source": [
    "print('abc:', 'abc'.isdecimal())        # False\n",
    "print('ABC:', 'ABC'.isdecimal())         # False\n",
    "print('123:', '123'.isdecimal())         # True\n",
    "print('１２３:', '１２３'.isdecimal())   # True\n",
    "print('あいう:', 'あいう'.isdecimal())   # False\n",
    "print('ｱｲｳ:', 'ｱｲｳ'.isdecimal())         # False\n",
    "print('浦優太\\t:', '浦優太'.isdecimal()) # False\n",
    "print('五六七:', '五六七'.isdecimal())   # False"
   ]
  },
  {
   "cell_type": "markdown",
   "metadata": {},
   "source": [
    "# 活用方法"
   ]
  },
  {
   "cell_type": "markdown",
   "metadata": {},
   "source": [
    "## 入力のチェック"
   ]
  },
  {
   "cell_type": "code",
   "execution_count": 6,
   "metadata": {},
   "outputs": [
    {
     "name": "stdout",
     "output_type": "stream",
     "text": [
      "数字を入力してください。abc\n",
      "もう一度入力してください。入力値：abc\n",
      "\n",
      "数字を入力してください。123４５６\n",
      "数字が入力されました。入力値：123４５６\n"
     ]
    }
   ],
   "source": [
    "# 数字を入力してほしい\n",
    "while True:\n",
    "    num = input('数字を入力してください。')\n",
    "    if num.isdecimal():\n",
    "        break\n",
    "    else:\n",
    "        print('もう一度入力してください。入力値：%s\\n' % num)\n",
    "        continue\n",
    "print('数字が入力されました。入力値：%s' % num)"
   ]
  }
 ],
 "metadata": {
  "kernelspec": {
   "display_name": "Python 3",
   "language": "python",
   "name": "python3"
  },
  "language_info": {
   "codemirror_mode": {
    "name": "ipython",
    "version": 3
   },
   "file_extension": ".py",
   "mimetype": "text/x-python",
   "name": "python",
   "nbconvert_exporter": "python",
   "pygments_lexer": "ipython3",
   "version": "3.6.6"
  },
  "latex_envs": {
   "LaTeX_envs_menu_present": true,
   "autoclose": false,
   "autocomplete": true,
   "bibliofile": "biblio.bib",
   "cite_by": "apalike",
   "current_citInitial": 1,
   "eqLabelWithNumbers": true,
   "eqNumInitial": 1,
   "hotkeys": {
    "equation": "Ctrl-E",
    "itemize": "Ctrl-I"
   },
   "labels_anchors": false,
   "latex_user_defs": false,
   "report_style_numbering": false,
   "user_envs_cfg": false
  },
  "nbTranslate": {
   "displayLangs": [
    "*"
   ],
   "hotkey": "alt-t",
   "langInMainMenu": true,
   "sourceLang": "en",
   "targetLang": "fr",
   "useGoogleTranslate": true
  },
  "toc": {
   "base_numbering": 1,
   "nav_menu": {},
   "number_sections": true,
   "sideBar": true,
   "skip_h1_title": false,
   "title_cell": "Table of Contents",
   "title_sidebar": "Contents",
   "toc_cell": false,
   "toc_position": {},
   "toc_section_display": true,
   "toc_window_display": false
  },
  "varInspector": {
   "cols": {
    "lenName": 16,
    "lenType": 16,
    "lenVar": 40
   },
   "kernels_config": {
    "python": {
     "delete_cmd_postfix": "",
     "delete_cmd_prefix": "del ",
     "library": "var_list.py",
     "varRefreshCmd": "print(var_dic_list())"
    },
    "r": {
     "delete_cmd_postfix": ") ",
     "delete_cmd_prefix": "rm(",
     "library": "var_list.r",
     "varRefreshCmd": "cat(var_dic_list()) "
    }
   },
   "types_to_exclude": [
    "module",
    "function",
    "builtin_function_or_method",
    "instance",
    "_Feature"
   ],
   "window_display": false
  }
 },
 "nbformat": 4,
 "nbformat_minor": 2
}
