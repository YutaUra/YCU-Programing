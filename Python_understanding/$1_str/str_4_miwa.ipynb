{
 "cells": [
  {
   "cell_type": "markdown",
   "metadata": {},
   "source": [
    "# is〇〇の意味"
   ]
  },
  {
   "cell_type": "markdown",
   "metadata": {},
   "source": [
    "文字列に対して判定する(TRUE,FALSEを返す)のに「'文字列'【は】TRUE(FALSE)だよ」って伝えてくれるときの【は】の意味。合ってる？？"
   ]
  },
  {
   "cell_type": "markdown",
   "metadata": {},
   "source": [
    "# isdigit()"
   ]
  },
  {
   "cell_type": "markdown",
   "metadata": {},
   "source": [
    "(公式)文字列中の全ての文字が数字で、かつ 1 文字以上あるなら真を、そうでなければ偽を返します。ここでの数字とは、十進数字に加えて、[互換上付き数字](https://ja.wikipedia.org/wiki/Unicodeの互換文字)のような特殊操作を必要とする数字を含みます。また 10 を基数とした表現ができない[カローシュティー数字](https://ja.wikipedia.org/wiki/カローシュティー文字)のような体系の文字も含みます。正式には、数字とは、プロパティ値 Numeric_Type=[Digit](https://ejje.weblio.jp/content/digit) または Numeric_Type=[Decimal](https://ejje.weblio.jp/content/decimal) を持つ文字です。"
   ]
  },
  {
   "cell_type": "code",
   "execution_count": 1,
   "metadata": {},
   "outputs": [
    {
     "name": "stdout",
     "output_type": "stream",
     "text": [
      "100→\t True\n",
      "１００ →\t True\n",
      "1.00→\t False\n",
      "-100→\t False\n",
      "百→\t False\n",
      "①⓪⓪→\t True\n",
      "suujijanai→\t False\n",
      "100yen→\t False\n",
      " →\t False\n"
     ]
    }
   ],
   "source": [
    "print('100→\\t' , '100'.isdigit())  # 数字(半角)\n",
    "print('１００ →\\t' , '１００'.isdigit())   # 全角\n",
    "print('1.00→\\t' , '1.00'.isdigit())   # 小数(点が数字じゃないから)\n",
    "print('-100→\\t' , '-100'.isdigit())   # マイナス(符号が数字じゃないから)\n",
    "print('百→\\t' , '百'.isdigit())   # 漢数字(数字じゃないから)\n",
    "print('①⓪⓪→\\t' , '①⓪⓪'.isdigit())    # これは数字\n",
    "print('suujijanai→\\t' , 'suujijanai'.isdigit())   # 文字\n",
    "print('100yen→\\t' , '100yen'.isdigit())   # 数字と文字\n",
    "print(' →\\t' , ' '.isdigit())   # 空白"
   ]
  },
  {
   "cell_type": "markdown",
   "metadata": {},
   "source": [
    "メモ\n",
    "\n",
    "・[エスケープシーケンスのハナシ](https://www.javadrive.jp/python/string/index2.html)\n",
    "\n",
    "・[出力のハナシ](https://programming-study.com/technology/python-print/)\n"
   ]
  },
  {
   "cell_type": "code",
   "execution_count": 2,
   "metadata": {},
   "outputs": [
    {
     "name": "stdout",
     "output_type": "stream",
     "text": [
      "100 → True\n",
      "１００ → True\n",
      "1.00 → False\n",
      "百 → False\n",
      "①⓪⓪ → True\n",
      "suujijanai → False\n"
     ]
    }
   ],
   "source": [
    "totoro = ['100' , '１００' , '1.00' , '百' , '①⓪⓪' , 'suujijanai' , '100yen' , ' ']\n",
    "for i in range(0,6):\n",
    "    print(totoro[i] , '→' ,  totoro[i].isdigit())\n",
    "# やってみてできて嬉しかったから載せた♪"
   ]
  },
  {
   "cell_type": "markdown",
   "metadata": {},
   "source": [
    "print()を使わずにこれ↓だと一つしか出てくれないのはなんで？"
   ]
  },
  {
   "cell_type": "code",
   "execution_count": 3,
   "metadata": {},
   "outputs": [
    {
     "data": {
      "text/plain": [
       "False"
      ]
     },
     "execution_count": 3,
     "metadata": {},
     "output_type": "execute_result"
    }
   ],
   "source": [
    "'100'.isdigit()\n",
    "'suujijanai'.isdigit()"
   ]
  },
  {
   "cell_type": "markdown",
   "metadata": {},
   "source": [
    "# ⇒ isidigit() は、『数字』のみで成る文字列かどうかを教えてくれる！"
   ]
  },
  {
   "cell_type": "markdown",
   "metadata": {},
   "source": [
    "# isidentifier()"
   ]
  },
  {
   "cell_type": "markdown",
   "metadata": {},
   "source": [
    "(公式)文字列が、 識別子 (identifier) およびキーワード (keyword) 節の言語定義における有効な識別子であれば真を返します。\n",
    "def や class のような予約済みの識別子か判定するには、keyword.iskeyword() を使ってください。"
   ]
  },
  {
   "cell_type": "markdown",
   "metadata": {},
   "source": [
    "[(note.nkmk.me](https://note.nkmk.me/python-identifier-naming-rule/))Pythonにおいて、識別子（変数、関数、クラスなどの名前）はルールに従って決める必要がある。ルールに沿わない名前は識別子として使えずエラーとなる。\n",
    "基本的には、\n",
    "\n",
    "・大文字小文字のアルファベットと数字、アンダースコアが使える\n",
    "\n",
    "・先頭（一文字目）に数字は使えない\n",
    "\n",
    "ということを覚えておけばOK。漢字なども使えるが、あえて使う必要はない。"
   ]
  },
  {
   "cell_type": "code",
   "execution_count": 1,
   "metadata": {},
   "outputs": [
    {
     "name": "stdout",
     "output_type": "stream",
     "text": [
      "name→\t True\n",
      "no_1→\t True\n",
      "no.1→\t False\n",
      "no 1→\t False\n",
      "1ban→\t False\n",
      "一番→\t True\n"
     ]
    }
   ],
   "source": [
    "print('name→\\t' , 'name'.isidentifier())   #　アルファベット\n",
    "print('no_1→\\t'  ,'no_1'.isidentifier())   #　アンダーバー\n",
    "print('no.1→\\t' , 'no.1'.isidentifier())   #　点\n",
    "print('no 1→\\t' , 'no 1'.isidentifier())   #　空白\n",
    "print('1ban→\\t' , '1ban'.isidentifier())   #　先頭に数字\n",
    "print('一番→\\t' , '一番'.isidentifier())   #　漢字"
   ]
  },
  {
   "cell_type": "markdown",
   "metadata": {},
   "source": [
    "# ⇒isidentifier() は、識別子(名前)として使えるかを教えてくれる！"
   ]
  },
  {
   "cell_type": "markdown",
   "metadata": {},
   "source": [
    "# islower()"
   ]
  },
  {
   "cell_type": "markdown",
   "metadata": {},
   "source": [
    "(公式)文字列中の大小文字の区別のある文字全てが小文字で、かつ大小文字の区別のある文字が 1 文字以上あるなら真を、そうでなければ偽を返します。"
   ]
  },
  {
   "cell_type": "code",
   "execution_count": 5,
   "metadata": {},
   "outputs": [
    {
     "name": "stdout",
     "output_type": "stream",
     "text": [
      "komoji:\t True\n",
      "OOMOJI:\t False\n",
      "OOMOJIkomoji:\t False\n",
      "komoji123:\t True\n",
      "123:\t False\n",
      "ひらがな:\t False\n",
      "ß:\t True\n",
      " :\t False\n"
     ]
    }
   ],
   "source": [
    "print('komoji:\\t' , 'komoji'.islower())   # 小文字\n",
    "print('OOMOJI:\\t' , 'OOMOJI'.islower())   # 大文字\n",
    "print('OOMOJIkomoji:\\t' , 'OOMOJIkomoji'.islower())   # 大文字と小文字\n",
    "print('komoji123:\\t' , 'komoji123'.islower())   # 数字があるけど、大小区別のある文字(アルファベットとか)は小文字のみ\n",
    "print('123:\\t' , '123'.islower())   # 数字\n",
    "print('ひらがな:\\t' , 'ひらがな'.islower())  # ひらがながあるけど、大小区別のある文字(アルファベットとか)は小文字のみ\n",
    "print('ß:\\t' , 'ß'.islower())   # ちなみに前回casefold()のところで出てきた「ß」はドイツ語の小文字なのでTrue\n",
    "print(' :\\t' , ' '.islower())   # 空白"
   ]
  },
  {
   "cell_type": "markdown",
   "metadata": {},
   "source": [
    "# ⇒islower() は、文字列中に大文字が入っていないかを教えてくれる！\n",
    "### 　(数字や日本語は大文字小文字の区別がないので弾かれない)"
   ]
  },
  {
   "cell_type": "markdown",
   "metadata": {},
   "source": [
    "# isnumeric()"
   ]
  },
  {
   "cell_type": "markdown",
   "metadata": {},
   "source": [
    "(公式)文字列中の全ての文字が数を表す文字で、かつ 1 文字以上あるなら真を、そうでなければ偽を返します。数を表す文字は、数字と、Unicode の数値プロパティを持つ全ての文字を含みます。たとえば U+2155 (VULGAR FRACTION ONE FIFTH)。正式には、数を表す文字は、プロパティ値 Numeric_Type=Digit、 Numeric_Type=Decimal または Numeric_Type=Numeric を持つものです。"
   ]
  },
  {
   "cell_type": "code",
   "execution_count": 2,
   "metadata": {},
   "outputs": [
    {
     "name": "stdout",
     "output_type": "stream",
     "text": [
      "100:\t True\n",
      "１００:\t True\n",
      "1.00:\t False\n",
      "-100:\t False\n",
      "百:\t True\n",
      "①⓪⓪:\t True\n",
      "π:\t False\n",
      " :\t False\n"
     ]
    }
   ],
   "source": [
    "print('100:\\t' , '100'.isnumeric())   # 数字(半角)\n",
    "print('１００:\\t' , '１００'.isnumeric())   # 全角\n",
    "print('1.00:\\t' , '1.00'.isnumeric())   # 小数(点が数を表す文字じゃないから)\n",
    "print('-100:\\t' , '-100'.isnumeric())   # マイナス(符号が数を表す文字じゃないから)\n",
    "print('百:\\t' , '百'.isnumeric())   # 漢数字(数を表す文字！！)\n",
    "print('①⓪⓪:\\t' , '①⓪⓪'.isnumeric())   # これは数字\n",
    "print('π:\\t' , 'π'.isnumeric())   # ぱい。これは、、、数を表す文字の代表選手じゃないの！？　3.14、、、って小数点が含まれるからダメとか？\n",
    "print(' :\\t' , ' '.isnumeric())   # 空白"
   ]
  },
  {
   "cell_type": "markdown",
   "metadata": {},
   "source": [
    "# ⇒ isnumeric() は、『数を表す文字』のみで成る文字列かどうかを教えてくれる！"
   ]
  },
  {
   "cell_type": "markdown",
   "metadata": {},
   "source": [
    "# isprintable()"
   ]
  },
  {
   "cell_type": "markdown",
   "metadata": {},
   "source": [
    "(公式)文字列中のすべての文字が印字可能であるか、文字列が空であれば真を、そうでなければ偽を返します。非印字可能文字は、 Unicode 文字データベースで \"Other\" または \"Separator\" と定義されている文字の、印字可能と見なされる [ASCII](http://e-words.jp/w/ASCII.html) [space (0x20)](http://www9.plala.or.jp/sgwr-t/c_sub/ascii.html) 以外のものです。(なお、この文脈での印字可能文字は、文字列に repr() が呼び出されるときにエスケープすべきでない文字のことです。これは sys.stdout や sys.stderr に書き込まれる文字列の操作とは関係ありません。)"
   ]
  },
  {
   "cell_type": "code",
   "execution_count": 7,
   "metadata": {},
   "outputs": [
    {
     "name": "stdout",
     "output_type": "stream",
     "text": [
      "typhoon19号:\t True\n",
      " :\t True\n",
      "ܔ:\t True\n",
      "🍒:\t True\n"
     ]
    }
   ],
   "source": [
    "print('typhoon19号:\\t' , 'typhoon19号'.isprintable())   # アルファベットとか日本語、数字（ASCII）\n",
    "print(' :\\t' , ' '.isprintable())   # 空白\n",
    "print('ܔ:\\t' , 'ܔ'.isprintable())   # Unicode\n",
    "print('🍒:\\t' , '🍒'.isprintable())   # 絵文字"
   ]
  },
  {
   "cell_type": "markdown",
   "metadata": {},
   "source": [
    "え、てか印字可能でないものってそもそも打ち込めないのでは？？"
   ]
  },
  {
   "cell_type": "markdown",
   "metadata": {},
   "source": [
    "# ⇒isprintable() は、文字列が印字できる文字のみで成るかどうかを教えてくれる！\n",
    "###     空白も印字できるのでTrue"
   ]
  },
  {
   "cell_type": "markdown",
   "metadata": {},
   "source": [
    "# 活用方法"
   ]
  },
  {
   "cell_type": "code",
   "execution_count": 3,
   "metadata": {},
   "outputs": [
    {
     "name": "stdout",
     "output_type": "stream",
     "text": [
      "平成は（　）年まであった。空欄を埋めてね。30\n",
      "ブッブー！ 回答:\t 30\n",
      "平成は（　）年まであった。空欄を埋めてね。31年\n",
      "半角全角数字か漢数字のみで答えてね! 回答:\t 31年\n",
      "平成は（　）年まであった。空欄を埋めてね。三十一\n",
      "ピンポーン！ 回答:\t 三十一\n",
      "答えてくれてありがとう！\n"
     ]
    }
   ],
   "source": [
    "# 平成って何年まであった？に対してのコタエ\n",
    "kotae = ['31' , '３１' , '三一' , '三十一']        # ㉛とかもいけるけど今回は弾く\n",
    "while True:\n",
    "    toi = input('平成は（　）年まであった。空欄を埋めてね。')\n",
    "    if toi in kotae:\n",
    "        print('ピンポーン！ 回答:\\t' , toi)\n",
    "        break\n",
    "    elif toi.isnumeric():                             # ここより上でTrueなものはここまで降りてこない\n",
    "        print('ブッブー！ 回答:\\t' , toi)\n",
    "    else:\n",
    "        print('半角全角数字か漢数字のみで答えてね! 回答:\\t' , toi)\n",
    "print('答えてくれてありがとう！')"
   ]
  },
  {
   "cell_type": "markdown",
   "metadata": {},
   "source": [
    "メモ\n",
    "\n",
    "・[while文のハナシ](https://udemy.benesse.co.jp/development/web/python-while.html)\n",
    "\n",
    "・[if文のハナシ](https://www.sejuku.net/blog/16007#if_else)\n",
    "\n",
    "・[リストに含まれるハナシ](https://pg-chain.com/python-list-in)\n",
    "\n",
    "・[or,and,notのハナシ](https://www.sejuku.net/blog/20674)"
   ]
  }
 ],
 "metadata": {
  "kernelspec": {
   "display_name": "Python 3",
   "language": "python",
   "name": "python3"
  },
  "language_info": {
   "codemirror_mode": {
    "name": "ipython",
    "version": 3
   },
   "file_extension": ".py",
   "mimetype": "text/x-python",
   "name": "python",
   "nbconvert_exporter": "python",
   "pygments_lexer": "ipython3",
   "version": "3.7.0"
  }
 },
 "nbformat": 4,
 "nbformat_minor": 2
}
