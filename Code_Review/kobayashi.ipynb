{
 "cells": [
  {
   "cell_type": "markdown",
   "metadata": {},
   "source": [
    "# 家計簿を作りたい\n",
    "### 作成日:2019/11/16\n",
    "### 更新日:同上"
   ]
  },
  {
   "cell_type": "markdown",
   "metadata": {},
   "source": [
    "## 目的\n",
    "### アルバイトの勤務開始と終了の時間を入力することでその日稼いだお金を計算し、今いくら稼いでるのかわかるようにしつつ、出費なども計算する。それにより貯金額を正確に把握できるようにしたい。"
   ]
  },
  {
   "cell_type": "markdown",
   "metadata": {},
   "source": [
    "## 具体的に\n",
    "### 必要なもの\n",
    "### ①ファーストキッチンの働いた時刻を入力するセル\n",
    "### ②ベイスターズで働いた時刻を入力するセル\n",
    "### ③親からもらえたおこづかいを入力するセル(できれば商品券と現金は別にカウントしたい)\n",
    "### ④出費を入力するセル\n",
    "\n",
    "#### 11/16時点で思いついたのはこれくらい。追加の可能性あり。"
   ]
  }
 ],
 "metadata": {
  "kernelspec": {
   "display_name": "Python 3",
   "language": "python",
   "name": "python3"
  },
  "language_info": {
   "codemirror_mode": {
    "name": "ipython",
    "version": 3
   },
   "file_extension": ".py",
   "mimetype": "text/x-python",
   "name": "python",
   "nbconvert_exporter": "python",
   "pygments_lexer": "ipython3",
   "version": "3.7.3"
  }
 },
 "nbformat": 4,
 "nbformat_minor": 2
}
