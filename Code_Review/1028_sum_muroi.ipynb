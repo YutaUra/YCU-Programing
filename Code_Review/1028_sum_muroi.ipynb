{
 "cells": [
  {
   "cell_type": "markdown",
   "metadata": {},
   "source": [
    "最短のコード"
   ]
  },
  {
   "cell_type": "code",
   "execution_count": 6,
   "metadata": {},
   "outputs": [
    {
     "name": "stdout",
     "output_type": "stream",
     "text": [
      "2014\n"
     ]
    }
   ],
   "source": [
    "a=range(5,100)\n",
    "print(sum(filter(lambda x: x%5==2 or x%5==4, a)))\n",
    "#filter(a):条件aを満たすかで選別"
   ]
  },
  {
   "cell_type": "code",
   "execution_count": 3,
   "metadata": {},
   "outputs": [
    {
     "name": "stdout",
     "output_type": "stream",
     "text": [
      "2014\n"
     ]
    }
   ],
   "source": [
    "a=range(5,100)\n",
    "print(sum([i for i in range(5,100) if i%5==2 or i%5==4]))"
   ]
  },
  {
   "cell_type": "code",
   "execution_count": 10,
   "metadata": {},
   "outputs": [
    {
     "data": {
      "text/plain": [
       "2014"
      ]
     },
     "execution_count": 10,
     "metadata": {},
     "output_type": "execute_result"
    }
   ],
   "source": [
    "#上記と同様（非推奨）\n",
    "b=[]\n",
    "for i in range(5,100):\n",
    "    if i%5==2 or i%5==4:\n",
    "        b.append(i)\n",
    "sum(b)"
   ]
  },
  {
   "cell_type": "markdown",
   "metadata": {},
   "source": [
    "lambda 引数 :　返り値  \n",
    "(=def function(引数):  \n",
    "    return 返り値)  \n",
    "無名関数(関数名をつけずに手軽にできる)"
   ]
  },
  {
   "cell_type": "code",
   "execution_count": 9,
   "metadata": {},
   "outputs": [
    {
     "name": "stdout",
     "output_type": "stream",
     "text": [
      "偶\n"
     ]
    }
   ],
   "source": [
    "thouhann=lambda x:print('奇') if x%2==1 else print('偶')\n",
    "thouhann(110)"
   ]
  },
  {
   "cell_type": "code",
   "execution_count": 12,
   "metadata": {},
   "outputs": [
    {
     "name": "stdout",
     "output_type": "stream",
     "text": [
      "奇\n"
     ]
    }
   ],
   "source": [
    "#同じ関数\n",
    "def thouhann１(x):\n",
    "    if x%2==1:\n",
    "        print('奇') \n",
    "    else:\n",
    "        print('偶')\n",
    "thouhann1(111)"
   ]
  },
  {
   "cell_type": "code",
   "execution_count": null,
   "metadata": {},
   "outputs": [],
   "source": []
  }
 ],
 "metadata": {
  "kernelspec": {
   "display_name": "Python 3",
   "language": "python",
   "name": "python3"
  },
  "language_info": {
   "codemirror_mode": {
    "name": "ipython",
    "version": 3
   },
   "file_extension": ".py",
   "mimetype": "text/x-python",
   "name": "python",
   "nbconvert_exporter": "python",
   "pygments_lexer": "ipython3",
   "version": "3.7.3"
  }
 },
 "nbformat": 4,
 "nbformat_minor": 2
}
